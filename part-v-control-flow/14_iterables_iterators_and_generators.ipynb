{
  "nbformat": 4,
  "nbformat_minor": 0,
  "metadata": {
    "colab": {
      "name": "14-iterables-iterators-and-generators.ipynb",
      "provenance": [],
      "toc_visible": true,
      "authorship_tag": "ABX9TyP9MfMdL1HzgzfReeHcnTYe",
      "include_colab_link": true
    },
    "kernelspec": {
      "name": "python3",
      "display_name": "Python 3"
    }
  },
  "cells": [
    {
      "cell_type": "markdown",
      "metadata": {
        "id": "view-in-github",
        "colab_type": "text"
      },
      "source": [
        "<a href=\"https://colab.research.google.com/github/rahiakela/fluent-python-book-practice/blob/master/part-v-control-flow/14_iterables_iterators_and_generators.ipynb\" target=\"_parent\"><img src=\"https://colab.research.google.com/assets/colab-badge.svg\" alt=\"Open In Colab\"/></a>"
      ]
    },
    {
      "cell_type": "markdown",
      "metadata": {
        "id": "36lBmkl63qQr"
      },
      "source": [
        "# Iterables, iterators and generators"
      ]
    },
    {
      "cell_type": "markdown",
      "metadata": {
        "id": "HAvwFxvG8AGb"
      },
      "source": [
        "Iteration is fundamental to data processing. And when scanning datasets that don’t fit in memory, we need a way to fetch the items lazily, that is, one at a time and on demand. This is what the Iterator pattern is about.\n",
        "\n",
        "Python does not have macros like Lisp, so abstracting away the Iterator pattern required changing the language: the yield keyword was added\n",
        "in Python 2.2 (2001). The yield keyword allows the construction of generators, which work as iterators.\n",
        "\n",
        "Python 3 uses generators in many places. Even the range() built-in now returns a generator-like object instead of full-blown lists like before. If you must build a list from range, you have to be explicit, e.g. list(range(100)).\n",
        "\n",
        "Every collection in Python is iterable, and iterators are used internally to support:\n",
        "\n",
        "- for loops;\n",
        "- collection types construction and extension;\n",
        "- looping over text files line by line;\n",
        "- list, dict and set comprehensions;\n",
        "- tuple unpacking;\n",
        "- unpacking actual parameters with * in function calls."
      ]
    },
    {
      "cell_type": "markdown",
      "metadata": {
        "id": "yuvSN2jC87sA"
      },
      "source": [
        "## Sentence take #1: a sequence of words"
      ]
    },
    {
      "cell_type": "markdown",
      "metadata": {
        "id": "OfdjhfBH88s7"
      },
      "source": [
        "We’ll start our exploration of iterables by implementing a Sentence class: you give its constructor a string with some text, and then you can iterate word by word."
      ]
    },
    {
      "cell_type": "code",
      "metadata": {
        "id": "gllLvLV29gaV"
      },
      "source": [
        "import re\n",
        "import reprlib"
      ],
      "execution_count": 1,
      "outputs": []
    },
    {
      "cell_type": "code",
      "metadata": {
        "id": "vkX8DsLl9mKJ"
      },
      "source": [
        "RE_WORD = re.compile(\"\\w+\")\n",
        "\n",
        "class Sentence:\n",
        "\n",
        "  def __init__(self, text):\n",
        "    self.text = text\n",
        "    # returns a list with all non-overlapping matches of the regular expression, as a list of strings.\n",
        "    self.words = RE_WORD.findall(text)\n",
        "\n",
        "  def __getitem__(self, index):\n",
        "    # self.words holds the result of .findall, so we simply return the word at the given index.\n",
        "    return self.words[index]\n",
        "\n",
        "  # To complete the sequence protocol, we implement __len__ — but it is not needed to make an iterable object.\n",
        "  def __len__(self):\n",
        "    return len(self.words)\n",
        "\n",
        "  def __repr__(self):\n",
        "    # generate abbreviated string representations of data structures that can be very large\n",
        "    return \"Sentence(%s)\" % reprlib.repr(self.text)"
      ],
      "execution_count": 2,
      "outputs": []
    },
    {
      "cell_type": "markdown",
      "metadata": {
        "id": "KKW6smmj-5_O"
      },
      "source": [
        "By default, reprlib.repr limits the generated string to 30 characters."
      ]
    },
    {
      "cell_type": "code",
      "metadata": {
        "id": "XY9HqWAX-6r-",
        "outputId": "faa7417e-c2e5-41db-e5f8-c502eca97a1e",
        "colab": {
          "base_uri": "https://localhost:8080/",
          "height": 35
        }
      },
      "source": [
        "s = Sentence('\"The time has come,\" the Walrus said,')\n",
        "s"
      ],
      "execution_count": 3,
      "outputs": [
        {
          "output_type": "execute_result",
          "data": {
            "text/plain": [
              "Sentence('\"The time ha... Walrus said,')"
            ]
          },
          "metadata": {
            "tags": []
          },
          "execution_count": 3
        }
      ]
    },
    {
      "cell_type": "code",
      "metadata": {
        "id": "cg9E2_-l_KuB",
        "outputId": "daae29d6-810f-4c04-e172-6700cb4965de",
        "colab": {
          "base_uri": "https://localhost:8080/",
          "height": 141
        }
      },
      "source": [
        "# Sentence instances are iterable\n",
        "for word in s:\n",
        "  print(word)"
      ],
      "execution_count": 4,
      "outputs": [
        {
          "output_type": "stream",
          "text": [
            "The\n",
            "time\n",
            "has\n",
            "come\n",
            "the\n",
            "Walrus\n",
            "said\n"
          ],
          "name": "stdout"
        }
      ]
    },
    {
      "cell_type": "code",
      "metadata": {
        "id": "SvCkMMer_c6m",
        "outputId": "36a9627b-39ae-455f-d3b0-4212a9b46f16",
        "colab": {
          "base_uri": "https://localhost:8080/",
          "height": 35
        }
      },
      "source": [
        "# Being iterable, Sentence objects can be used as input to build lists and other iterable types.\n",
        "list(s)"
      ],
      "execution_count": 5,
      "outputs": [
        {
          "output_type": "execute_result",
          "data": {
            "text/plain": [
              "['The', 'time', 'has', 'come', 'the', 'Walrus', 'said']"
            ]
          },
          "metadata": {
            "tags": []
          },
          "execution_count": 5
        }
      ]
    },
    {
      "cell_type": "code",
      "metadata": {
        "id": "wF0embBi_nV8",
        "outputId": "a97b3fa2-1c75-4969-c163-487b65f1c64a",
        "colab": {
          "base_uri": "https://localhost:8080/",
          "height": 35
        }
      },
      "source": [
        "# because it’s also a sequence, so you can get words by index\n",
        "s[0]"
      ],
      "execution_count": 6,
      "outputs": [
        {
          "output_type": "execute_result",
          "data": {
            "application/vnd.google.colaboratory.intrinsic+json": {
              "type": "string"
            },
            "text/plain": [
              "'The'"
            ]
          },
          "metadata": {
            "tags": []
          },
          "execution_count": 6
        }
      ]
    },
    {
      "cell_type": "code",
      "metadata": {
        "id": "7X_BnSjT_30v",
        "outputId": "8865b2b0-fec2-4b16-d249-ed688e317b86",
        "colab": {
          "base_uri": "https://localhost:8080/",
          "height": 35
        }
      },
      "source": [
        "s[5]"
      ],
      "execution_count": 7,
      "outputs": [
        {
          "output_type": "execute_result",
          "data": {
            "application/vnd.google.colaboratory.intrinsic+json": {
              "type": "string"
            },
            "text/plain": [
              "'Walrus'"
            ]
          },
          "metadata": {
            "tags": []
          },
          "execution_count": 7
        }
      ]
    },
    {
      "cell_type": "code",
      "metadata": {
        "id": "ac_ujZCB_5XP",
        "outputId": "8faf5b6c-3fe5-4bca-eb7c-c1a749e0b261",
        "colab": {
          "base_uri": "https://localhost:8080/",
          "height": 35
        }
      },
      "source": [
        "s[-1]"
      ],
      "execution_count": 8,
      "outputs": [
        {
          "output_type": "execute_result",
          "data": {
            "application/vnd.google.colaboratory.intrinsic+json": {
              "type": "string"
            },
            "text/plain": [
              "'said'"
            ]
          },
          "metadata": {
            "tags": []
          },
          "execution_count": 8
        }
      ]
    },
    {
      "cell_type": "code",
      "metadata": {
        "id": "lQmQp6fe_7IK",
        "outputId": "4ed672c9-9065-4cb4-cfa7-163bdcbde162",
        "colab": {
          "base_uri": "https://localhost:8080/",
          "height": 35
        }
      },
      "source": [
        "s[-2]"
      ],
      "execution_count": 9,
      "outputs": [
        {
          "output_type": "execute_result",
          "data": {
            "application/vnd.google.colaboratory.intrinsic+json": {
              "type": "string"
            },
            "text/plain": [
              "'Walrus'"
            ]
          },
          "metadata": {
            "tags": []
          },
          "execution_count": 9
        }
      ]
    },
    {
      "cell_type": "markdown",
      "metadata": {
        "id": "BT7FqHtSAFEP"
      },
      "source": [
        "### Why sequences are iterable: the iter function"
      ]
    },
    {
      "cell_type": "markdown",
      "metadata": {
        "id": "xMRTjyHhAGBy"
      },
      "source": [
        "Every Python programmer knows that sequences are iterable. Now we’ll see precisely why.\n",
        "\n",
        "Whenever the interpreter needs to iterate over an object x, it automatically calls iter(x).\n",
        "\n",
        "The iter built-in function:\n",
        "\n",
        "- Checks whether the object implements, __iter__, and calls that to obtain an iterator;\n",
        "- If __iter__ is not implemented, but __getitem__ is implemented, Python creates an iterator that attempts to fetch items in order, starting from index 0 (zero);\n",
        "- If that fails, Python raises TypeError, usually saying \"'C' object is not iterable\", where C is the class of the target object.\n",
        "\n",
        "That is why any Python sequence is iterable: they all implement `__getitem__`. In fact, the standard sequences also implement `__iter__`, and yours should too, because the special handling of `__getitem__` exists for backward compatibility reasons and may be gone in the future.\n",
        "\n",
        "This is an extreme form of duck typing: an object is considered iterable not only when it implements the special method `__iter__`, but also when it implements `__getitem__`, as long as `__getitem__` accepts\n",
        "int keys starting from 0.\n",
        "\n",
        "In the goose-typing approach, the definition for an iterable is simpler but not as flexible: an object is considered iterable if it implements the `__iter__` method. No subclassing or registration is required, because abc.Iterable implements the `__subclasshook__`."
      ]
    },
    {
      "cell_type": "code",
      "metadata": {
        "id": "X4J2CRZFBhaP"
      },
      "source": [
        "class Foo:\n",
        "  def __iter__(self):\n",
        "    pass"
      ],
      "execution_count": 10,
      "outputs": []
    },
    {
      "cell_type": "code",
      "metadata": {
        "id": "THErdMs5_9EB"
      },
      "source": [
        "from collections import abc"
      ],
      "execution_count": 11,
      "outputs": []
    },
    {
      "cell_type": "code",
      "metadata": {
        "id": "cgQpgF0ZB15x",
        "outputId": "adaaf72c-55b0-47c4-d425-3befd8201395",
        "colab": {
          "base_uri": "https://localhost:8080/",
          "height": 35
        }
      },
      "source": [
        "issubclass(Foo, abc.Iterable)"
      ],
      "execution_count": 12,
      "outputs": [
        {
          "output_type": "execute_result",
          "data": {
            "text/plain": [
              "True"
            ]
          },
          "metadata": {
            "tags": []
          },
          "execution_count": 12
        }
      ]
    },
    {
      "cell_type": "code",
      "metadata": {
        "id": "RLiRx1DAB7eo",
        "outputId": "2edc4d75-6fda-4dee-b164-f374a7a7a8eb",
        "colab": {
          "base_uri": "https://localhost:8080/",
          "height": 35
        }
      },
      "source": [
        "f = Foo()\n",
        "isinstance(f, abc.Iterable)"
      ],
      "execution_count": 13,
      "outputs": [
        {
          "output_type": "execute_result",
          "data": {
            "text/plain": [
              "True"
            ]
          },
          "metadata": {
            "tags": []
          },
          "execution_count": 13
        }
      ]
    },
    {
      "cell_type": "markdown",
      "metadata": {
        "id": "GGVC0qOPCFLZ"
      },
      "source": [
        "However, note that our initial Sentence class does not pass the issubclass(Sentence, abc.Iterable) test, even though it is iterable in practice."
      ]
    },
    {
      "cell_type": "markdown",
      "metadata": {
        "id": "0s1PM0fxCNjY"
      },
      "source": [
        "### Iterables versus iterators"
      ]
    },
    {
      "cell_type": "markdown",
      "metadata": {
        "id": "xYLAK_LRCOW6"
      },
      "source": [
        "It’s important to be clear about the relationship between iterables and iterators: Python obtains iterators from iterables.\n",
        "\n",
        "Here is a simple for loop iterating over a str. The str 'ABC' is the iterable here. You don’t see it, but there is an iterator behind the curtain:"
      ]
    },
    {
      "cell_type": "code",
      "metadata": {
        "id": "Lm5I-e7gCBbD",
        "outputId": "5ea1def7-d6bd-41dc-9d73-935fb36809e0",
        "colab": {
          "base_uri": "https://localhost:8080/",
          "height": 70
        }
      },
      "source": [
        "s = 'ABC'\n",
        "for char in s:\n",
        "  print(char)"
      ],
      "execution_count": 14,
      "outputs": [
        {
          "output_type": "stream",
          "text": [
            "A\n",
            "B\n",
            "C\n"
          ],
          "name": "stdout"
        }
      ]
    },
    {
      "cell_type": "markdown",
      "metadata": {
        "id": "iDji75D_C4sz"
      },
      "source": [
        "If there was no for statement and we had to emulate the for machinery by hand with a while loop, this is what we’d have to write:"
      ]
    },
    {
      "cell_type": "code",
      "metadata": {
        "id": "DBgWuJaJCyhB",
        "outputId": "3ff90570-7e9f-467d-b7b0-f40825613e8b",
        "colab": {
          "base_uri": "https://localhost:8080/",
          "height": 70
        }
      },
      "source": [
        "s = 'ABC'\n",
        "# Build an iterator it from the iterable.\n",
        "it = iter(s)\n",
        "while True:\n",
        "  try:\n",
        "    # Repeatedly call next on the iterator to obtain the next item.\n",
        "    print(next(it))\n",
        "  except StopIteration:  # The iterator raises StopIteration when there are no further items.\n",
        "    # Release reference to it — the iterator object is discarded.\n",
        "    del it\n",
        "    break"
      ],
      "execution_count": 15,
      "outputs": [
        {
          "output_type": "stream",
          "text": [
            "A\n",
            "B\n",
            "C\n"
          ],
          "name": "stdout"
        }
      ]
    },
    {
      "cell_type": "markdown",
      "metadata": {
        "id": "mEmmzy3PDhR8"
      },
      "source": [
        "StopIteration signals that the iterator is exhausted. This exception is handled internally in for loops and other iteration contexts like list comprehensions, tuple unpacking etc.\n",
        "\n",
        "The standard interface for an iterator has two methods:\n",
        "\n",
        "- `__next__`: Returns the next available item, raising StopIteration when there are no more items.\n",
        "- `__iter__`: Returns self; this allows iterators to be used where an iterable is expected, for example, in a for loop."
      ]
    },
    {
      "cell_type": "code",
      "metadata": {
        "id": "64prLZmLDcEs"
      },
      "source": [
        "s3 = Sentence(\"Pig and Pepper\")\n",
        "\n",
        "# Obtain an iterator from s3.\n",
        "it = iter(s3)"
      ],
      "execution_count": 16,
      "outputs": []
    },
    {
      "cell_type": "code",
      "metadata": {
        "id": "HD4wwX2SENPk",
        "outputId": "0190e4c6-26ca-4fa9-e1b6-32ec7c3a560d",
        "colab": {
          "base_uri": "https://localhost:8080/",
          "height": 35
        }
      },
      "source": [
        "# next(it) fetches the next word.\n",
        "next(it)"
      ],
      "execution_count": 17,
      "outputs": [
        {
          "output_type": "execute_result",
          "data": {
            "application/vnd.google.colaboratory.intrinsic+json": {
              "type": "string"
            },
            "text/plain": [
              "'Pig'"
            ]
          },
          "metadata": {
            "tags": []
          },
          "execution_count": 17
        }
      ]
    },
    {
      "cell_type": "code",
      "metadata": {
        "id": "8rvVhByBEST_",
        "outputId": "7663c0ff-fdcb-4b23-a902-7ce54ae54035",
        "colab": {
          "base_uri": "https://localhost:8080/",
          "height": 35
        }
      },
      "source": [
        "next(it)"
      ],
      "execution_count": 18,
      "outputs": [
        {
          "output_type": "execute_result",
          "data": {
            "application/vnd.google.colaboratory.intrinsic+json": {
              "type": "string"
            },
            "text/plain": [
              "'and'"
            ]
          },
          "metadata": {
            "tags": []
          },
          "execution_count": 18
        }
      ]
    },
    {
      "cell_type": "code",
      "metadata": {
        "id": "0abhq3ZQEUe4",
        "outputId": "e77430af-9755-459d-c707-33de0f5221e5",
        "colab": {
          "base_uri": "https://localhost:8080/",
          "height": 35
        }
      },
      "source": [
        "next(it)"
      ],
      "execution_count": 19,
      "outputs": [
        {
          "output_type": "execute_result",
          "data": {
            "application/vnd.google.colaboratory.intrinsic+json": {
              "type": "string"
            },
            "text/plain": [
              "'Pepper'"
            ]
          },
          "metadata": {
            "tags": []
          },
          "execution_count": 19
        }
      ]
    },
    {
      "cell_type": "code",
      "metadata": {
        "id": "hDxgteXMEV65",
        "outputId": "104a3518-2a2b-4f55-e13d-e6697165fcc7",
        "colab": {
          "base_uri": "https://localhost:8080/",
          "height": 185
        }
      },
      "source": [
        "# There are no more words, so the iterator raises a StopIteration exception.\n",
        "next(it)"
      ],
      "execution_count": 20,
      "outputs": [
        {
          "output_type": "error",
          "ename": "StopIteration",
          "evalue": "ignored",
          "traceback": [
            "\u001b[0;31m---------------------------------------------------------------------------\u001b[0m",
            "\u001b[0;31mStopIteration\u001b[0m                             Traceback (most recent call last)",
            "\u001b[0;32m<ipython-input-20-f3db65ede488>\u001b[0m in \u001b[0;36m<module>\u001b[0;34m()\u001b[0m\n\u001b[1;32m      1\u001b[0m \u001b[0;31m# There are no more words, so the iterator raises a StopIteration exception.\u001b[0m\u001b[0;34m\u001b[0m\u001b[0;34m\u001b[0m\u001b[0;34m\u001b[0m\u001b[0m\n\u001b[0;32m----> 2\u001b[0;31m \u001b[0mnext\u001b[0m\u001b[0;34m(\u001b[0m\u001b[0mit\u001b[0m\u001b[0;34m)\u001b[0m\u001b[0;34m\u001b[0m\u001b[0;34m\u001b[0m\u001b[0m\n\u001b[0m",
            "\u001b[0;31mStopIteration\u001b[0m: "
          ]
        }
      ]
    },
    {
      "cell_type": "code",
      "metadata": {
        "id": "rcTjxM23Edhn",
        "outputId": "a14f2524-8ac9-4774-86b7-62612d51322f",
        "colab": {
          "base_uri": "https://localhost:8080/",
          "height": 35
        }
      },
      "source": [
        "# Once exhausted, an iterator becomes useless.\n",
        "list(it)"
      ],
      "execution_count": 21,
      "outputs": [
        {
          "output_type": "execute_result",
          "data": {
            "text/plain": [
              "[]"
            ]
          },
          "metadata": {
            "tags": []
          },
          "execution_count": 21
        }
      ]
    },
    {
      "cell_type": "code",
      "metadata": {
        "id": "Z9DNccw1Ej0q",
        "outputId": "25fc13c7-e16d-4fb8-df1a-927d375e882d",
        "colab": {
          "base_uri": "https://localhost:8080/",
          "height": 35
        }
      },
      "source": [
        "# To go over the sentence again, a new iterator must be built.\n",
        "list(iter(s3))"
      ],
      "execution_count": 23,
      "outputs": [
        {
          "output_type": "execute_result",
          "data": {
            "text/plain": [
              "['Pig', 'and', 'Pepper']"
            ]
          },
          "metadata": {
            "tags": []
          },
          "execution_count": 23
        }
      ]
    },
    {
      "cell_type": "markdown",
      "metadata": {
        "id": "LqqRysvKE3oX"
      },
      "source": [
        "Since the only methods required of an iterator are `__next__` and `__iter__`, there is no way to check whether there are remaining items, other than call next() and catch StopInteration. \n",
        "\n",
        "Also, it’s not possible to “reset” an iterator. If you need to start over, you need to call iter(…) on the iterable that built the iterator in the first place. \n",
        "\n",
        "Calling `iter(…)` on the iterator itself won’t help, because — as mentioned — Iterator.`__iter__` is implemented by returning self, so this will not reset a depleted iterator."
      ]
    },
    {
      "cell_type": "markdown",
      "metadata": {
        "id": "j391fBdHFHuY"
      },
      "source": [
        "## Sentence take #2: a classic iterator"
      ]
    },
    {
      "cell_type": "markdown",
      "metadata": {
        "id": "MBBMVgVXFIur"
      },
      "source": [
        ""
      ]
    },
    {
      "cell_type": "code",
      "metadata": {
        "id": "FZFmjfIKErIv"
      },
      "source": [
        ""
      ],
      "execution_count": null,
      "outputs": []
    }
  ]
}