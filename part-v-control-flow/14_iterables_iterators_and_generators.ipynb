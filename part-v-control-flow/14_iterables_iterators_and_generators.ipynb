{
  "nbformat": 4,
  "nbformat_minor": 0,
  "metadata": {
    "colab": {
      "name": "14-iterables-iterators-and-generators.ipynb",
      "provenance": [],
      "toc_visible": true,
      "authorship_tag": "ABX9TyOZyyBbquttxv7odK+vO/KF",
      "include_colab_link": true
    },
    "kernelspec": {
      "name": "python3",
      "display_name": "Python 3"
    }
  },
  "cells": [
    {
      "cell_type": "markdown",
      "metadata": {
        "id": "view-in-github",
        "colab_type": "text"
      },
      "source": [
        "<a href=\"https://colab.research.google.com/github/rahiakela/fluent-python-book-practice/blob/master/part-v-control-flow/14_iterables_iterators_and_generators.ipynb\" target=\"_parent\"><img src=\"https://colab.research.google.com/assets/colab-badge.svg\" alt=\"Open In Colab\"/></a>"
      ]
    },
    {
      "cell_type": "markdown",
      "metadata": {
        "id": "36lBmkl63qQr"
      },
      "source": [
        "# Iterables, iterators and generators"
      ]
    },
    {
      "cell_type": "markdown",
      "metadata": {
        "id": "HAvwFxvG8AGb"
      },
      "source": [
        "Iteration is fundamental to data processing. And when scanning datasets that don’t fit in memory, we need a way to fetch the items lazily, that is, one at a time and on demand. This is what the Iterator pattern is about.\n",
        "\n",
        "Python does not have macros like Lisp, so abstracting away the Iterator pattern required changing the language: the yield keyword was added\n",
        "in Python 2.2 (2001). The yield keyword allows the construction of generators, which work as iterators.\n",
        "\n",
        "Python 3 uses generators in many places. Even the range() built-in now returns a generator-like object instead of full-blown lists like before. If you must build a list from range, you have to be explicit, e.g. list(range(100)).\n",
        "\n",
        "Every collection in Python is iterable, and iterators are used internally to support:\n",
        "\n",
        "- for loops;\n",
        "- collection types construction and extension;\n",
        "- looping over text files line by line;\n",
        "- list, dict and set comprehensions;\n",
        "- tuple unpacking;\n",
        "- unpacking actual parameters with * in function calls."
      ]
    },
    {
      "cell_type": "markdown",
      "metadata": {
        "id": "yuvSN2jC87sA"
      },
      "source": [
        "## Sentence take #1: a sequence of words"
      ]
    },
    {
      "cell_type": "markdown",
      "metadata": {
        "id": "OfdjhfBH88s7"
      },
      "source": [
        "We’ll start our exploration of iterables by implementing a Sentence class: you give its constructor a string with some text, and then you can iterate word by word."
      ]
    },
    {
      "cell_type": "code",
      "metadata": {
        "id": "gllLvLV29gaV"
      },
      "source": [
        "import re\n",
        "import reprlib"
      ],
      "execution_count": null,
      "outputs": []
    },
    {
      "cell_type": "code",
      "metadata": {
        "id": "vkX8DsLl9mKJ"
      },
      "source": [
        "RE_WORD = re.compile(\"\\w+\")\n",
        "\n",
        "class Sentence:\n",
        "\n",
        "  def __init__(self, text):\n",
        "    self.text = text\n",
        "    # returns a list with all non-overlapping matches of the regular expression, as a list of strings.\n",
        "    self.words = RE_WORD.findall(text)\n",
        "\n",
        "  def __getitem__(self, index):\n",
        "    # self.words holds the result of .findall, so we simply return the word at the given index.\n",
        "    return self.words[index]\n",
        "\n",
        "  # To complete the sequence protocol, we implement __len__ — but it is not needed to make an iterable object.\n",
        "  def __len__(self):\n",
        "    return len(self.words)\n",
        "\n",
        "  def __repr__(self):\n",
        "    # generate abbreviated string representations of data structures that can be very large\n",
        "    return \"Sentence(%s)\" % reprlib.repr(self.text)"
      ],
      "execution_count": null,
      "outputs": []
    },
    {
      "cell_type": "markdown",
      "metadata": {
        "id": "KKW6smmj-5_O"
      },
      "source": [
        "By default, reprlib.repr limits the generated string to 30 characters."
      ]
    },
    {
      "cell_type": "code",
      "metadata": {
        "id": "XY9HqWAX-6r-",
        "colab": {
          "base_uri": "https://localhost:8080/"
        },
        "outputId": "cf88fbe9-e0b9-4b1b-f108-975162be0164"
      },
      "source": [
        "s = Sentence('\"The time has come,\" the Walrus said,')\n",
        "s"
      ],
      "execution_count": null,
      "outputs": [
        {
          "output_type": "execute_result",
          "data": {
            "text/plain": [
              "Sentence('\"The time ha... Walrus said,')"
            ]
          },
          "metadata": {
            "tags": []
          },
          "execution_count": 3
        }
      ]
    },
    {
      "cell_type": "code",
      "metadata": {
        "id": "cg9E2_-l_KuB",
        "colab": {
          "base_uri": "https://localhost:8080/"
        },
        "outputId": "94034cc0-76cb-481c-8e69-49f6fd725804"
      },
      "source": [
        "# Sentence instances are iterable\n",
        "for word in s:\n",
        "  print(word)"
      ],
      "execution_count": null,
      "outputs": [
        {
          "output_type": "stream",
          "text": [
            "The\n",
            "time\n",
            "has\n",
            "come\n",
            "the\n",
            "Walrus\n",
            "said\n"
          ],
          "name": "stdout"
        }
      ]
    },
    {
      "cell_type": "code",
      "metadata": {
        "id": "SvCkMMer_c6m",
        "colab": {
          "base_uri": "https://localhost:8080/",
          "height": 35
        },
        "outputId": "36a9627b-39ae-455f-d3b0-4212a9b46f16"
      },
      "source": [
        "# Being iterable, Sentence objects can be used as input to build lists and other iterable types.\n",
        "list(s)"
      ],
      "execution_count": null,
      "outputs": [
        {
          "output_type": "execute_result",
          "data": {
            "text/plain": [
              "['The', 'time', 'has', 'come', 'the', 'Walrus', 'said']"
            ]
          },
          "metadata": {
            "tags": []
          },
          "execution_count": 5
        }
      ]
    },
    {
      "cell_type": "code",
      "metadata": {
        "id": "wF0embBi_nV8",
        "colab": {
          "base_uri": "https://localhost:8080/",
          "height": 35
        },
        "outputId": "a97b3fa2-1c75-4969-c163-487b65f1c64a"
      },
      "source": [
        "# because it’s also a sequence, so you can get words by index\n",
        "s[0]"
      ],
      "execution_count": null,
      "outputs": [
        {
          "output_type": "execute_result",
          "data": {
            "application/vnd.google.colaboratory.intrinsic+json": {
              "type": "string"
            },
            "text/plain": [
              "'The'"
            ]
          },
          "metadata": {
            "tags": []
          },
          "execution_count": 6
        }
      ]
    },
    {
      "cell_type": "code",
      "metadata": {
        "id": "7X_BnSjT_30v",
        "colab": {
          "base_uri": "https://localhost:8080/",
          "height": 35
        },
        "outputId": "8865b2b0-fec2-4b16-d249-ed688e317b86"
      },
      "source": [
        "s[5]"
      ],
      "execution_count": null,
      "outputs": [
        {
          "output_type": "execute_result",
          "data": {
            "application/vnd.google.colaboratory.intrinsic+json": {
              "type": "string"
            },
            "text/plain": [
              "'Walrus'"
            ]
          },
          "metadata": {
            "tags": []
          },
          "execution_count": 7
        }
      ]
    },
    {
      "cell_type": "code",
      "metadata": {
        "id": "ac_ujZCB_5XP",
        "colab": {
          "base_uri": "https://localhost:8080/",
          "height": 35
        },
        "outputId": "8faf5b6c-3fe5-4bca-eb7c-c1a749e0b261"
      },
      "source": [
        "s[-1]"
      ],
      "execution_count": null,
      "outputs": [
        {
          "output_type": "execute_result",
          "data": {
            "application/vnd.google.colaboratory.intrinsic+json": {
              "type": "string"
            },
            "text/plain": [
              "'said'"
            ]
          },
          "metadata": {
            "tags": []
          },
          "execution_count": 8
        }
      ]
    },
    {
      "cell_type": "code",
      "metadata": {
        "id": "lQmQp6fe_7IK",
        "colab": {
          "base_uri": "https://localhost:8080/",
          "height": 35
        },
        "outputId": "4ed672c9-9065-4cb4-cfa7-163bdcbde162"
      },
      "source": [
        "s[-2]"
      ],
      "execution_count": null,
      "outputs": [
        {
          "output_type": "execute_result",
          "data": {
            "application/vnd.google.colaboratory.intrinsic+json": {
              "type": "string"
            },
            "text/plain": [
              "'Walrus'"
            ]
          },
          "metadata": {
            "tags": []
          },
          "execution_count": 9
        }
      ]
    },
    {
      "cell_type": "markdown",
      "metadata": {
        "id": "BT7FqHtSAFEP"
      },
      "source": [
        "### Why sequences are iterable: the iter function"
      ]
    },
    {
      "cell_type": "markdown",
      "metadata": {
        "id": "xMRTjyHhAGBy"
      },
      "source": [
        "Every Python programmer knows that sequences are iterable. Now we’ll see precisely why.\n",
        "\n",
        "Whenever the interpreter needs to iterate over an object x, it automatically calls iter(x).\n",
        "\n",
        "The iter built-in function:\n",
        "\n",
        "- Checks whether the object implements, __iter__, and calls that to obtain an iterator;\n",
        "- If __iter__ is not implemented, but __getitem__ is implemented, Python creates an iterator that attempts to fetch items in order, starting from index 0 (zero);\n",
        "- If that fails, Python raises TypeError, usually saying \"'C' object is not iterable\", where C is the class of the target object.\n",
        "\n",
        "That is why any Python sequence is iterable: they all implement `__getitem__`. In fact, the standard sequences also implement `__iter__`, and yours should too, because the special handling of `__getitem__` exists for backward compatibility reasons and may be gone in the future.\n",
        "\n",
        "This is an extreme form of duck typing: an object is considered iterable not only when it implements the special method `__iter__`, but also when it implements `__getitem__`, as long as `__getitem__` accepts\n",
        "int keys starting from 0.\n",
        "\n",
        "In the goose-typing approach, the definition for an iterable is simpler but not as flexible: an object is considered iterable if it implements the `__iter__` method. No subclassing or registration is required, because abc.Iterable implements the `__subclasshook__`."
      ]
    },
    {
      "cell_type": "code",
      "metadata": {
        "id": "X4J2CRZFBhaP"
      },
      "source": [
        "class Foo:\n",
        "  def __iter__(self):\n",
        "    pass"
      ],
      "execution_count": null,
      "outputs": []
    },
    {
      "cell_type": "code",
      "metadata": {
        "id": "THErdMs5_9EB"
      },
      "source": [
        "from collections import abc"
      ],
      "execution_count": null,
      "outputs": []
    },
    {
      "cell_type": "code",
      "metadata": {
        "id": "cgQpgF0ZB15x",
        "colab": {
          "base_uri": "https://localhost:8080/",
          "height": 35
        },
        "outputId": "adaaf72c-55b0-47c4-d425-3befd8201395"
      },
      "source": [
        "issubclass(Foo, abc.Iterable)"
      ],
      "execution_count": null,
      "outputs": [
        {
          "output_type": "execute_result",
          "data": {
            "text/plain": [
              "True"
            ]
          },
          "metadata": {
            "tags": []
          },
          "execution_count": 12
        }
      ]
    },
    {
      "cell_type": "code",
      "metadata": {
        "id": "RLiRx1DAB7eo",
        "colab": {
          "base_uri": "https://localhost:8080/",
          "height": 35
        },
        "outputId": "2edc4d75-6fda-4dee-b164-f374a7a7a8eb"
      },
      "source": [
        "f = Foo()\n",
        "isinstance(f, abc.Iterable)"
      ],
      "execution_count": null,
      "outputs": [
        {
          "output_type": "execute_result",
          "data": {
            "text/plain": [
              "True"
            ]
          },
          "metadata": {
            "tags": []
          },
          "execution_count": 13
        }
      ]
    },
    {
      "cell_type": "markdown",
      "metadata": {
        "id": "GGVC0qOPCFLZ"
      },
      "source": [
        "However, note that our initial Sentence class does not pass the issubclass(Sentence, abc.Iterable) test, even though it is iterable in practice."
      ]
    },
    {
      "cell_type": "markdown",
      "metadata": {
        "id": "0s1PM0fxCNjY"
      },
      "source": [
        "### Iterables versus iterators"
      ]
    },
    {
      "cell_type": "markdown",
      "metadata": {
        "id": "xYLAK_LRCOW6"
      },
      "source": [
        "It’s important to be clear about the relationship between iterables and iterators: Python obtains iterators from iterables.\n",
        "\n",
        "Here is a simple for loop iterating over a str. The str 'ABC' is the iterable here. You don’t see it, but there is an iterator behind the curtain:"
      ]
    },
    {
      "cell_type": "code",
      "metadata": {
        "id": "Lm5I-e7gCBbD",
        "colab": {
          "base_uri": "https://localhost:8080/",
          "height": 70
        },
        "outputId": "5ea1def7-d6bd-41dc-9d73-935fb36809e0"
      },
      "source": [
        "s = 'ABC'\n",
        "for char in s:\n",
        "  print(char)"
      ],
      "execution_count": null,
      "outputs": [
        {
          "output_type": "stream",
          "text": [
            "A\n",
            "B\n",
            "C\n"
          ],
          "name": "stdout"
        }
      ]
    },
    {
      "cell_type": "markdown",
      "metadata": {
        "id": "iDji75D_C4sz"
      },
      "source": [
        "If there was no for statement and we had to emulate the for machinery by hand with a while loop, this is what we’d have to write:"
      ]
    },
    {
      "cell_type": "code",
      "metadata": {
        "id": "DBgWuJaJCyhB",
        "colab": {
          "base_uri": "https://localhost:8080/",
          "height": 70
        },
        "outputId": "3ff90570-7e9f-467d-b7b0-f40825613e8b"
      },
      "source": [
        "s = 'ABC'\n",
        "# Build an iterator it from the iterable.\n",
        "it = iter(s)\n",
        "while True:\n",
        "  try:\n",
        "    # Repeatedly call next on the iterator to obtain the next item.\n",
        "    print(next(it))\n",
        "  except StopIteration:  # The iterator raises StopIteration when there are no further items.\n",
        "    # Release reference to it — the iterator object is discarded.\n",
        "    del it\n",
        "    break"
      ],
      "execution_count": null,
      "outputs": [
        {
          "output_type": "stream",
          "text": [
            "A\n",
            "B\n",
            "C\n"
          ],
          "name": "stdout"
        }
      ]
    },
    {
      "cell_type": "markdown",
      "metadata": {
        "id": "mEmmzy3PDhR8"
      },
      "source": [
        "StopIteration signals that the iterator is exhausted. This exception is handled internally in for loops and other iteration contexts like list comprehensions, tuple unpacking etc.\n",
        "\n",
        "The standard interface for an iterator has two methods:\n",
        "\n",
        "- `__next__`: Returns the next available item, raising StopIteration when there are no more items.\n",
        "- `__iter__`: Returns self; this allows iterators to be used where an iterable is expected, for example, in a for loop."
      ]
    },
    {
      "cell_type": "code",
      "metadata": {
        "id": "64prLZmLDcEs"
      },
      "source": [
        "s3 = Sentence(\"Pig and Pepper\")\n",
        "\n",
        "# Obtain an iterator from s3.\n",
        "it = iter(s3)"
      ],
      "execution_count": null,
      "outputs": []
    },
    {
      "cell_type": "code",
      "metadata": {
        "id": "HD4wwX2SENPk",
        "colab": {
          "base_uri": "https://localhost:8080/",
          "height": 35
        },
        "outputId": "0190e4c6-26ca-4fa9-e1b6-32ec7c3a560d"
      },
      "source": [
        "# next(it) fetches the next word.\n",
        "next(it)"
      ],
      "execution_count": null,
      "outputs": [
        {
          "output_type": "execute_result",
          "data": {
            "application/vnd.google.colaboratory.intrinsic+json": {
              "type": "string"
            },
            "text/plain": [
              "'Pig'"
            ]
          },
          "metadata": {
            "tags": []
          },
          "execution_count": 17
        }
      ]
    },
    {
      "cell_type": "code",
      "metadata": {
        "id": "8rvVhByBEST_",
        "colab": {
          "base_uri": "https://localhost:8080/",
          "height": 35
        },
        "outputId": "7663c0ff-fdcb-4b23-a902-7ce54ae54035"
      },
      "source": [
        "next(it)"
      ],
      "execution_count": null,
      "outputs": [
        {
          "output_type": "execute_result",
          "data": {
            "application/vnd.google.colaboratory.intrinsic+json": {
              "type": "string"
            },
            "text/plain": [
              "'and'"
            ]
          },
          "metadata": {
            "tags": []
          },
          "execution_count": 18
        }
      ]
    },
    {
      "cell_type": "code",
      "metadata": {
        "id": "0abhq3ZQEUe4",
        "colab": {
          "base_uri": "https://localhost:8080/",
          "height": 35
        },
        "outputId": "e77430af-9755-459d-c707-33de0f5221e5"
      },
      "source": [
        "next(it)"
      ],
      "execution_count": null,
      "outputs": [
        {
          "output_type": "execute_result",
          "data": {
            "application/vnd.google.colaboratory.intrinsic+json": {
              "type": "string"
            },
            "text/plain": [
              "'Pepper'"
            ]
          },
          "metadata": {
            "tags": []
          },
          "execution_count": 19
        }
      ]
    },
    {
      "cell_type": "code",
      "metadata": {
        "id": "hDxgteXMEV65",
        "colab": {
          "base_uri": "https://localhost:8080/",
          "height": 185
        },
        "outputId": "104a3518-2a2b-4f55-e13d-e6697165fcc7"
      },
      "source": [
        "# There are no more words, so the iterator raises a StopIteration exception.\n",
        "next(it)"
      ],
      "execution_count": null,
      "outputs": [
        {
          "output_type": "error",
          "ename": "StopIteration",
          "evalue": "ignored",
          "traceback": [
            "\u001b[0;31m---------------------------------------------------------------------------\u001b[0m",
            "\u001b[0;31mStopIteration\u001b[0m                             Traceback (most recent call last)",
            "\u001b[0;32m<ipython-input-20-f3db65ede488>\u001b[0m in \u001b[0;36m<module>\u001b[0;34m()\u001b[0m\n\u001b[1;32m      1\u001b[0m \u001b[0;31m# There are no more words, so the iterator raises a StopIteration exception.\u001b[0m\u001b[0;34m\u001b[0m\u001b[0;34m\u001b[0m\u001b[0;34m\u001b[0m\u001b[0m\n\u001b[0;32m----> 2\u001b[0;31m \u001b[0mnext\u001b[0m\u001b[0;34m(\u001b[0m\u001b[0mit\u001b[0m\u001b[0;34m)\u001b[0m\u001b[0;34m\u001b[0m\u001b[0;34m\u001b[0m\u001b[0m\n\u001b[0m",
            "\u001b[0;31mStopIteration\u001b[0m: "
          ]
        }
      ]
    },
    {
      "cell_type": "code",
      "metadata": {
        "id": "rcTjxM23Edhn",
        "colab": {
          "base_uri": "https://localhost:8080/",
          "height": 35
        },
        "outputId": "a14f2524-8ac9-4774-86b7-62612d51322f"
      },
      "source": [
        "# Once exhausted, an iterator becomes useless.\n",
        "list(it)"
      ],
      "execution_count": null,
      "outputs": [
        {
          "output_type": "execute_result",
          "data": {
            "text/plain": [
              "[]"
            ]
          },
          "metadata": {
            "tags": []
          },
          "execution_count": 21
        }
      ]
    },
    {
      "cell_type": "code",
      "metadata": {
        "id": "Z9DNccw1Ej0q",
        "colab": {
          "base_uri": "https://localhost:8080/",
          "height": 35
        },
        "outputId": "25fc13c7-e16d-4fb8-df1a-927d375e882d"
      },
      "source": [
        "# To go over the sentence again, a new iterator must be built.\n",
        "list(iter(s3))"
      ],
      "execution_count": null,
      "outputs": [
        {
          "output_type": "execute_result",
          "data": {
            "text/plain": [
              "['Pig', 'and', 'Pepper']"
            ]
          },
          "metadata": {
            "tags": []
          },
          "execution_count": 23
        }
      ]
    },
    {
      "cell_type": "markdown",
      "metadata": {
        "id": "LqqRysvKE3oX"
      },
      "source": [
        "Since the only methods required of an iterator are `__next__` and `__iter__`, there is no way to check whether there are remaining items, other than call next() and catch StopInteration. \n",
        "\n",
        "Also, it’s not possible to “reset” an iterator. If you need to start over, you need to call iter(…) on the iterable that built the iterator in the first place. \n",
        "\n",
        "Calling `iter(…)` on the iterator itself won’t help, because — as mentioned — Iterator.`__iter__` is implemented by returning self, so this will not reset a depleted iterator."
      ]
    },
    {
      "cell_type": "markdown",
      "metadata": {
        "id": "j391fBdHFHuY"
      },
      "source": [
        "## Sentence take #2: a classic iterator"
      ]
    },
    {
      "cell_type": "markdown",
      "metadata": {
        "id": "MBBMVgVXFIur"
      },
      "source": [
        "The next an implementation of a Sentence that is iterable because it implements\n",
        "the `__iter__` special method which builds and returns a SentenceIterator. This\n",
        "is how the Iterator design pattern is described in the original Design Patterns book.\n",
        "\n",
        "We are doing it this way here just to make clear the crucial distinction between an iterable\n",
        "and an iterator and how they are connected."
      ]
    },
    {
      "cell_type": "code",
      "metadata": {
        "id": "FZFmjfIKErIv"
      },
      "source": [
        "RE_WORD = re.compile(\"\\w+\")\n",
        "\n",
        "class Sentence:\n",
        "\n",
        "  def __init__(self, text):\n",
        "    self.text = text\n",
        "    # returns a list with all non-overlapping matches of the regular expression, as a list of strings.\n",
        "    self.words = RE_WORD.findall(text)\n",
        "\n",
        "  def __repr__(self):\n",
        "    # generate abbreviated string representations of data structures that can be very large\n",
        "    return \"Sentence(%s)\" % reprlib.repr(self.text)\n",
        "\n",
        "  \"\"\"\n",
        "  The __iter__ method is the only addition to the previous Sentence\n",
        "  implementation. This version has no __getitem__, to make it clear that the class\n",
        "  is iterable because it implements __iter__.\n",
        "  \"\"\"\n",
        "  def __iter__(self):\n",
        "    # __iter__ fulfills the iterable protocol by instantiating and returning an iterator.\n",
        "    return SentenceIterator(self.words)\n",
        "\n",
        "\n",
        "class SentenceIterator:\n",
        "\n",
        "  def __init__(self, words):\n",
        "    # SentenceIterator holds a reference to the list of words.\n",
        "    self.words = words\n",
        "    # self.index is used to determine the next word to fetch.\n",
        "    self.index = 0\n",
        "\n",
        "  def __next__(self):\n",
        "    try:\n",
        "      word = self.words[self.index]\n",
        "    except IndexError:\n",
        "      # If there is no word at self.index, raise StopIteration.\n",
        "      raise StopIteration()\n",
        "    self.index += 1  # Increment self.index.\n",
        "    return word\n",
        "\n",
        "  def __iter__(self):\n",
        "    return self"
      ],
      "execution_count": null,
      "outputs": []
    },
    {
      "cell_type": "markdown",
      "metadata": {
        "id": "wW-r6NZbE77_"
      },
      "source": [
        "Note that implementing `__iter__` in SentenceIterator is not actually needed for this example to work, but the it’s the right thing to do: iterators are supposed to implement both `__next__` and `__iter__`, and doing so makes our iterator pass the issubclass(SentenceInterator, abc.Iterator) test. If we had subclassed SentenceIterator from abc.Iterator we’d inherit the concrete abc.`Iterator.__iter__` method."
      ]
    },
    {
      "cell_type": "markdown",
      "metadata": {
        "id": "F6jQHAggFOWs"
      },
      "source": [
        "### Making Sentence an iterator: bad idea"
      ]
    },
    {
      "cell_type": "markdown",
      "metadata": {
        "id": "WOTBIzDlFPdC"
      },
      "source": [
        "A common cause of errors in building iterables and iterators is to confuse the two. To be clear: iterables have a `__iter__` method that instantiates a new iterator every time. Iterators implement a `__next__` method that returns individual items, and a `__iter__` method that returns self.\n",
        "\n",
        "Therefore, iterators are also iterable, but iterables are not iterators.\n",
        "\n",
        "To “support multiple traversals” it must be possible to obtain multiple independent iterators from the same iterable instance, and each iterator must keep its own internal state, so a proper implementation of the pattern requires each call to iter(my_iterable) to create a new, independent, iterator."
      ]
    },
    {
      "cell_type": "markdown",
      "metadata": {
        "id": "U-j6-xprIpol"
      },
      "source": [
        "## Sentence take #3: a generator function"
      ]
    },
    {
      "cell_type": "markdown",
      "metadata": {
        "id": "yKFps9FuIr4n"
      },
      "source": [
        "A Pythonic implementation of the same functionality uses a generator function to replace the SequenceIterator class."
      ]
    },
    {
      "cell_type": "code",
      "metadata": {
        "id": "1toCmtCeI0jF"
      },
      "source": [
        "RE_WORD = re.compile(\"\\w+\")\n",
        "\n",
        "class Sentence:\n",
        "\n",
        "  def __init__(self, text):\n",
        "    self.text = text\n",
        "    # returns a list with all non-overlapping matches of the regular expression, as a list of strings.\n",
        "    self.words = RE_WORD.findall(text)\n",
        "\n",
        "  def __repr__(self):\n",
        "    # generate abbreviated string representations of data structures that can be very large\n",
        "    return \"Sentence(%s)\" % reprlib.repr(self.text)\n",
        "\n",
        "  \"\"\"\n",
        "  The __iter__ method is the only addition to the previous Sentence\n",
        "  implementation. This version has no __getitem__, to make it clear that the class\n",
        "  is iterable because it implements __iter__.\n",
        "  \"\"\"\n",
        "  def __iter__(self):\n",
        "    # Iterate over self.word.\n",
        "    for word in self.words:\n",
        "      yield word   # Yield the current word.\n",
        "    return"
      ],
      "execution_count": null,
      "outputs": []
    },
    {
      "cell_type": "markdown",
      "metadata": {
        "id": "Iz1cgCXlJVKv"
      },
      "source": [
        "Now the iterator is in fact a generator object, built automatically when the `__iter__` method is called, because `__iter__` here is a generator function."
      ]
    },
    {
      "cell_type": "markdown",
      "metadata": {
        "id": "-U66UkyrJexg"
      },
      "source": [
        "### How a generator function works"
      ]
    },
    {
      "cell_type": "markdown",
      "metadata": {
        "id": "R5xU2c-0Jfi7"
      },
      "source": [
        "Any Python function that has the yield keyword in its body is a generator function: a function which, when called, returns a generator object. In other words, a generator function is a generator factory.\n",
        "\n",
        "Here is the simplest function useful to demonstrate the behavior of a generator:"
      ]
    },
    {
      "cell_type": "code",
      "metadata": {
        "id": "5VjgwCusJvZr"
      },
      "source": [
        "def gen_123():\n",
        "  yield 1\n",
        "  yield 2\n",
        "  yield 3"
      ],
      "execution_count": null,
      "outputs": []
    },
    {
      "cell_type": "code",
      "metadata": {
        "id": "ImNMzmyBJ7Tj",
        "colab": {
          "base_uri": "https://localhost:8080/"
        },
        "outputId": "64da9374-eb58-4093-a1db-c473955b6298"
      },
      "source": [
        "gen_123"
      ],
      "execution_count": null,
      "outputs": [
        {
          "output_type": "execute_result",
          "data": {
            "text/plain": [
              "<function __main__.gen_123>"
            ]
          },
          "metadata": {
            "tags": []
          },
          "execution_count": 6
        }
      ]
    },
    {
      "cell_type": "code",
      "metadata": {
        "id": "KE1Awnt_J8rq",
        "colab": {
          "base_uri": "https://localhost:8080/"
        },
        "outputId": "22d18c74-957c-4827-aa36-4d7b96f5a9af"
      },
      "source": [
        "gen_123()"
      ],
      "execution_count": null,
      "outputs": [
        {
          "output_type": "execute_result",
          "data": {
            "text/plain": [
              "<generator object gen_123 at 0x7f2e275997d8>"
            ]
          },
          "metadata": {
            "tags": []
          },
          "execution_count": 7
        }
      ]
    },
    {
      "cell_type": "code",
      "metadata": {
        "id": "j-YO1YkjJ_OU",
        "colab": {
          "base_uri": "https://localhost:8080/"
        },
        "outputId": "6d0eb5d6-3c1e-49ce-b5ca-87d057e7e7dd"
      },
      "source": [
        "for i in gen_123():\n",
        "  print(i)"
      ],
      "execution_count": null,
      "outputs": [
        {
          "output_type": "stream",
          "text": [
            "1\n",
            "2\n",
            "3\n"
          ],
          "name": "stdout"
        }
      ]
    },
    {
      "cell_type": "code",
      "metadata": {
        "id": "nsqwZJjdKEbP"
      },
      "source": [
        "g = gen_123()"
      ],
      "execution_count": null,
      "outputs": []
    },
    {
      "cell_type": "code",
      "metadata": {
        "id": "JYM98MEyKIgf",
        "colab": {
          "base_uri": "https://localhost:8080/"
        },
        "outputId": "23a6becd-4e76-480a-f330-9f81114bda46"
      },
      "source": [
        "next(g)"
      ],
      "execution_count": null,
      "outputs": [
        {
          "output_type": "execute_result",
          "data": {
            "text/plain": [
              "1"
            ]
          },
          "metadata": {
            "tags": []
          },
          "execution_count": 10
        }
      ]
    },
    {
      "cell_type": "code",
      "metadata": {
        "id": "4Z1KmUniKJv4",
        "colab": {
          "base_uri": "https://localhost:8080/"
        },
        "outputId": "06ea9fb7-34b0-48a7-f7e4-7af836e0f520"
      },
      "source": [
        "next(g)"
      ],
      "execution_count": null,
      "outputs": [
        {
          "output_type": "execute_result",
          "data": {
            "text/plain": [
              "2"
            ]
          },
          "metadata": {
            "tags": []
          },
          "execution_count": 11
        }
      ]
    },
    {
      "cell_type": "code",
      "metadata": {
        "id": "EGu_bg85KLTr",
        "colab": {
          "base_uri": "https://localhost:8080/"
        },
        "outputId": "3cdefab8-936d-40ed-d919-747e9995136e"
      },
      "source": [
        "next(g)"
      ],
      "execution_count": null,
      "outputs": [
        {
          "output_type": "execute_result",
          "data": {
            "text/plain": [
              "3"
            ]
          },
          "metadata": {
            "tags": []
          },
          "execution_count": 12
        }
      ]
    },
    {
      "cell_type": "code",
      "metadata": {
        "id": "4wPVAXyYKNj_",
        "colab": {
          "base_uri": "https://localhost:8080/",
          "height": 167
        },
        "outputId": "4af9ce3b-d87c-487b-dece-3940626a6482"
      },
      "source": [
        "# When the body of the function completes, the generator object raises a StopIteration.\n",
        "next(g)"
      ],
      "execution_count": null,
      "outputs": [
        {
          "output_type": "error",
          "ename": "StopIteration",
          "evalue": "ignored",
          "traceback": [
            "\u001b[0;31m---------------------------------------------------------------------------\u001b[0m",
            "\u001b[0;31mStopIteration\u001b[0m                             Traceback (most recent call last)",
            "\u001b[0;32m<ipython-input-13-e734f8aca5ac>\u001b[0m in \u001b[0;36m<module>\u001b[0;34m()\u001b[0m\n\u001b[0;32m----> 1\u001b[0;31m \u001b[0mnext\u001b[0m\u001b[0;34m(\u001b[0m\u001b[0mg\u001b[0m\u001b[0;34m)\u001b[0m\u001b[0;34m\u001b[0m\u001b[0;34m\u001b[0m\u001b[0m\n\u001b[0m",
            "\u001b[0;31mStopIteration\u001b[0m: "
          ]
        }
      ]
    },
    {
      "cell_type": "markdown",
      "metadata": {
        "id": "zmFSiDsiKfIs"
      },
      "source": [
        "A generator function builds a generator object which wraps the body of the function. When we invoke next(…) on the generator object, execution advances to the next yield in the function body, and the next(…) call evaluates to the value yielded when the function body is suspended. Finally, when the function body returns, the enclosing generator object raises StopIteration, in accordance with the Iterator protocol.\n",
        "\n",
        "> Calling a generator function returns a generator.\n",
        "A generator yields or produces values. A generator doesn’t\n",
        "“return” values in the usual way: the return statement in the body\n",
        "of a generator function causes StopIteration to be raised by the\n",
        "generator object.\n",
        "\n",
        "A generator function which prints messages when it runs."
      ]
    },
    {
      "cell_type": "code",
      "metadata": {
        "id": "vjRHhqzbKQAv"
      },
      "source": [
        "def gen_AB():\n",
        "  print(\"start\")\n",
        "  yield \"A\"\n",
        "  print(\"continue\")\n",
        "  yield \"B\"\n",
        "  print(\"end.\")"
      ],
      "execution_count": null,
      "outputs": []
    },
    {
      "cell_type": "code",
      "metadata": {
        "id": "R3BuC-xgLK96",
        "colab": {
          "base_uri": "https://localhost:8080/"
        },
        "outputId": "1ce74614-f03c-48ca-e2b8-3f16d4b257b8"
      },
      "source": [
        "for c in gen_AB():\n",
        "  print(\"-->\", c)"
      ],
      "execution_count": null,
      "outputs": [
        {
          "output_type": "stream",
          "text": [
            "start\n",
            "--> A\n",
            "continue\n",
            "--> B\n",
            "end.\n"
          ],
          "name": "stdout"
        }
      ]
    },
    {
      "cell_type": "markdown",
      "metadata": {
        "id": "p_ze-S_2Lj-7"
      },
      "source": [
        "Now hopefully it’s clear how Sentence.`__iter__` works: `__iter__` is\n",
        "generator function which, when called, builds a generator object which implements the iterator interface, so the SentenceIterator class is no longer needed.\n",
        "\n",
        "This second version of Sentence is much shorter than the first, but it’s not as lazy as it could be. \n",
        "\n",
        "Nowadays, laziness is considered a good trait, at least in programming languages\n",
        "and APIs. A lazy implementation postpones producing values to the last possible\n",
        "moment. This saves memory and may avoid useless processing as well."
      ]
    },
    {
      "cell_type": "markdown",
      "metadata": {
        "id": "UaGWAVK5L23v"
      },
      "source": [
        "## Sentence take #4: a lazy implementation"
      ]
    },
    {
      "cell_type": "markdown",
      "metadata": {
        "id": "-AIuSaEQL402"
      },
      "source": [
        "The Iterator interface is designed to be lazy: next(my_iterator) produces one item at a time. The opposite of lazy is eager: lazy evaluation and eager evaluation are actual technical terms in programming language theory.\n",
        "\n",
        "Our Sentence implementations so far have not been lazy because the `__init__` eagerly builds a list of all words in the text, binding it to the self.words attribute. This will entail processing the entire text, and the list may use as much memory as the text itself(probably more; it depends on how many non-word characters are in the text). Most of this work will be in vain if the user only iterates over the first couple of words.\n",
        "\n",
        "The re.finditer function is a lazy version of re.findall which, instead of a list, returns a generator producing re.MatchObject instances on demand. If there are many matches, re.finditer saves a lot of memory. Using it, our third version of Sentence is now lazy: it only produces the next word when it is needed."
      ]
    },
    {
      "cell_type": "code",
      "metadata": {
        "id": "b3NUmQjkLR44"
      },
      "source": [
        "RE_WORD = re.compile(\"\\w+\")\n",
        "\n",
        "class Sentence:\n",
        "\n",
        "  def __init__(self, text):\n",
        "    self.text = text\n",
        "\n",
        "  def __repr__(self):\n",
        "    return \"Sentence(%s)\" % reprlib.repr(self.text)\n",
        "\n",
        "  \"\"\"\n",
        "  finditer builds an iterator over the matches of RE_WORD on self.text, yielding MatchObject instances.\n",
        "  \"\"\"\n",
        "  def __iter__(self):\n",
        "    # match.group() extracts the actual matched text from the MatchObject instance.\n",
        "    for match in RE_WORD.finditer(self.text):\n",
        "      yield match.group()   # Yield the current word.\n",
        "    return"
      ],
      "execution_count": null,
      "outputs": []
    },
    {
      "cell_type": "markdown",
      "metadata": {
        "id": "gC6BZlSWNYTB"
      },
      "source": [
        "## Sentence take #5: a generator expression\n"
      ]
    },
    {
      "cell_type": "markdown",
      "metadata": {
        "id": "q4xs0c30Ozsm"
      },
      "source": [
        "A generator expression can be understood as a lazy version of a list comprehension: it does not eagerly build a list, but returns a generator that will lazily produce the items on demand. \n",
        "\n",
        "In other words, if a list comprehension is a factory of lists, a generator expression is a factory of generators."
      ]
    },
    {
      "cell_type": "code",
      "metadata": {
        "id": "wX1MQGgTmrXZ"
      },
      "source": [
        "# this generator function is used by a list comprehension, then by a generator expression.\n",
        "def gen_ab():\n",
        "  print(\"Start\")\n",
        "  yield \"A\"\n",
        "  print(\"Continue\")\n",
        "  yield \"B\"\n",
        "  print(\"end.\")"
      ],
      "execution_count": null,
      "outputs": []
    },
    {
      "cell_type": "code",
      "metadata": {
        "id": "hcgU-a-UnJwj",
        "colab": {
          "base_uri": "https://localhost:8080/"
        },
        "outputId": "3eca7163-dc40-474e-f470-f81d5e2fa7fb"
      },
      "source": [
        "# The list comprehension eagerly iterates over the items yielded by the generator object\n",
        "res1 = [x*3 for x in gen_ab()]"
      ],
      "execution_count": null,
      "outputs": [
        {
          "output_type": "stream",
          "text": [
            "Start\n",
            "Continue\n",
            "end.\n"
          ],
          "name": "stdout"
        }
      ]
    },
    {
      "cell_type": "code",
      "metadata": {
        "id": "fg2gRsS5nQcn",
        "colab": {
          "base_uri": "https://localhost:8080/"
        },
        "outputId": "934cbf25-f51b-4cb6-a57d-4504c3ffa84a"
      },
      "source": [
        "for i in res1:\n",
        "  print(\"-->\", i)"
      ],
      "execution_count": null,
      "outputs": [
        {
          "output_type": "stream",
          "text": [
            "--> AAA\n",
            "--> BBB\n"
          ],
          "name": "stdout"
        }
      ]
    },
    {
      "cell_type": "code",
      "metadata": {
        "id": "tbrjCyaunXNS"
      },
      "source": [
        "# The generator expression returns res2. but that call returns a generator which is not consumed here.\n",
        "res2 = (x*3 for x in gen_ab())"
      ],
      "execution_count": null,
      "outputs": []
    },
    {
      "cell_type": "code",
      "metadata": {
        "id": "lCE2HjYineD5",
        "colab": {
          "base_uri": "https://localhost:8080/"
        },
        "outputId": "79690555-0fec-42e0-919e-d810162d73eb"
      },
      "source": [
        "res2"
      ],
      "execution_count": null,
      "outputs": [
        {
          "output_type": "execute_result",
          "data": {
            "text/plain": [
              "<generator object <genexpr> at 0x7f3e2417b938>"
            ]
          },
          "metadata": {
            "tags": []
          },
          "execution_count": 8
        }
      ]
    },
    {
      "cell_type": "code",
      "metadata": {
        "id": "VqQ4elKHnhnf",
        "colab": {
          "base_uri": "https://localhost:8080/"
        },
        "outputId": "6e06d7e1-5420-432d-8060-016b32a55018"
      },
      "source": [
        "# Only when the for loop iterates over res2, the body of gen_AB actually executes.\n",
        "for i in res2:\n",
        "  print(\"-->\", i)"
      ],
      "execution_count": null,
      "outputs": [
        {
          "output_type": "stream",
          "text": [
            "Start\n",
            "--> AAA\n",
            "Continue\n",
            "--> BBB\n",
            "end.\n"
          ],
          "name": "stdout"
        }
      ]
    },
    {
      "cell_type": "markdown",
      "metadata": {
        "id": "GcEAcEQfoScp"
      },
      "source": [
        "So, a generator expression produces a generator, and we can use it to further reduce the code in the Sentence class."
      ]
    },
    {
      "cell_type": "code",
      "metadata": {
        "id": "KNfmC1Y2oExf"
      },
      "source": [
        "RE_WORD = re.compile(\"\\w+\")\n",
        "\n",
        "class Sentence:\n",
        "\n",
        "  def __init__(self, text):\n",
        "    self.text = text\n",
        "\n",
        "  def __repr__(self):\n",
        "    return \"Sentence(%s)\" % reprlib.repr(self.text)\n",
        "\n",
        "  \"\"\"\n",
        "  finditer builds an iterator over the matches of RE_WORD on self.text, yielding MatchObject instances.\n",
        "  \"\"\"\n",
        "  def __iter__(self):\n",
        "    \"\"\"\n",
        "    The only difference from is the __iter__ method which here is not a\n",
        "    generator function (it has no yield) but uses a generator expression to build a generator\n",
        "    and then returns it. The end result is the same: the caller of __iter__ gets a generator object.\n",
        "    \"\"\"\n",
        "    return (match.group() for match in RE_WORD.finditer(self.text))"
      ],
      "execution_count": null,
      "outputs": []
    },
    {
      "cell_type": "markdown",
      "metadata": {
        "id": "INdvJ_AH3z7Q"
      },
      "source": [
        "### Generator expressions: when to use them"
      ]
    },
    {
      "cell_type": "markdown",
      "metadata": {
        "id": "kNiM9hba301m"
      },
      "source": [
        "I used several generator expressions when implementing the Vector class.In all those methods, a list comprehension would also work, at the cost of using more memory to store the intermediate list values.\n",
        "\n",
        "On the other hand, generator functions are much more flexible: you can code complex logic with multiple statements, and can even use them as coroutines.\n",
        "\n",
        "The rule of thumb in choosing the syntax to use is simple: if the generator expression spans more than a couple of lines, I prefer to code a generator function for the sake of readability. Also, because generator functions have a name, they can be reused. You can always name a generator expression and use it later by assigning it to a variable, of course, but that is stretching its intended usage as a one-off generator.\n",
        "\n"
      ]
    },
    {
      "cell_type": "markdown",
      "metadata": {
        "id": "CW1H00Ng5CVc"
      },
      "source": [
        "### Another example: arithmetic progression generator"
      ]
    },
    {
      "cell_type": "markdown",
      "metadata": {
        "id": "GA313nuY5DVy"
      },
      "source": [
        "The classic Iterator pattern is all about traversal: navigating some data structure. But a standard interface based on a method to fetch the next item in a series is also useful when the items are produced on the fly, instead of retrieved from a collection. \n",
        "\n",
        "For example, the range built-in generates a bounded arithmetic progression (AP) of integers, and the itertools.count function generates a boundless AP."
      ]
    },
    {
      "cell_type": "code",
      "metadata": {
        "id": "2Va0mV3iq6h4"
      },
      "source": [
        "class ArithmeticProgression:\n",
        "\n",
        "  def __init__(self, begin, step, end=None):\n",
        "    self.begin = begin\n",
        "    self.step = step\n",
        "    self.end = end     # None -> \"infinite\" series\n",
        "\n",
        "  def __iter__(self):\n",
        "    # produces a result value equal to self.begin, but coerced to the type of the subsequent additions\n",
        "    result = type(self.begin + self.step) ( self.begin)\n",
        "    forever = self.end is None\n",
        "    index = 0\n",
        "    while forever or result < self.end:\n",
        "      yield result\n",
        "      index += 1\n",
        "      # The next potential result is calculated. It may never be yielded, because the while loop may terminate.\n",
        "      result = self.begin + self.step * index"
      ],
      "execution_count": null,
      "outputs": []
    },
    {
      "cell_type": "code",
      "metadata": {
        "id": "tDXN__Ef6hv8",
        "colab": {
          "base_uri": "https://localhost:8080/"
        },
        "outputId": "c85ab323-7e06-479f-c595-39fbe80d9549"
      },
      "source": [
        "# Demonstration of an ArithmeticProgression class\n",
        "ap = ArithmeticProgression(0, 1, 3)\n",
        "list(ap)"
      ],
      "execution_count": null,
      "outputs": [
        {
          "output_type": "execute_result",
          "data": {
            "text/plain": [
              "[0, 1, 2]"
            ]
          },
          "metadata": {
            "tags": []
          },
          "execution_count": 2
        }
      ]
    },
    {
      "cell_type": "code",
      "metadata": {
        "id": "PDTuEGfi7Xm0",
        "colab": {
          "base_uri": "https://localhost:8080/"
        },
        "outputId": "71f7d9b9-6238-4dff-fc5b-1e74dd8d85a9"
      },
      "source": [
        "ap = ArithmeticProgression(0, .5, 3)\n",
        "list(ap)"
      ],
      "execution_count": null,
      "outputs": [
        {
          "output_type": "execute_result",
          "data": {
            "text/plain": [
              "[0.0, 0.5, 1.0, 1.5, 2.0, 2.5]"
            ]
          },
          "metadata": {
            "tags": []
          },
          "execution_count": 3
        }
      ]
    },
    {
      "cell_type": "code",
      "metadata": {
        "id": "eqcgSQ2l6oLL",
        "colab": {
          "base_uri": "https://localhost:8080/"
        },
        "outputId": "90c21e60-4404-4655-c73d-0a8260aa70f5"
      },
      "source": [
        "ap = ArithmeticProgression(0, 1/3, 1)\n",
        "list(ap)"
      ],
      "execution_count": null,
      "outputs": [
        {
          "output_type": "execute_result",
          "data": {
            "text/plain": [
              "[0.0, 0.3333333333333333, 0.6666666666666666]"
            ]
          },
          "metadata": {
            "tags": []
          },
          "execution_count": 4
        }
      ]
    },
    {
      "cell_type": "code",
      "metadata": {
        "id": "Ze32x5y37gTa"
      },
      "source": [
        "from fractions import Fraction\n",
        "from decimal import Decimal"
      ],
      "execution_count": null,
      "outputs": []
    },
    {
      "cell_type": "code",
      "metadata": {
        "id": "V1vqsqWQ7mmK",
        "colab": {
          "base_uri": "https://localhost:8080/"
        },
        "outputId": "e5d3246a-17d4-48f6-c028-457c446f2245"
      },
      "source": [
        "ap = ArithmeticProgression(0, Fraction(1, 3), 1)\n",
        "list(ap)"
      ],
      "execution_count": null,
      "outputs": [
        {
          "output_type": "execute_result",
          "data": {
            "text/plain": [
              "[Fraction(0, 1), Fraction(1, 3), Fraction(2, 3)]"
            ]
          },
          "metadata": {
            "tags": []
          },
          "execution_count": 6
        }
      ]
    },
    {
      "cell_type": "code",
      "metadata": {
        "id": "cI5CHTle7wLS",
        "colab": {
          "base_uri": "https://localhost:8080/"
        },
        "outputId": "831ed086-f81c-447f-8f01-ee0f190ee61d"
      },
      "source": [
        "ap = ArithmeticProgression(0, Decimal('.1'), .3)\n",
        "list(ap)"
      ],
      "execution_count": null,
      "outputs": [
        {
          "output_type": "execute_result",
          "data": {
            "text/plain": [
              "[Decimal('0'), Decimal('0.1'), Decimal('0.2')]"
            ]
          },
          "metadata": {
            "tags": []
          },
          "execution_count": 7
        }
      ]
    },
    {
      "cell_type": "markdown",
      "metadata": {
        "id": "fS8F1qQX8O4V"
      },
      "source": [
        "### Arithmetic progression with itertools"
      ]
    },
    {
      "cell_type": "markdown",
      "metadata": {
        "id": "dPYycYQ-8PpA"
      },
      "source": [
        "The itertools module in Python 3.4 has 19 generator functions that can be combined in a variety of interesting ways."
      ]
    },
    {
      "cell_type": "code",
      "metadata": {
        "id": "o96g5rdL72le"
      },
      "source": [
        "import itertools"
      ],
      "execution_count": null,
      "outputs": []
    },
    {
      "cell_type": "code",
      "metadata": {
        "id": "I6Zzq5HD8anI"
      },
      "source": [
        "gen = itertools.count(1, .5)"
      ],
      "execution_count": null,
      "outputs": []
    },
    {
      "cell_type": "code",
      "metadata": {
        "id": "hmsigOby8gtA",
        "colab": {
          "base_uri": "https://localhost:8080/"
        },
        "outputId": "9dc4c790-86f1-4b73-ce07-6b1509629ecd"
      },
      "source": [
        "next(gen)"
      ],
      "execution_count": null,
      "outputs": [
        {
          "output_type": "execute_result",
          "data": {
            "text/plain": [
              "1"
            ]
          },
          "metadata": {
            "tags": []
          },
          "execution_count": 10
        }
      ]
    },
    {
      "cell_type": "code",
      "metadata": {
        "id": "j_Jb2ZjL8iaR",
        "colab": {
          "base_uri": "https://localhost:8080/"
        },
        "outputId": "022e451c-c9ac-48ec-9f9e-e88442b6934a"
      },
      "source": [
        "next(gen)"
      ],
      "execution_count": null,
      "outputs": [
        {
          "output_type": "execute_result",
          "data": {
            "text/plain": [
              "1.5"
            ]
          },
          "metadata": {
            "tags": []
          },
          "execution_count": 11
        }
      ]
    },
    {
      "cell_type": "code",
      "metadata": {
        "id": "yOHOYnwW8kQ1",
        "colab": {
          "base_uri": "https://localhost:8080/"
        },
        "outputId": "a0693166-894e-4d39-ba57-c7f22802dc5d"
      },
      "source": [
        "next(gen)"
      ],
      "execution_count": null,
      "outputs": [
        {
          "output_type": "execute_result",
          "data": {
            "text/plain": [
              "2.0"
            ]
          },
          "metadata": {
            "tags": []
          },
          "execution_count": 12
        }
      ]
    },
    {
      "cell_type": "code",
      "metadata": {
        "id": "7z51MRUo8mjy",
        "colab": {
          "base_uri": "https://localhost:8080/"
        },
        "outputId": "76dc9758-116c-4df3-86d4-6c928989e8c6"
      },
      "source": [
        "next(gen)"
      ],
      "execution_count": null,
      "outputs": [
        {
          "output_type": "execute_result",
          "data": {
            "text/plain": [
              "2.5"
            ]
          },
          "metadata": {
            "tags": []
          },
          "execution_count": 13
        }
      ]
    },
    {
      "cell_type": "code",
      "metadata": {
        "id": "zda5y0rm8qPA",
        "colab": {
          "base_uri": "https://localhost:8080/"
        },
        "outputId": "87d8c274-2466-4bd0-c357-79d7a295369d"
      },
      "source": [
        "next(gen)"
      ],
      "execution_count": null,
      "outputs": [
        {
          "output_type": "execute_result",
          "data": {
            "text/plain": [
              "3.0"
            ]
          },
          "metadata": {
            "tags": []
          },
          "execution_count": 14
        }
      ]
    },
    {
      "cell_type": "markdown",
      "metadata": {
        "id": "mDciuffd8xBt"
      },
      "source": [
        "However, itertools.count never stops, so if you call list(count()), Python will try to build a list larger than available memory and your machine will be very grumpy long before the call fails.\n",
        "\n",
        "On the other hand, there is the itertools.takewhile function: it produces a generator which consumes another generator and stops when a given predicate evaluates to False. So we can combine the two and write this:"
      ]
    },
    {
      "cell_type": "code",
      "metadata": {
        "id": "ACv7hHwl8sl6",
        "colab": {
          "base_uri": "https://localhost:8080/"
        },
        "outputId": "abccb1cf-524a-44b0-83ab-e2dfbcd0b50f"
      },
      "source": [
        "gen = itertools.takewhile(lambda n: n < 3, itertools.count(1, .5))\n",
        "list(gen)"
      ],
      "execution_count": null,
      "outputs": [
        {
          "output_type": "execute_result",
          "data": {
            "text/plain": [
              "[1, 1.5, 2.0, 2.5]"
            ]
          },
          "metadata": {
            "tags": []
          },
          "execution_count": 15
        }
      ]
    },
    {
      "cell_type": "markdown",
      "metadata": {
        "id": "P77H7esc9Pt5"
      },
      "source": [
        "Leveraging takewhile and count is sweet and short."
      ]
    },
    {
      "cell_type": "code",
      "metadata": {
        "id": "xLoTSXSD9KdC"
      },
      "source": [
        "def aritprog_gen(begin, step, end=None):\n",
        "  first = type(begin + step) (begin)\n",
        "  ap_gen = itertools.count(first, step) \n",
        "  \n",
        "  if end is not None:\n",
        "    ap_gen = itertools.takewhile(lambda n: n < end, ap_gen)\n",
        "  return ap_gen"
      ],
      "execution_count": null,
      "outputs": []
    },
    {
      "cell_type": "markdown",
      "metadata": {
        "id": "9CcrapyZ-Ku5"
      },
      "source": [
        "Note that aritprog_gen is not a generator function: it has no yield in its body. But it returns a generator, so it operates as a generator factory, just as generator function does.\n",
        "\n",
        "when implementing generators, know what is available in the standard library, otherwise there’s a good chance you’ll reinvent the wheel."
      ]
    },
    {
      "cell_type": "markdown",
      "metadata": {
        "id": "VJZBFOCx-YYc"
      },
      "source": [
        "## Generator functions in the standard library"
      ]
    },
    {
      "cell_type": "markdown",
      "metadata": {
        "id": "NanizNAP-chA"
      },
      "source": [
        "The standard library provides many generators, from plain text file objects providing line by line iteration, to the awesome os.walk function which yields file names while traversing a directory tree, making recursive file system searches as simple as a for loop.\r\n",
        "\r\n",
        "The os.walk generator function is impressive, but I want to focus on general purpose functions that take arbitrary iterables as arguments and return generators that produce selected, computed or rearranged items.\r\n",
        "\r\n",
        "The first group are filtering generator functions: they yield a subset of items produced by the input iterable, without changing the items themselves.\r\n",
        "\r\n",
        "- **dropwhile(predicate, it)**:consumes it skipping items while predicate computes truthy, then yields every remaining item (no further checks are made)\r\n",
        "- **filter(predicate, it)**:applies predicate to each item of iterable, yielding the item if predicate(item) is truthy; if predicate is None, only truthy items are yielded\r\n",
        "- **filterfalse(predicate, it)**:same as filter, with the predicate logic negated: yields items whenever predicate computes falsy\r\n",
        "- **islice(it, stop) or islice(it, start, stop, step=1)**:yields items from a slice of it, similar to `s[:stop]` or `s[start:stop:step]` except it can be any iterable, and the operation is lazy\r\n",
        "- **takewhile(predicate, it)**:yields items while predicate computes truthy, then stops and no further checks are made\r\n",
        "\r\n",
        "Like takewhile, most functions take a predicate which is a one-argument boolean function that will be applied to each item in the input to determine whether the item is included in the output."
      ]
    },
    {
      "cell_type": "code",
      "metadata": {
        "id": "Eh71QcUU-GW4"
      },
      "source": [
        "# Filtering generator functions examples\r\n",
        "def vowel(c):\r\n",
        "  return c.lower() in \"aeiou\""
      ],
      "execution_count": 1,
      "outputs": []
    },
    {
      "cell_type": "code",
      "metadata": {
        "id": "gQBfGUdt_kLQ",
        "outputId": "fc62f687-f4f5-4c99-9071-ee12af81f81d",
        "colab": {
          "base_uri": "https://localhost:8080/"
        }
      },
      "source": [
        "list(filter(vowel, \"Aardvark\"))"
      ],
      "execution_count": 2,
      "outputs": [
        {
          "output_type": "execute_result",
          "data": {
            "text/plain": [
              "['A', 'a', 'a']"
            ]
          },
          "metadata": {
            "tags": []
          },
          "execution_count": 2
        }
      ]
    },
    {
      "cell_type": "code",
      "metadata": {
        "id": "Nh5h5nj8_0Dr",
        "outputId": "81718648-25c4-457c-e0f8-2075d4bd80f7",
        "colab": {
          "base_uri": "https://localhost:8080/"
        }
      },
      "source": [
        "import itertools\r\n",
        "\r\n",
        "list(itertools.filterfalse(vowel, \"Aardvark\"))"
      ],
      "execution_count": 3,
      "outputs": [
        {
          "output_type": "execute_result",
          "data": {
            "text/plain": [
              "['r', 'd', 'v', 'r', 'k']"
            ]
          },
          "metadata": {
            "tags": []
          },
          "execution_count": 3
        }
      ]
    },
    {
      "cell_type": "code",
      "metadata": {
        "id": "vSv0IdjQACxS",
        "outputId": "0119b6ed-9a1c-43b4-db7b-d0e5be40b807",
        "colab": {
          "base_uri": "https://localhost:8080/"
        }
      },
      "source": [
        "list(itertools.dropwhile(vowel, \"Aardvark\"))"
      ],
      "execution_count": 4,
      "outputs": [
        {
          "output_type": "execute_result",
          "data": {
            "text/plain": [
              "['r', 'd', 'v', 'a', 'r', 'k']"
            ]
          },
          "metadata": {
            "tags": []
          },
          "execution_count": 4
        }
      ]
    },
    {
      "cell_type": "code",
      "metadata": {
        "id": "wt5byDD3ANaY",
        "outputId": "49be6b25-6aea-4f91-9b2a-cb01b14dd973",
        "colab": {
          "base_uri": "https://localhost:8080/"
        }
      },
      "source": [
        "list(itertools.takewhile(vowel, \"Aardvark\"))"
      ],
      "execution_count": 5,
      "outputs": [
        {
          "output_type": "execute_result",
          "data": {
            "text/plain": [
              "['A', 'a']"
            ]
          },
          "metadata": {
            "tags": []
          },
          "execution_count": 5
        }
      ]
    },
    {
      "cell_type": "code",
      "metadata": {
        "id": "f8jTn1l8BgGt",
        "outputId": "d9a980c9-66fb-4946-d188-6f04bac05868",
        "colab": {
          "base_uri": "https://localhost:8080/"
        }
      },
      "source": [
        "list(itertools.compress(\"Aardvark\", (1, 0, 1, 1, 0, 1)))"
      ],
      "execution_count": 6,
      "outputs": [
        {
          "output_type": "execute_result",
          "data": {
            "text/plain": [
              "['A', 'r', 'd', 'a']"
            ]
          },
          "metadata": {
            "tags": []
          },
          "execution_count": 6
        }
      ]
    },
    {
      "cell_type": "code",
      "metadata": {
        "id": "6UIG29ojBt7P",
        "outputId": "65566b5d-73a4-4b92-dfb0-876679737484",
        "colab": {
          "base_uri": "https://localhost:8080/"
        }
      },
      "source": [
        "list(itertools.islice(\"Aardvark\", 4))"
      ],
      "execution_count": 7,
      "outputs": [
        {
          "output_type": "execute_result",
          "data": {
            "text/plain": [
              "['A', 'a', 'r', 'd']"
            ]
          },
          "metadata": {
            "tags": []
          },
          "execution_count": 7
        }
      ]
    },
    {
      "cell_type": "code",
      "metadata": {
        "id": "Au0zVJxGB0ed",
        "outputId": "c5e3cbf9-30e6-4d20-92a0-e39776304946",
        "colab": {
          "base_uri": "https://localhost:8080/"
        }
      },
      "source": [
        "list(itertools.islice(\"Aardvark\", 4, 7))"
      ],
      "execution_count": 8,
      "outputs": [
        {
          "output_type": "execute_result",
          "data": {
            "text/plain": [
              "['v', 'a', 'r']"
            ]
          },
          "metadata": {
            "tags": []
          },
          "execution_count": 8
        }
      ]
    },
    {
      "cell_type": "code",
      "metadata": {
        "id": "Qy2xoYlPB5Qg",
        "outputId": "aa92d751-edd6-4aad-9f0e-a6b352d2726a",
        "colab": {
          "base_uri": "https://localhost:8080/"
        }
      },
      "source": [
        "list(itertools.islice(\"Aardvark\", 1, 7, 2))"
      ],
      "execution_count": 9,
      "outputs": [
        {
          "output_type": "execute_result",
          "data": {
            "text/plain": [
              "['a', 'd', 'a']"
            ]
          },
          "metadata": {
            "tags": []
          },
          "execution_count": 9
        }
      ]
    },
    {
      "cell_type": "markdown",
      "metadata": {
        "id": "b_DblHliCir2"
      },
      "source": [
        "The next group are the mapping generators: they yield items computed from each individual item in the input iterable — or iterables, in the case of map and starmap.\r\n",
        "\r\n",
        "- **accumulate(it, [func])**: yields accumulated sums; if func is provided, yields the result of applying it the first pair of items, then to the first result and next item etc.\r\n",
        "- **enumerate(iterable, start=0)**: yields 2-tuples of the form (index, item), where index is counted from start, and item is taken from the iterable\r\n",
        "- **map(func, it1, [it2, …, itN])**: applies func to each item of it, yielding the result; if N iterables are given, func must take N arguments and the iterables will be consumed in parallel\r\n",
        "- **starmap(func, it)**: applies func to each item of it, yielding the result; the input iterable should yield iterable items iit, and func is applied as func(*iit)\r\n",
        "\r\n",
        "The generators yield one result per item in the input iterables. If the input\r\n",
        "comes from more than one iterable, the output stops as soon as the first input iterable is exhausted."
      ]
    },
    {
      "cell_type": "code",
      "metadata": {
        "id": "mVTu6LR8B866",
        "outputId": "bdb25011-00d8-4a6c-e472-ca09a96a4c4c",
        "colab": {
          "base_uri": "https://localhost:8080/"
        }
      },
      "source": [
        "# itertools.accumulate generator function examples.\r\n",
        "sample = [5, 4, 2, 8, 7, 6, 3, 0, 9, 1]\r\n",
        "\r\n",
        "list(itertools.accumulate(sample))"
      ],
      "execution_count": 10,
      "outputs": [
        {
          "output_type": "execute_result",
          "data": {
            "text/plain": [
              "[5, 9, 11, 19, 26, 32, 35, 35, 44, 45]"
            ]
          },
          "metadata": {
            "tags": []
          },
          "execution_count": 10
        }
      ]
    },
    {
      "cell_type": "code",
      "metadata": {
        "id": "7J74k8WSEHw5",
        "outputId": "6e126d9c-b048-4982-e932-02a3f0681dc7",
        "colab": {
          "base_uri": "https://localhost:8080/"
        }
      },
      "source": [
        "list(itertools.accumulate(sample, min))"
      ],
      "execution_count": 11,
      "outputs": [
        {
          "output_type": "execute_result",
          "data": {
            "text/plain": [
              "[5, 4, 2, 2, 2, 2, 2, 0, 0, 0]"
            ]
          },
          "metadata": {
            "tags": []
          },
          "execution_count": 11
        }
      ]
    },
    {
      "cell_type": "code",
      "metadata": {
        "id": "gPDGOmO-EPdc",
        "outputId": "7837509d-2c2c-45fc-ff15-dfd2e932524e",
        "colab": {
          "base_uri": "https://localhost:8080/"
        }
      },
      "source": [
        "list(itertools.accumulate(sample, max))"
      ],
      "execution_count": 12,
      "outputs": [
        {
          "output_type": "execute_result",
          "data": {
            "text/plain": [
              "[5, 5, 5, 8, 8, 8, 8, 8, 9, 9]"
            ]
          },
          "metadata": {
            "tags": []
          },
          "execution_count": 12
        }
      ]
    },
    {
      "cell_type": "code",
      "metadata": {
        "id": "VuBRAh6FERCk",
        "outputId": "7592de27-5a3b-4dfd-8610-1f3b7cdb867c",
        "colab": {
          "base_uri": "https://localhost:8080/"
        }
      },
      "source": [
        "import operator\r\n",
        "\r\n",
        "list(itertools.accumulate(sample, operator.mul))"
      ],
      "execution_count": 13,
      "outputs": [
        {
          "output_type": "execute_result",
          "data": {
            "text/plain": [
              "[5, 20, 40, 320, 2240, 13440, 40320, 0, 0, 0]"
            ]
          },
          "metadata": {
            "tags": []
          },
          "execution_count": 13
        }
      ]
    },
    {
      "cell_type": "code",
      "metadata": {
        "id": "dWbcH48aEeuS",
        "outputId": "38734e4e-c1c4-413d-8691-76cd612fdc9b",
        "colab": {
          "base_uri": "https://localhost:8080/"
        }
      },
      "source": [
        "list(itertools.accumulate(range(1, 11), operator.mul))"
      ],
      "execution_count": 14,
      "outputs": [
        {
          "output_type": "execute_result",
          "data": {
            "text/plain": [
              "[1, 2, 6, 24, 120, 720, 5040, 40320, 362880, 3628800]"
            ]
          },
          "metadata": {
            "tags": []
          },
          "execution_count": 14
        }
      ]
    },
    {
      "cell_type": "code",
      "metadata": {
        "id": "apOlnGr1ElGK",
        "outputId": "1db7c93c-15b9-4d41-d718-2fb2349fe3c9",
        "colab": {
          "base_uri": "https://localhost:8080/"
        }
      },
      "source": [
        "# Mapping generator function examples\r\n",
        "list(enumerate(\"albatroz\", 1))"
      ],
      "execution_count": 15,
      "outputs": [
        {
          "output_type": "execute_result",
          "data": {
            "text/plain": [
              "[(1, 'a'),\n",
              " (2, 'l'),\n",
              " (3, 'b'),\n",
              " (4, 'a'),\n",
              " (5, 't'),\n",
              " (6, 'r'),\n",
              " (7, 'o'),\n",
              " (8, 'z')]"
            ]
          },
          "metadata": {
            "tags": []
          },
          "execution_count": 15
        }
      ]
    },
    {
      "cell_type": "code",
      "metadata": {
        "id": "G4VLXvASE2fF",
        "outputId": "1d6e5b6a-0a63-4139-966f-af96d876f2c3",
        "colab": {
          "base_uri": "https://localhost:8080/"
        }
      },
      "source": [
        "# Squares of integers from 0 to 10.\r\n",
        "list(map(operator.mul, range(11), range(11)))"
      ],
      "execution_count": 16,
      "outputs": [
        {
          "output_type": "execute_result",
          "data": {
            "text/plain": [
              "[0, 1, 4, 9, 16, 25, 36, 49, 64, 81, 100]"
            ]
          },
          "metadata": {
            "tags": []
          },
          "execution_count": 16
        }
      ]
    },
    {
      "cell_type": "code",
      "metadata": {
        "id": "EDTxR6lDFE7V",
        "outputId": "306a9d57-9674-491d-8274-f4edf79c58d0",
        "colab": {
          "base_uri": "https://localhost:8080/"
        }
      },
      "source": [
        "# Multiplying numbers from two iterables in parallel: results stop when the shortest iterable ends.\r\n",
        "list(map(operator.mul, range(11), [2, 4, 8]))"
      ],
      "execution_count": 17,
      "outputs": [
        {
          "output_type": "execute_result",
          "data": {
            "text/plain": [
              "[0, 4, 16]"
            ]
          },
          "metadata": {
            "tags": []
          },
          "execution_count": 17
        }
      ]
    },
    {
      "cell_type": "code",
      "metadata": {
        "id": "lYvzgmcWFLmg",
        "outputId": "bf5b8db6-6604-4297-e56d-22888326c9f9",
        "colab": {
          "base_uri": "https://localhost:8080/"
        }
      },
      "source": [
        "# This is what the zip built-in function does.\r\n",
        "list(map(lambda a, b: (a, b), range(11), [2, 4, 8]))"
      ],
      "execution_count": 18,
      "outputs": [
        {
          "output_type": "execute_result",
          "data": {
            "text/plain": [
              "[(0, 2), (1, 4), (2, 8)]"
            ]
          },
          "metadata": {
            "tags": []
          },
          "execution_count": 18
        }
      ]
    },
    {
      "cell_type": "code",
      "metadata": {
        "id": "vtkr4bNhFno3",
        "outputId": "42d8c8c2-7ae7-46e2-b5cd-4673bf12a32d",
        "colab": {
          "base_uri": "https://localhost:8080/"
        }
      },
      "source": [
        "# Repeat each letter in the word according to its place in it, starting from 1.\r\n",
        "list(itertools.starmap(operator.mul, enumerate(\"albatroz\", 1)))"
      ],
      "execution_count": 19,
      "outputs": [
        {
          "output_type": "execute_result",
          "data": {
            "text/plain": [
              "['a', 'll', 'bbb', 'aaaa', 'ttttt', 'rrrrrr', 'ooooooo', 'zzzzzzzz']"
            ]
          },
          "metadata": {
            "tags": []
          },
          "execution_count": 19
        }
      ]
    },
    {
      "cell_type": "code",
      "metadata": {
        "id": "uXMEUOFSF8D5",
        "outputId": "c19ed199-4979-4485-de03-9361081bc938",
        "colab": {
          "base_uri": "https://localhost:8080/"
        }
      },
      "source": [
        "# Running average.\r\n",
        "list(itertools.starmap(lambda a, b: (a, b), enumerate(itertools.accumulate(sample), 1)))"
      ],
      "execution_count": 20,
      "outputs": [
        {
          "output_type": "execute_result",
          "data": {
            "text/plain": [
              "[(1, 5),\n",
              " (2, 9),\n",
              " (3, 11),\n",
              " (4, 19),\n",
              " (5, 26),\n",
              " (6, 32),\n",
              " (7, 35),\n",
              " (8, 35),\n",
              " (9, 44),\n",
              " (10, 45)]"
            ]
          },
          "metadata": {
            "tags": []
          },
          "execution_count": 20
        }
      ]
    },
    {
      "cell_type": "markdown",
      "metadata": {
        "id": "yhmIGSisGW8X"
      },
      "source": [
        "Next is the group of merging generators — all of these yield items from multiple input iterables. The chain and chain.from_iterable consume the input iterables sequentially (one after the other), while product, zip and zip_longest consume the input iterables in parallel.\r\n",
        "\r\n",
        "- **chain(it1, …, itN)**: yield all items from it1, then from it2 etc., seamlessly\r\n",
        "- **chain.from_iterable(it)**: yield all items from each iterable produced by it, one after the other, seamlessly; it should yield iterable items, for example, a list of iterables\r\n",
        "- **product(it1, …, itN, repeat=1)**:cartesian product: yields N-tuples made by combining items from each input iterable like nested for loops could produce; repeat allows the input iterables to be consumed more than once\r\n",
        "- **zip(it1, …, itN)**: yields N-tuples built from items taken from the iterables in parallel, silently stopping when the first iterable is exhausted\r\n",
        "- **zip_longest(it1, …,itN, fillvalue=None)**: yields N-tuples built from items taken from the iterables in parallel, stopping only when the last iterable is exhausted, filling the blanks with the fill value\r\n"
      ]
    },
    {
      "cell_type": "code",
      "metadata": {
        "id": "uHudkSVDGRPK",
        "outputId": "95f8388d-2ce9-461d-de70-621427366a44",
        "colab": {
          "base_uri": "https://localhost:8080/"
        }
      },
      "source": [
        "# chain is usually called with two or more iterables.\r\n",
        "list(itertools.chain(\"ABC\", range(4)))"
      ],
      "execution_count": 22,
      "outputs": [
        {
          "output_type": "execute_result",
          "data": {
            "text/plain": [
              "['A', 'B', 'C', 0, 1, 2, 3]"
            ]
          },
          "metadata": {
            "tags": []
          },
          "execution_count": 22
        }
      ]
    },
    {
      "cell_type": "code",
      "metadata": {
        "id": "P0g6kbB4gXd3",
        "outputId": "a841a9a0-7c69-478c-91a0-763d82c2a7b6",
        "colab": {
          "base_uri": "https://localhost:8080/"
        }
      },
      "source": [
        "# chain does nothing useful when called with a single iterable.\r\n",
        "list(itertools.chain(enumerate(\"ABC\")))"
      ],
      "execution_count": 23,
      "outputs": [
        {
          "output_type": "execute_result",
          "data": {
            "text/plain": [
              "[(0, 'A'), (1, 'B'), (2, 'C')]"
            ]
          },
          "metadata": {
            "tags": []
          },
          "execution_count": 23
        }
      ]
    },
    {
      "cell_type": "code",
      "metadata": {
        "id": "yX90pJokglqQ",
        "outputId": "23b87fd4-4721-4cd3-da7e-76590cb50256",
        "colab": {
          "base_uri": "https://localhost:8080/"
        }
      },
      "source": [
        "# But chain.from_iterable takes each item from the iterable, and chains them in sequence, as long as each item is itself iterable.\r\n",
        "list(itertools.chain.from_iterable(enumerate(\"ABC\")))"
      ],
      "execution_count": 24,
      "outputs": [
        {
          "output_type": "execute_result",
          "data": {
            "text/plain": [
              "[0, 'A', 1, 'B', 2, 'C']"
            ]
          },
          "metadata": {
            "tags": []
          },
          "execution_count": 24
        }
      ]
    },
    {
      "cell_type": "code",
      "metadata": {
        "id": "IxnEoV0gg11B",
        "outputId": "f8e3bc0f-cbc0-4bc6-a5b2-489b9455d201",
        "colab": {
          "base_uri": "https://localhost:8080/"
        }
      },
      "source": [
        "# zip is commonly used to merge two iterables into a series of two-tuples.\r\n",
        "list(zip(\"ABC\", range(5)))"
      ],
      "execution_count": 25,
      "outputs": [
        {
          "output_type": "execute_result",
          "data": {
            "text/plain": [
              "[('A', 0), ('B', 1), ('C', 2)]"
            ]
          },
          "metadata": {
            "tags": []
          },
          "execution_count": 25
        }
      ]
    },
    {
      "cell_type": "code",
      "metadata": {
        "id": "n95YhOoXg-oz",
        "outputId": "b364b25c-16a3-4490-df5a-c558b144af24",
        "colab": {
          "base_uri": "https://localhost:8080/"
        }
      },
      "source": [
        "# Any number of iterables can be consumed by zip in parallel, but the generator stops as soon as the first iterable ends.\r\n",
        "list(zip(\"ABC\", range(5), [10, 20, 30, 40]))"
      ],
      "execution_count": 26,
      "outputs": [
        {
          "output_type": "execute_result",
          "data": {
            "text/plain": [
              "[('A', 0, 10), ('B', 1, 20), ('C', 2, 30)]"
            ]
          },
          "metadata": {
            "tags": []
          },
          "execution_count": 26
        }
      ]
    },
    {
      "cell_type": "code",
      "metadata": {
        "id": "EufhPL3HhQYK",
        "outputId": "1e7bbc82-5c10-494f-f9f4-2345c41d3665",
        "colab": {
          "base_uri": "https://localhost:8080/"
        }
      },
      "source": [
        "# works like zip, except it consumes all input iterables to the end, padding output tuples with None as needed.\r\n",
        "list(itertools.zip_longest(\"ABC\", range(5)))"
      ],
      "execution_count": 27,
      "outputs": [
        {
          "output_type": "execute_result",
          "data": {
            "text/plain": [
              "[('A', 0), ('B', 1), ('C', 2), (None, 3), (None, 4)]"
            ]
          },
          "metadata": {
            "tags": []
          },
          "execution_count": 27
        }
      ]
    },
    {
      "cell_type": "code",
      "metadata": {
        "id": "hxya88wMhczh",
        "outputId": "f4ff8114-bd2c-42c1-e139-7f6102fd3282",
        "colab": {
          "base_uri": "https://localhost:8080/"
        }
      },
      "source": [
        "# The fillvalue keyword argument specifies a custom padding value.\r\n",
        "list(itertools.zip_longest(\"ABC\", range(5), fillvalue=\"?\"))"
      ],
      "execution_count": 28,
      "outputs": [
        {
          "output_type": "execute_result",
          "data": {
            "text/plain": [
              "[('A', 0), ('B', 1), ('C', 2), ('?', 3), ('?', 4)]"
            ]
          },
          "metadata": {
            "tags": []
          },
          "execution_count": 28
        }
      ]
    },
    {
      "cell_type": "markdown",
      "metadata": {
        "id": "IWG5SfXmh2n_"
      },
      "source": [
        "The itertools.product generator is a lazy way of computing cartesian products, which we built using list comprehensions with more than one for clause. Generator expressions with multiple for clauses can also be used to produce cartesian products lazily."
      ]
    },
    {
      "cell_type": "code",
      "metadata": {
        "id": "12g2T9UThpYM"
      },
      "source": [
        ""
      ],
      "execution_count": null,
      "outputs": []
    }
  ]
}