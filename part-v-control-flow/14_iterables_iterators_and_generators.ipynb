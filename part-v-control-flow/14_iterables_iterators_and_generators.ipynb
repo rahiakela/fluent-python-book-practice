{
  "nbformat": 4,
  "nbformat_minor": 0,
  "metadata": {
    "colab": {
      "name": "14-iterables-iterators-and-generators.ipynb",
      "provenance": [],
      "authorship_tag": "ABX9TyPhd/rGvFRFQnItTZg/QLwU",
      "include_colab_link": true
    },
    "kernelspec": {
      "name": "python3",
      "display_name": "Python 3"
    }
  },
  "cells": [
    {
      "cell_type": "markdown",
      "metadata": {
        "id": "view-in-github",
        "colab_type": "text"
      },
      "source": [
        "<a href=\"https://colab.research.google.com/github/rahiakela/fluent-python-book-practice/blob/master/part-v-control-flow/14_iterables_iterators_and_generators.ipynb\" target=\"_parent\"><img src=\"https://colab.research.google.com/assets/colab-badge.svg\" alt=\"Open In Colab\"/></a>"
      ]
    },
    {
      "cell_type": "markdown",
      "metadata": {
        "id": "36lBmkl63qQr"
      },
      "source": [
        "# Iterables, iterators and generators"
      ]
    }
  ]
}