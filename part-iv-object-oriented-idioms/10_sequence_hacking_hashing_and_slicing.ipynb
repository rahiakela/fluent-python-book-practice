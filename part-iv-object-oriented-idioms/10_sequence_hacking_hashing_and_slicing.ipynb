{
  "nbformat": 4,
  "nbformat_minor": 0,
  "metadata": {
    "colab": {
      "name": "10-sequence-hacking-hashing-and-slicing.ipynb",
      "provenance": [],
      "authorship_tag": "ABX9TyNVf3IOiA/Ck0ToQYw2/4Hd",
      "include_colab_link": true
    },
    "kernelspec": {
      "name": "python3",
      "display_name": "Python 3"
    }
  },
  "cells": [
    {
      "cell_type": "markdown",
      "metadata": {
        "id": "view-in-github",
        "colab_type": "text"
      },
      "source": [
        "<a href=\"https://colab.research.google.com/github/rahiakela/fluent-python-book-practice/blob/master/part-iv-object-oriented-idioms/10_sequence_hacking_hashing_and_slicing.ipynb\" target=\"_parent\"><img src=\"https://colab.research.google.com/assets/colab-badge.svg\" alt=\"Open In Colab\"/></a>"
      ]
    },
    {
      "cell_type": "markdown",
      "metadata": {
        "id": "4FGtDgrdwYEs"
      },
      "source": [
        "# Vector: a user-defined sequence type"
      ]
    },
    {
      "cell_type": "markdown",
      "metadata": {
        "id": "fO3Fc69TwHjd"
      },
      "source": [
        "In this notebook we will create a class to represent a multi-dimensional Vector class that will behave like a standard Python immutable flat sequence. Its elements will be floats, and it will support the following by the end of this chapter:\n",
        "\n",
        "- Basic sequence protocol: `__len__` and `__getitem__`.\n",
        "- Safe representation of instances with many items.\n",
        "- Proper slicing support, producing new Vector instances.\n",
        "- Aggregate hashing taking into account every contained element value.\n",
        "- Custom formatting language extension.\n",
        "\n",
        "We’ll also implement dynamic attribute access with __getattr__ as a way of replacing the read-only properties we used in Vector2d — although this is not typical of sequence types.\n",
        "\n",
        "We’ll talk about how protocols and duck typing are related, and its practical implications when you create your own types.\n",
        "\n",
        "Our strategy to implement Vector will be to use composition, not inheritance. We’ll store the components in an array of floats, and will implement the methods needed for our Vector to behave like an immutable flat sequence"
      ]
    },
    {
      "cell_type": "markdown",
      "metadata": {
        "id": "nN4xdA1kxIDW"
      },
      "source": [
        "## Who needs a vector with 1000-dimensions?"
      ]
    },
    {
      "cell_type": "markdown",
      "metadata": {
        "id": "mOxVnmvnxI_t"
      },
      "source": [
        "N-dimensional vectors (with large values of N) are widely used in\n",
        "information retrieval, where documents and text queries are represented as vectors, with one dimension per word. This is called the **Vector space model**. \n",
        "\n",
        "In this model, a key relevance metric is the cosine similarity, i.e. the cosine of the angle between a query vector and a document vector. As the angle decreases the cosine approaches the maximum value of 1, and so does the relevance of the document to the query.\n",
        "\n",
        "**NumPy** and **SciPy** are the tools you need for real world vector math. The PyPI package gemsim, by Radim Rehurek, implements vector space modeling for **natural language processing** and information retrieval, using NumPy and SciPy."
      ]
    },
    {
      "cell_type": "markdown",
      "metadata": {
        "id": "D2e0yYIhyIm4"
      },
      "source": [
        "## Vector take #1: Vector2d compatible"
      ]
    },
    {
      "cell_type": "markdown",
      "metadata": {
        "id": "afKWL_MVyJYs"
      },
      "source": [
        "We could make `Vector(3, 4)` and `Vector(3, 4, 5)` work, by taking arbitrary arguments with *args in `__init__`, but the best practice for a sequence constructor is to take the data as an iterable argument in the constructor, like all built-in sequence types do."
      ]
    },
    {
      "cell_type": "code",
      "metadata": {
        "id": "ovma4yzVy-w_"
      },
      "source": [
        "from array import array\n",
        "import math\n",
        "import reprlib"
      ],
      "execution_count": 2,
      "outputs": []
    },
    {
      "cell_type": "code",
      "metadata": {
        "id": "vkGSucfFzDGI"
      },
      "source": [
        "class Vector:\n",
        "  # typecode is a class attribute we’ll use when converting Vector2d instances to/from bytes.\n",
        "  typecode = 'd'\n",
        "\n",
        "  def __init__(self, components):\n",
        "    # protected attribute will hold an array with the Vector components.\n",
        "    self._components = array(self.typecode, components)\n",
        "\n",
        "  def __iter__(self):\n",
        "    # To allow iteration, we return an iterator over self._components\n",
        "    return iter(self._components)\n",
        "\n",
        "  def __repr__(self):\n",
        "    # Use reprlib.repr() to get a limited-length representation\n",
        "    components = reprlib.repr(self._components)\n",
        "    # Remove the array('d', prefix and the trailing ) before plugging the string into a Vector constructor call.\n",
        "    components = components[components.find(\"[\"):-1]\n",
        "    return 'Vector({})'.format(components)\n",
        "\n",
        "  def __str__(self):\n",
        "    # From an iterable Vector2d it’s easy to build a tuple for display as an ordered pair.\n",
        "    return str(tuple(self))\n",
        "\n",
        "  def __bytes__(self):\n",
        "    # Build a bytes object directly from self._components.\n",
        "    return (bytes([ord(self.typecode)]) + bytes(self._components))\n",
        "\n",
        "  def __eq__(self, other):\n",
        "    # To quickly compare all components, build tuples out of the operands.\n",
        "    return tuple(self) == tuple(other)\n",
        "\n",
        "  def __abs__(self):\n",
        "    # We can’t use hypot anymore, so we sum the squares of the components and compute the sqrt of that.\n",
        "    return math.sqrt(sum(x * x for x in self))\n",
        "\n",
        "  def __bool__(self):\n",
        "    # uses abs(self) to compute the magnitude, then converts it to bool\n",
        "    return bool(abs(self))\n",
        "\n",
        "  @classmethod\n",
        "  def frombytes(cls, octets):\n",
        "    typecode = chr(octets[0])\n",
        "    memv = memoryview(octets[1:]).cast(typecode)\n",
        "    # we pass the memoryview directly to the constructor, without unpacking with * as we did before.\n",
        "    return cls(memv)"
      ],
      "execution_count": 9,
      "outputs": []
    },
    {
      "cell_type": "code",
      "metadata": {
        "id": "BNK3nsBB2HzH",
        "outputId": "027112a0-b791-4f79-c7ae-674f06fb3e7b",
        "colab": {
          "base_uri": "https://localhost:8080/",
          "height": 35
        }
      },
      "source": [
        "Vector([3.1, 4.2])"
      ],
      "execution_count": 10,
      "outputs": [
        {
          "output_type": "execute_result",
          "data": {
            "text/plain": [
              "Vector([3.1, 4.2])"
            ]
          },
          "metadata": {
            "tags": []
          },
          "execution_count": 10
        }
      ]
    },
    {
      "cell_type": "code",
      "metadata": {
        "id": "SkqiO0cu2axP",
        "outputId": "49a8a1bb-b69b-4542-f7ea-9df2e2653d04",
        "colab": {
          "base_uri": "https://localhost:8080/",
          "height": 35
        }
      },
      "source": [
        "Vector((3, 4, 5))"
      ],
      "execution_count": 11,
      "outputs": [
        {
          "output_type": "execute_result",
          "data": {
            "text/plain": [
              "Vector([3.0, 4.0, 5.0])"
            ]
          },
          "metadata": {
            "tags": []
          },
          "execution_count": 11
        }
      ]
    },
    {
      "cell_type": "code",
      "metadata": {
        "id": "jUxYkoSi2ooP",
        "outputId": "32f9373a-4bcb-43a1-965f-ec1cd293bc8e",
        "colab": {
          "base_uri": "https://localhost:8080/",
          "height": 35
        }
      },
      "source": [
        "Vector(range(10))"
      ],
      "execution_count": 12,
      "outputs": [
        {
          "output_type": "execute_result",
          "data": {
            "text/plain": [
              "Vector([0.0, 1.0, 2.0, 3.0, 4.0, ...])"
            ]
          },
          "metadata": {
            "tags": []
          },
          "execution_count": 12
        }
      ]
    },
    {
      "cell_type": "markdown",
      "metadata": {
        "id": "vxWSkLna3foA"
      },
      "source": [
        "By the way, we could have sub-classed Vector from Vector2d but I chose not to do it for two reasons. First, the incompatible constructors really make sub-classing not advisable. I could work around that with some clever parameter handling in `__init__`, but the second reason is more important: I want Vector to be a stand-alone example of a class implementing the sequence protocol."
      ]
    },
    {
      "cell_type": "markdown",
      "metadata": {
        "id": "kLW_fACQ3mKk"
      },
      "source": [
        "### Protocols and duck typing"
      ]
    },
    {
      "cell_type": "markdown",
      "metadata": {
        "id": "hcRehDOJ3nEe"
      },
      "source": [
        "We don’t need to inherit from any special class to create a fully functional sequence type in Python, you just need to implement the methods\n",
        "that fulfill the sequence protocol. But what kind of protocol are we talking about?\n",
        "\n",
        "In the context of Object Oriented Programming, a protocol is an informal interface, defined only in documentation and not in code. For example, the sequence protocol in Python entails just the `__len__` and `__getitem__` methods. \n",
        "\n",
        "Any class Spam that implements those methods with the standard signature and semantics can be used anywhere a sequence is expected. Whether Spam is a subclass of this or that is irrelevant, all that matters is that it provides the necessary methods."
      ]
    },
    {
      "cell_type": "code",
      "metadata": {
        "id": "ySJviWKk2sRV"
      },
      "source": [
        "import collections"
      ],
      "execution_count": 13,
      "outputs": []
    },
    {
      "cell_type": "code",
      "metadata": {
        "id": "rkoGWvAo56PD"
      },
      "source": [
        "Card = collections.namedtuple('Card', ['rank', 'suit'])\n",
        "\n",
        "class FrenchDeck:\n",
        "  ranks = [str(n) for n in range(2, 11)] + list('JQKA')\n",
        "  suits = 'spades diamonds clubs hearts'.split()\n",
        "\n",
        "  def __init__(self):\n",
        "    self._cards = [Card(rank, suit) for suit in self.suits for rank in self.ranks]\n",
        "\n",
        "  def __len__(self):\n",
        "    return len(self._cards)\n",
        "\n",
        "  def __getitem__(self, position):\n",
        "    return self._cards[position]"
      ],
      "execution_count": 15,
      "outputs": []
    },
    {
      "cell_type": "markdown",
      "metadata": {
        "id": "1bA4ysSH8g-4"
      },
      "source": [
        "This class takes advantage of many Python facilities because it implements the sequence protocol, even if that is not declared anywhere in the code.\n",
        "\n",
        "Any experienced Python coder will look at it and understand that it is a sequence, even if it subclasses object. We say it is a sequence because it behaves like one, and that is what matters.\n",
        "\n",
        "Because protocols are informal and unenforced, you can often get away implementing just part of a protocol, if you know the specific context where a class will be used. \n",
        "\n",
        "For example, to support iteration, only `__getitem__` is required, there is no need to provide `__len__`."
      ]
    },
    {
      "cell_type": "markdown",
      "metadata": {
        "id": "lO_fFyBr88hJ"
      },
      "source": [
        "## Vector take #2: a sliceable sequence"
      ]
    },
    {
      "cell_type": "markdown",
      "metadata": {
        "id": "MTRxRr389YYe"
      },
      "source": [
        "Supporting the sequence protocol is really easy if you can delegate to a sequence attribute in your object, like our `self._components` array. These `__len__` and `__getitem__` one-liners are a good start:"
      ]
    },
    {
      "cell_type": "code",
      "metadata": {
        "id": "ImI7pZzR8KB-"
      },
      "source": [
        "class Vector:\n",
        "  # typecode is a class attribute we’ll use when converting Vector2d instances to/from bytes.\n",
        "  typecode = 'd'\n",
        "\n",
        "  def __init__(self, components):\n",
        "    # protected attribute will hold an array with the Vector components.\n",
        "    self._components = array(self.typecode, components)\n",
        "\n",
        "  def __iter__(self):\n",
        "    # To allow iteration, we return an iterator over self._components\n",
        "    return iter(self._components)\n",
        "\n",
        "  def __repr__(self):\n",
        "    # Use reprlib.repr() to get a limited-length representation\n",
        "    components = reprlib.repr(self._components)\n",
        "    # Remove the array('d', prefix and the trailing ) before plugging the string into a Vector constructor call.\n",
        "    components = components[components.find(\"[\"):-1]\n",
        "    return 'Vector({})'.format(components)\n",
        "\n",
        "  def __str__(self):\n",
        "    # From an iterable Vector2d it’s easy to build a tuple for display as an ordered pair.\n",
        "    return str(tuple(self))\n",
        "\n",
        "  def __bytes__(self):\n",
        "    # Build a bytes object directly from self._components.\n",
        "    return (bytes([ord(self.typecode)]) + bytes(self._components))\n",
        "\n",
        "  def __eq__(self, other):\n",
        "    # To quickly compare all components, build tuples out of the operands.\n",
        "    return tuple(self) == tuple(other)\n",
        "\n",
        "  def __abs__(self):\n",
        "    # We can’t use hypot anymore, so we sum the squares of the components and compute the sqrt of that.\n",
        "    return math.sqrt(sum(x * x for x in self))\n",
        "\n",
        "  def __bool__(self):\n",
        "    # uses abs(self) to compute the magnitude, then converts it to bool\n",
        "    return bool(abs(self))\n",
        "\n",
        "  def __len__(self):\n",
        "    return len(self._components)\n",
        "\n",
        "  def __getitem__(self, index):\n",
        "    return self._components[index]\n",
        "\n",
        "  @classmethod\n",
        "  def frombytes(cls, octets):\n",
        "    typecode = chr(octets[0])\n",
        "    memv = memoryview(octets[1:]).cast(typecode)\n",
        "    # we pass the memoryview directly to the constructor, without unpacking with * as we did before.\n",
        "    return cls(memv)"
      ],
      "execution_count": 16,
      "outputs": []
    },
    {
      "cell_type": "code",
      "metadata": {
        "id": "c2B3NHSr9283",
        "outputId": "7f6bd555-c5cf-4e84-b9b8-5f97d7846799",
        "colab": {
          "base_uri": "https://localhost:8080/",
          "height": 35
        }
      },
      "source": [
        "v1 = Vector([3, 4, 5])\n",
        "len(v1)"
      ],
      "execution_count": 18,
      "outputs": [
        {
          "output_type": "execute_result",
          "data": {
            "text/plain": [
              "3"
            ]
          },
          "metadata": {
            "tags": []
          },
          "execution_count": 18
        }
      ]
    },
    {
      "cell_type": "code",
      "metadata": {
        "id": "TtnavJzg978B",
        "outputId": "4852c0c7-4403-481f-8664-7b996a882103",
        "colab": {
          "base_uri": "https://localhost:8080/",
          "height": 35
        }
      },
      "source": [
        "v1[0], v1[-1]"
      ],
      "execution_count": 19,
      "outputs": [
        {
          "output_type": "execute_result",
          "data": {
            "text/plain": [
              "(3.0, 5.0)"
            ]
          },
          "metadata": {
            "tags": []
          },
          "execution_count": 19
        }
      ]
    },
    {
      "cell_type": "code",
      "metadata": {
        "id": "fXPAiaJ2-Ct5",
        "outputId": "2511fb85-271d-4171-fa9a-a99cae9f3c14",
        "colab": {
          "base_uri": "https://localhost:8080/",
          "height": 35
        }
      },
      "source": [
        "v7 = Vector(range(7))\n",
        "v7[1:4]"
      ],
      "execution_count": 20,
      "outputs": [
        {
          "output_type": "execute_result",
          "data": {
            "text/plain": [
              "array('d', [1.0, 2.0, 3.0])"
            ]
          },
          "metadata": {
            "tags": []
          },
          "execution_count": 20
        }
      ]
    },
    {
      "cell_type": "markdown",
      "metadata": {
        "id": "_E4dOAbw-ZAg"
      },
      "source": [
        "As you can see, even slicing is supported — but not very well. It would be better if a slice of a Vector was also a Vector instance and not a array.\n",
        "\n",
        "Consider the built-in sequence types: every one of them, when sliced, produces a new instance of its own type, and not of some other type.\n",
        "\n",
        "To make Vector produce slices as Vector instance, we can’t just delegate the slicing to array. We need to analyze the arguments we get in `__getitem__` and do the right thing."
      ]
    },
    {
      "cell_type": "markdown",
      "metadata": {
        "id": "ld2M6Q-S_LiH"
      },
      "source": [
        "### How slicing works"
      ]
    },
    {
      "cell_type": "markdown",
      "metadata": {
        "id": "YVFBAWlK_MZS"
      },
      "source": [
        "Checking out the behavior of `__getitem__` and slices."
      ]
    },
    {
      "cell_type": "code",
      "metadata": {
        "id": "uHG6O1k_-KWt"
      },
      "source": [
        "class MySeq:\n",
        "  def __getitem__(self, index):\n",
        "    return index"
      ],
      "execution_count": 21,
      "outputs": []
    },
    {
      "cell_type": "code",
      "metadata": {
        "id": "zztOppYN_tia",
        "outputId": "8411240e-336e-4516-98f7-42cbc1620730",
        "colab": {
          "base_uri": "https://localhost:8080/",
          "height": 35
        }
      },
      "source": [
        "s = MySeq()\n",
        "s[1]"
      ],
      "execution_count": 22,
      "outputs": [
        {
          "output_type": "execute_result",
          "data": {
            "text/plain": [
              "1"
            ]
          },
          "metadata": {
            "tags": []
          },
          "execution_count": 22
        }
      ]
    },
    {
      "cell_type": "code",
      "metadata": {
        "id": "wAVyfxeT_xu6",
        "outputId": "8cc96dbc-d502-4d37-dab5-12db58bbbed9",
        "colab": {
          "base_uri": "https://localhost:8080/",
          "height": 35
        }
      },
      "source": [
        "s[1:4]"
      ],
      "execution_count": 23,
      "outputs": [
        {
          "output_type": "execute_result",
          "data": {
            "text/plain": [
              "slice(1, 4, None)"
            ]
          },
          "metadata": {
            "tags": []
          },
          "execution_count": 23
        }
      ]
    },
    {
      "cell_type": "code",
      "metadata": {
        "id": "x_ydIXme_04V",
        "outputId": "c35c4e96-0f3d-4249-d4e4-f65d0e71c159",
        "colab": {
          "base_uri": "https://localhost:8080/",
          "height": 35
        }
      },
      "source": [
        "# slice(1, 4, 2) means start at 1, stop at 4, step by 2.\n",
        "s[1:4:2]"
      ],
      "execution_count": 24,
      "outputs": [
        {
          "output_type": "execute_result",
          "data": {
            "text/plain": [
              "slice(1, 4, 2)"
            ]
          },
          "metadata": {
            "tags": []
          },
          "execution_count": 24
        }
      ]
    },
    {
      "cell_type": "code",
      "metadata": {
        "id": "b8zeSLK7_3pJ",
        "outputId": "1c7a7499-39a2-448d-8e49-de7b05f1d349",
        "colab": {
          "base_uri": "https://localhost:8080/",
          "height": 35
        }
      },
      "source": [
        "# __getitem__ receives a tuple.\n",
        "s[1:4:2, 9]"
      ],
      "execution_count": 25,
      "outputs": [
        {
          "output_type": "execute_result",
          "data": {
            "text/plain": [
              "(slice(1, 4, 2), 9)"
            ]
          },
          "metadata": {
            "tags": []
          },
          "execution_count": 25
        }
      ]
    },
    {
      "cell_type": "code",
      "metadata": {
        "id": "ukFp_wpY_9z6",
        "outputId": "ca7ddfba-1e8d-4b68-a885-dbbd8557130c",
        "colab": {
          "base_uri": "https://localhost:8080/",
          "height": 35
        }
      },
      "source": [
        "# The tuple may even hold several slice objects.\n",
        "s[1:4:2, 7:9]"
      ],
      "execution_count": 26,
      "outputs": [
        {
          "output_type": "execute_result",
          "data": {
            "text/plain": [
              "(slice(1, 4, 2), slice(7, 9, None))"
            ]
          },
          "metadata": {
            "tags": []
          },
          "execution_count": 26
        }
      ]
    },
    {
      "cell_type": "code",
      "metadata": {
        "id": "DM_cT3gFACJT",
        "outputId": "46e57763-7cf8-4f1b-b3e3-32a960231b00",
        "colab": {
          "base_uri": "https://localhost:8080/",
          "height": 35
        }
      },
      "source": [
        "# Checking out the behavior of __getitem__ and slices.\n",
        "slice"
      ],
      "execution_count": 27,
      "outputs": [
        {
          "output_type": "execute_result",
          "data": {
            "text/plain": [
              "slice"
            ]
          },
          "metadata": {
            "tags": []
          },
          "execution_count": 27
        }
      ]
    },
    {
      "cell_type": "code",
      "metadata": {
        "id": "lWp8JnmKAXZ5",
        "outputId": "1c1c8323-0827-4d93-be2c-945c0c97ec55",
        "colab": {
          "base_uri": "https://localhost:8080/",
          "height": 497
        }
      },
      "source": [
        "dir(slice)"
      ],
      "execution_count": 28,
      "outputs": [
        {
          "output_type": "execute_result",
          "data": {
            "text/plain": [
              "['__class__',\n",
              " '__delattr__',\n",
              " '__dir__',\n",
              " '__doc__',\n",
              " '__eq__',\n",
              " '__format__',\n",
              " '__ge__',\n",
              " '__getattribute__',\n",
              " '__gt__',\n",
              " '__hash__',\n",
              " '__init__',\n",
              " '__init_subclass__',\n",
              " '__le__',\n",
              " '__lt__',\n",
              " '__ne__',\n",
              " '__new__',\n",
              " '__reduce__',\n",
              " '__reduce_ex__',\n",
              " '__repr__',\n",
              " '__setattr__',\n",
              " '__sizeof__',\n",
              " '__str__',\n",
              " '__subclasshook__',\n",
              " 'indices',\n",
              " 'start',\n",
              " 'step',\n",
              " 'stop']"
            ]
          },
          "metadata": {
            "tags": []
          },
          "execution_count": 28
        }
      ]
    },
    {
      "cell_type": "markdown",
      "metadata": {
        "id": "sWkprcXoA528"
      },
      "source": [
        "### A slice-aware `__getitem__`"
      ]
    },
    {
      "cell_type": "markdown",
      "metadata": {
        "id": "9tlwAvGFAuVS"
      },
      "source": [
        "In our Vector code we’ll not need the slice.indices() method because when we get a slice argument we’ll delegate its handling to the _components array. But if you can’t count on the services of an underlying sequence, this method can be a huge time saver.\n",
        "\n",
        "Now that we know how to handle slices, let’s see how the improved Vector.`__getitem__` implementation looks like.\n",
        "\n",
        "The following two methods needed to make Vector behave as a sequence:\n",
        "`__len__` and `__getitem__` — the latter now implemented to handle slicing correctly."
      ]
    },
    {
      "cell_type": "code",
      "metadata": {
        "id": "HCMX6ZDbAY5v"
      },
      "source": [
        "import numbers\n",
        "\n",
        "class Vector:\n",
        "  # typecode is a class attribute we’ll use when converting Vector2d instances to/from bytes.\n",
        "  typecode = 'd'\n",
        "\n",
        "  def __init__(self, components):\n",
        "    # protected attribute will hold an array with the Vector components.\n",
        "    self._components = array(self.typecode, components)\n",
        "\n",
        "  def __iter__(self):\n",
        "    # To allow iteration, we return an iterator over self._components\n",
        "    return iter(self._components)\n",
        "\n",
        "  def __repr__(self):\n",
        "    # Use reprlib.repr() to get a limited-length representation\n",
        "    components = reprlib.repr(self._components)\n",
        "    # Remove the array('d', prefix and the trailing ) before plugging the string into a Vector constructor call.\n",
        "    components = components[components.find(\"[\"):-1]\n",
        "    return 'Vector({})'.format(components)\n",
        "\n",
        "  def __str__(self):\n",
        "    # From an iterable Vector2d it’s easy to build a tuple for display as an ordered pair.\n",
        "    return str(tuple(self))\n",
        "\n",
        "  def __bytes__(self):\n",
        "    # Build a bytes object directly from self._components.\n",
        "    return (bytes([ord(self.typecode)]) + bytes(self._components))\n",
        "\n",
        "  def __eq__(self, other):\n",
        "    # To quickly compare all components, build tuples out of the operands.\n",
        "    return tuple(self) == tuple(other)\n",
        "\n",
        "  def __abs__(self):\n",
        "    # We can’t use hypot anymore, so we sum the squares of the components and compute the sqrt of that.\n",
        "    return math.sqrt(sum(x * x for x in self))\n",
        "\n",
        "  def __bool__(self):\n",
        "    # uses abs(self) to compute the magnitude, then converts it to bool\n",
        "    return bool(abs(self))\n",
        "\n",
        "  def __len__(self):\n",
        "    return len(self._components)\n",
        "\n",
        "  def __getitem__(self, index):\n",
        "    # Get the class of the instance (i.e. Vector) for later use.\n",
        "    cls = type(self)\n",
        "    if isinstance(index, slice):   # If the index argument is a slice…\n",
        "      # …invoke the class to build another Vector instance from a slice of the _components array.\n",
        "      return cls(self._components[index])\n",
        "    elif isinstance(index, numbers.Integral):  # If the index is an int or some other kind of integer…\n",
        "      # …just return the specific item from _components.\n",
        "      return self._components[index]\n",
        "    else:  # Otherwise, raise an exception.\n",
        "      msg = \"{cls.__name__} indices must be integers\"\n",
        "      raise TypeError(msg.format(cls=cls))\n",
        "\n",
        "    return self._components[index]\n",
        "\n",
        "  @classmethod\n",
        "  def frombytes(cls, octets):\n",
        "    typecode = chr(octets[0])\n",
        "    memv = memoryview(octets[1:]).cast(typecode)\n",
        "    # we pass the memoryview directly to the constructor, without unpacking with * as we did before.\n",
        "    return cls(memv)"
      ],
      "execution_count": 31,
      "outputs": []
    },
    {
      "cell_type": "markdown",
      "metadata": {
        "id": "8Vk-vpTrDUsc"
      },
      "source": [
        "To discover which exception to raise in the else clause of `__getitem__`, I used the interactive console to check the result of 'ABC'[1, 2]. I then learned that Python raises a TypeError, and I also copied the wording from the error message: “indices must be integers”. To create Pythonic objects, mimic Python’s own objects."
      ]
    },
    {
      "cell_type": "code",
      "metadata": {
        "id": "juRwNpUwC9Lg",
        "outputId": "fb3e1023-706f-4446-9b77-4ba1f34efcef",
        "colab": {
          "base_uri": "https://localhost:8080/",
          "height": 35
        }
      },
      "source": [
        "v7 = Vector(range(7))\n",
        "# An integer index retrieves just one component value as a float.\n",
        "v7[-1]"
      ],
      "execution_count": 32,
      "outputs": [
        {
          "output_type": "execute_result",
          "data": {
            "text/plain": [
              "6.0"
            ]
          },
          "metadata": {
            "tags": []
          },
          "execution_count": 32
        }
      ]
    },
    {
      "cell_type": "code",
      "metadata": {
        "id": "7E1NExzlDlkD",
        "outputId": "ff974a39-24e6-41f8-d412-ea6dd156fef3",
        "colab": {
          "base_uri": "https://localhost:8080/",
          "height": 35
        }
      },
      "source": [
        "# A slice index creates a new Vector.\n",
        "v7[1:4]"
      ],
      "execution_count": 33,
      "outputs": [
        {
          "output_type": "execute_result",
          "data": {
            "text/plain": [
              "Vector([1.0, 2.0, 3.0])"
            ]
          },
          "metadata": {
            "tags": []
          },
          "execution_count": 33
        }
      ]
    },
    {
      "cell_type": "code",
      "metadata": {
        "id": "jdJ_E91aDt8i",
        "outputId": "c64502ec-18c0-4383-df24-0743a2a65895",
        "colab": {
          "base_uri": "https://localhost:8080/",
          "height": 35
        }
      },
      "source": [
        "# A slice of len == 1 also creates a Vector.\n",
        "v7[-1:]"
      ],
      "execution_count": 34,
      "outputs": [
        {
          "output_type": "execute_result",
          "data": {
            "text/plain": [
              "Vector([6.0])"
            ]
          },
          "metadata": {
            "tags": []
          },
          "execution_count": 34
        }
      ]
    },
    {
      "cell_type": "code",
      "metadata": {
        "id": "JBMoQ2JVDwaX",
        "outputId": "59f8077d-3fab-4bd4-f846-c18e33967f4d",
        "colab": {
          "base_uri": "https://localhost:8080/",
          "height": 292
        }
      },
      "source": [
        "# Vector does not support multi-dimensional indexing, so a tuple of indices or slices raises an error.\n",
        "v7[1, 2]"
      ],
      "execution_count": 35,
      "outputs": [
        {
          "output_type": "error",
          "ename": "TypeError",
          "evalue": "ignored",
          "traceback": [
            "\u001b[0;31m---------------------------------------------------------------------------\u001b[0m",
            "\u001b[0;31mTypeError\u001b[0m                                 Traceback (most recent call last)",
            "\u001b[0;32m<ipython-input-35-54e115c7e17b>\u001b[0m in \u001b[0;36m<module>\u001b[0;34m()\u001b[0m\n\u001b[0;32m----> 1\u001b[0;31m \u001b[0mv7\u001b[0m\u001b[0;34m[\u001b[0m\u001b[0;36m1\u001b[0m\u001b[0;34m,\u001b[0m \u001b[0;36m2\u001b[0m\u001b[0;34m]\u001b[0m\u001b[0;34m\u001b[0m\u001b[0;34m\u001b[0m\u001b[0m\n\u001b[0m",
            "\u001b[0;32m<ipython-input-31-cfd8210104ed>\u001b[0m in \u001b[0;36m__getitem__\u001b[0;34m(self, index)\u001b[0m\n\u001b[1;32m     54\u001b[0m     \u001b[0;32melse\u001b[0m\u001b[0;34m:\u001b[0m  \u001b[0;31m# Otherwise, raise an exception.\u001b[0m\u001b[0;34m\u001b[0m\u001b[0;34m\u001b[0m\u001b[0m\n\u001b[1;32m     55\u001b[0m       \u001b[0mmsg\u001b[0m \u001b[0;34m=\u001b[0m \u001b[0;34m\"{cls.__name__} indices must be integers\"\u001b[0m\u001b[0;34m\u001b[0m\u001b[0;34m\u001b[0m\u001b[0m\n\u001b[0;32m---> 56\u001b[0;31m       \u001b[0;32mraise\u001b[0m \u001b[0mTypeError\u001b[0m\u001b[0;34m(\u001b[0m\u001b[0mmsg\u001b[0m\u001b[0;34m.\u001b[0m\u001b[0mformat\u001b[0m\u001b[0;34m(\u001b[0m\u001b[0mcls\u001b[0m\u001b[0;34m=\u001b[0m\u001b[0mcls\u001b[0m\u001b[0;34m)\u001b[0m\u001b[0;34m)\u001b[0m\u001b[0;34m\u001b[0m\u001b[0;34m\u001b[0m\u001b[0m\n\u001b[0m\u001b[1;32m     57\u001b[0m \u001b[0;34m\u001b[0m\u001b[0m\n\u001b[1;32m     58\u001b[0m     \u001b[0;32mreturn\u001b[0m \u001b[0mself\u001b[0m\u001b[0;34m.\u001b[0m\u001b[0m_components\u001b[0m\u001b[0;34m[\u001b[0m\u001b[0mindex\u001b[0m\u001b[0;34m]\u001b[0m\u001b[0;34m\u001b[0m\u001b[0;34m\u001b[0m\u001b[0m\n",
            "\u001b[0;31mTypeError\u001b[0m: Vector indices must be integers"
          ]
        }
      ]
    },
    {
      "cell_type": "markdown",
      "metadata": {
        "id": "W50QvvNfELEC"
      },
      "source": [
        "## Vector take #3: dynamic attribute access Vector"
      ]
    },
    {
      "cell_type": "code",
      "metadata": {
        "id": "AmZs45U8D0yU"
      },
      "source": [
        ""
      ],
      "execution_count": null,
      "outputs": []
    }
  ]
}