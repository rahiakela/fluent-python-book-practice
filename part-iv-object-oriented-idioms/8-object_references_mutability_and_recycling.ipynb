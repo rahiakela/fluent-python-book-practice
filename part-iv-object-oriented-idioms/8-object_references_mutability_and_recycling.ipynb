{
  "nbformat": 4,
  "nbformat_minor": 0,
  "metadata": {
    "colab": {
      "name": "object-references-mutability-and-recycling.ipynb",
      "provenance": [],
      "authorship_tag": "ABX9TyObHyzQUNz0Pcsx3T9eZP9L",
      "include_colab_link": true
    },
    "kernelspec": {
      "name": "python3",
      "display_name": "Python 3"
    }
  },
  "cells": [
    {
      "cell_type": "markdown",
      "metadata": {
        "id": "view-in-github",
        "colab_type": "text"
      },
      "source": [
        "<a href=\"https://colab.research.google.com/github/rahiakela/fluent-python-book-practice/blob/master/part-iv-object-oriented-idioms/8-object_references_mutability_and_recycling.ipynb\" target=\"_parent\"><img src=\"https://colab.research.google.com/assets/colab-badge.svg\" alt=\"Open In Colab\"/></a>"
      ]
    },
    {
      "cell_type": "markdown",
      "metadata": {
        "id": "JPEkT80PAPfl",
        "colab_type": "text"
      },
      "source": [
        "# Object references, mutability and recycling"
      ]
    },
    {
      "cell_type": "markdown",
      "metadata": {
        "id": "YwR9QOInAQZH",
        "colab_type": "text"
      },
      "source": [
        "## Variables are not boxes"
      ]
    },
    {
      "cell_type": "markdown",
      "metadata": {
        "id": "0KMkY0ZRAa56",
        "colab_type": "text"
      },
      "source": [
        "Python variables are like reference variables in Java, so it’s better to think of them as labels attached to objects.\n",
        "\n",
        "So variables a and b hold references to the same list, not copies of the list."
      ]
    },
    {
      "cell_type": "code",
      "metadata": {
        "id": "fVy5oUPMAqVB",
        "colab_type": "code",
        "colab": {
          "base_uri": "https://localhost:8080/",
          "height": 35
        },
        "outputId": "42049dd7-d587-4eda-cfe5-4183e3e18b5f"
      },
      "source": [
        "a = [1, 2, 3]\n",
        "b = a\n",
        "a.append(4)\n",
        "b"
      ],
      "execution_count": 1,
      "outputs": [
        {
          "output_type": "execute_result",
          "data": {
            "text/plain": [
              "[1, 2, 3, 4]"
            ]
          },
          "metadata": {
            "tags": []
          },
          "execution_count": 1
        }
      ]
    },
    {
      "cell_type": "markdown",
      "metadata": {
        "id": "-LUHipTABOJm",
        "colab_type": "text"
      },
      "source": [
        "If you imagine variables are like boxes, you can’t make sense of assignment\n",
        "in Python. Think of variables as Post-it notes. Then this becomes easy to explain.\n",
        "\n",
        "<img src='https://github.com/rahiakela/img-repo/blob/master/var-box.png?raw=1' width='800'/>\n",
        "\n",
        "With reference variables it makes much more sense to say that the variable is assigned to an object, and not the other way around. After all, the object is created before the assignment."
      ]
    },
    {
      "cell_type": "code",
      "metadata": {
        "id": "gwDSoC6gAyuT",
        "colab_type": "code",
        "colab": {}
      },
      "source": [
        "# Variables are assigned to objects only after the objects are created.\n",
        "class Gizmo:\n",
        "  def __init__(self):\n",
        "    print(f\"Gizmo id: {id(self)}\")"
      ],
      "execution_count": 2,
      "outputs": []
    },
    {
      "cell_type": "code",
      "metadata": {
        "id": "NAs7jm6VCcda",
        "colab_type": "code",
        "colab": {
          "base_uri": "https://localhost:8080/",
          "height": 35
        },
        "outputId": "064c0666-b912-4d21-a74c-73a7a26deded"
      },
      "source": [
        "# The output Gizmo id: ... is a side effect of creating a Gizmo instance.\n",
        "x = Gizmo()"
      ],
      "execution_count": 3,
      "outputs": [
        {
          "output_type": "stream",
          "text": [
            "Gizmo id: 140464294279992\n"
          ],
          "name": "stdout"
        }
      ]
    },
    {
      "cell_type": "code",
      "metadata": {
        "id": "inSNkxE4Cfgc",
        "colab_type": "code",
        "colab": {
          "base_uri": "https://localhost:8080/",
          "height": 203
        },
        "outputId": "923bf93e-ff4f-4cbb-d677-b15466adb2de"
      },
      "source": [
        "# Multiplying a Gizmo instance will raise an exception.\n",
        "y = Gizmo() * 10"
      ],
      "execution_count": 4,
      "outputs": [
        {
          "output_type": "stream",
          "text": [
            "Gizmo id: 140464294279936\n"
          ],
          "name": "stdout"
        },
        {
          "output_type": "error",
          "ename": "TypeError",
          "evalue": "ignored",
          "traceback": [
            "\u001b[0;31m---------------------------------------------------------------------------\u001b[0m",
            "\u001b[0;31mTypeError\u001b[0m                                 Traceback (most recent call last)",
            "\u001b[0;32m<ipython-input-4-bab57a179981>\u001b[0m in \u001b[0;36m<module>\u001b[0;34m()\u001b[0m\n\u001b[1;32m      1\u001b[0m \u001b[0;31m# Multiplying a Gizmo instance will raise an exception.\u001b[0m\u001b[0;34m\u001b[0m\u001b[0;34m\u001b[0m\u001b[0;34m\u001b[0m\u001b[0m\n\u001b[0;32m----> 2\u001b[0;31m \u001b[0my\u001b[0m \u001b[0;34m=\u001b[0m \u001b[0mGizmo\u001b[0m\u001b[0;34m(\u001b[0m\u001b[0;34m)\u001b[0m \u001b[0;34m*\u001b[0m \u001b[0;36m10\u001b[0m\u001b[0;34m\u001b[0m\u001b[0;34m\u001b[0m\u001b[0m\n\u001b[0m",
            "\u001b[0;31mTypeError\u001b[0m: unsupported operand type(s) for *: 'Gizmo' and 'int'"
          ]
        }
      ]
    },
    {
      "cell_type": "markdown",
      "metadata": {
        "id": "o7nxV8QGCu65",
        "colab_type": "text"
      },
      "source": [
        "Here is proof that a second Gizmo was actually instantiated before the\n",
        "multiplication was attempted.\n",
        "\n",
        "But variable y was never created, because the exception happened while the righthand side of the assignment was being evaluated."
      ]
    },
    {
      "cell_type": "code",
      "metadata": {
        "id": "11AlVvO-Ctft",
        "colab_type": "code",
        "colab": {
          "base_uri": "https://localhost:8080/",
          "height": 586
        },
        "outputId": "822862d2-e188-4ad0-9520-95bf2bb6093e"
      },
      "source": [
        "dir()"
      ],
      "execution_count": 5,
      "outputs": [
        {
          "output_type": "execute_result",
          "data": {
            "text/plain": [
              "['Gizmo',\n",
              " 'In',\n",
              " 'Out',\n",
              " '_',\n",
              " '_1',\n",
              " '__',\n",
              " '___',\n",
              " '__builtin__',\n",
              " '__builtins__',\n",
              " '__doc__',\n",
              " '__loader__',\n",
              " '__name__',\n",
              " '__package__',\n",
              " '__spec__',\n",
              " '_dh',\n",
              " '_i',\n",
              " '_i1',\n",
              " '_i2',\n",
              " '_i3',\n",
              " '_i4',\n",
              " '_i5',\n",
              " '_ih',\n",
              " '_ii',\n",
              " '_iii',\n",
              " '_oh',\n",
              " '_sh',\n",
              " 'a',\n",
              " 'b',\n",
              " 'exit',\n",
              " 'get_ipython',\n",
              " 'quit',\n",
              " 'x']"
            ]
          },
          "metadata": {
            "tags": []
          },
          "execution_count": 5
        }
      ]
    },
    {
      "cell_type": "markdown",
      "metadata": {
        "id": "VzqGnX_mDD0x",
        "colab_type": "text"
      },
      "source": [
        "## Identity, equality and aliases"
      ]
    },
    {
      "cell_type": "markdown",
      "metadata": {
        "id": "SOdr2w3MDEJs",
        "colab_type": "text"
      },
      "source": [
        "Since variables are mere labels, nothing prevents an object from having several labels assigned to it. When that happens, you have aliasing.\n",
        "\n",
        "For example Gulzar is the pen name of famous Indian poet Sampooran Singh Kalra. Gulzar is not only equal to Sampooran Singh Kalra: they are one and the same.\n",
        "\n",
        "So gulzar and ss_kalra refer to the same object."
      ]
    },
    {
      "cell_type": "code",
      "metadata": {
        "id": "bdGvvE9OC1zx",
        "colab_type": "code",
        "colab": {
          "base_uri": "https://localhost:8080/",
          "height": 35
        },
        "outputId": "9261ca27-7122-422c-a794-4af0c305d622"
      },
      "source": [
        "gulzar = {'name': 'Sampooran Singh Kalra', 'born': 1934}\n",
        "# ss_kalra is an alias for gulzar\n",
        "ss_kalra = gulzar\n",
        "ss_kalra is gulzar"
      ],
      "execution_count": 6,
      "outputs": [
        {
          "output_type": "execute_result",
          "data": {
            "text/plain": [
              "True"
            ]
          },
          "metadata": {
            "tags": []
          },
          "execution_count": 6
        }
      ]
    },
    {
      "cell_type": "code",
      "metadata": {
        "id": "_ziUlFoIEx_t",
        "colab_type": "code",
        "colab": {
          "base_uri": "https://localhost:8080/",
          "height": 35
        },
        "outputId": "f96211aa-0fef-487c-b9d9-d63fdef4bad1"
      },
      "source": [
        "# The is operator and the id function confirm it.\n",
        "id(gulzar), id(ss_kalra)"
      ],
      "execution_count": 7,
      "outputs": [
        {
          "output_type": "execute_result",
          "data": {
            "text/plain": [
              "(140464294434784, 140464294434784)"
            ]
          },
          "metadata": {
            "tags": []
          },
          "execution_count": 7
        }
      ]
    },
    {
      "cell_type": "code",
      "metadata": {
        "id": "54JJq416E9bf",
        "colab_type": "code",
        "colab": {
          "base_uri": "https://localhost:8080/",
          "height": 35
        },
        "outputId": "4f3b4891-3c83-4bff-d46b-fa444532b60c"
      },
      "source": [
        "# Adding an item to ss_kalra is the same as adding an item to gulzar.\n",
        "ss_kalra['balance'] = 86790\n",
        "ss_kalra"
      ],
      "execution_count": 9,
      "outputs": [
        {
          "output_type": "execute_result",
          "data": {
            "text/plain": [
              "{'balance': 86790, 'born': 1934, 'name': 'Sampooran Singh Kalra'}"
            ]
          },
          "metadata": {
            "tags": []
          },
          "execution_count": 9
        }
      ]
    },
    {
      "cell_type": "code",
      "metadata": {
        "id": "2JzrNhOQFU7n",
        "colab_type": "code",
        "colab": {
          "base_uri": "https://localhost:8080/",
          "height": 35
        },
        "outputId": "e1344778-ac68-42c4-9ae4-ff6ac3fdad9d"
      },
      "source": [
        "gulzar"
      ],
      "execution_count": 10,
      "outputs": [
        {
          "output_type": "execute_result",
          "data": {
            "text/plain": [
              "{'balance': 86790, 'born': 1934, 'name': 'Sampooran Singh Kalra'}"
            ]
          },
          "metadata": {
            "tags": []
          },
          "execution_count": 10
        }
      ]
    },
    {
      "cell_type": "markdown",
      "metadata": {
        "id": "4AguB-T_FkXz",
        "colab_type": "text"
      },
      "source": [
        "However, suppose an impostor — let’s call him Dr. Alexander Pedachenko — claims he is Sampooran Singh Kalra, born in 1934. His credentials may be the same, but Dr. Pedachenko is not Sampooran Singh Kalra.\n",
        "\n",
        "<img src='https://github.com/rahiakela/img-repo/blob/master/var-label.png?raw=1' width='800'/>\n",
        "\n",
        "So gulzar and ss_kalra are bound to the same object; alex is bound to a separate object of equal contents.\n",
        "\n"
      ]
    },
    {
      "cell_type": "code",
      "metadata": {
        "id": "JUgny3TjFYgv",
        "colab_type": "code",
        "colab": {
          "base_uri": "https://localhost:8080/",
          "height": 35
        },
        "outputId": "031058d3-a016-4697-fd21-c3893666b4b2"
      },
      "source": [
        "# alex and gulzar compare equal, but alex is not gulzar.\n",
        "\n",
        "# alex refers to an object that is a replica of the object assigned to gulzar.\n",
        "alex = {'name': 'Sampooran Singh Kalra', 'born': 1934, 'balance': 86790}\n",
        "\n",
        "# The objects compare equal, because of the __eq__ implementation in the dict class.\n",
        "alex == gulzar"
      ],
      "execution_count": 11,
      "outputs": [
        {
          "output_type": "execute_result",
          "data": {
            "text/plain": [
              "True"
            ]
          },
          "metadata": {
            "tags": []
          },
          "execution_count": 11
        }
      ]
    },
    {
      "cell_type": "code",
      "metadata": {
        "id": "tnIh1OQQHpP0",
        "colab_type": "code",
        "colab": {
          "base_uri": "https://localhost:8080/",
          "height": 35
        },
        "outputId": "63eb7295-458a-45e9-b387-18a6c0b8d629"
      },
      "source": [
        "# But they are distinct objects.\n",
        "alex is not gulzar"
      ],
      "execution_count": 12,
      "outputs": [
        {
          "output_type": "execute_result",
          "data": {
            "text/plain": [
              "True"
            ]
          },
          "metadata": {
            "tags": []
          },
          "execution_count": 12
        }
      ]
    },
    {
      "cell_type": "code",
      "metadata": {
        "id": "ghAb28rbH4is",
        "colab_type": "code",
        "colab": {
          "base_uri": "https://localhost:8080/",
          "height": 35
        },
        "outputId": "80fd0b54-3acc-4622-e844-d38edbc680c1"
      },
      "source": [
        "alex is gulzar"
      ],
      "execution_count": 13,
      "outputs": [
        {
          "output_type": "execute_result",
          "data": {
            "text/plain": [
              "False"
            ]
          },
          "metadata": {
            "tags": []
          },
          "execution_count": 13
        }
      ]
    },
    {
      "cell_type": "markdown",
      "metadata": {
        "id": "2GVYins6IJpL",
        "colab_type": "text"
      },
      "source": [
        "The key point is that the id is guaranteed to be a unique numeric\n",
        "label, and it will never change during the life of the object.\n",
        "\n",
        "The == operator compares the values of objects (the data they hold), while is compares their identities.\n",
        "\n",
        "We often care about values and not identities, so == appears more frequently than is in Python code.\n",
        "\n",
        "However, if you are comparing a variable to a singleton, then it makes sense to use is."
      ]
    },
    {
      "cell_type": "markdown",
      "metadata": {
        "id": "H5f6Y-V9IP_B",
        "colab_type": "text"
      },
      "source": [
        "## The relative immutability of tuples"
      ]
    },
    {
      "cell_type": "markdown",
      "metadata": {
        "id": "myVdLMaMIQzD",
        "colab_type": "text"
      },
      "source": [
        "Tuples, like most Python collections — lists, dicts, sets etc. — hold references to objects. If the referenced items are mutable, they may change even if the tuple itself does not. In other words, the immutability of tuples really refers to the physical contents of the tuple data structure (ie. the references it holds), and does not extend to the referenced objects.\n",
        "\n",
        "Here, t1 and t2 initially compare equal, but changing a mutable item inside\n",
        "tuple t1 makes it different."
      ]
    },
    {
      "cell_type": "code",
      "metadata": {
        "id": "beOZ6GIlH7Ns",
        "colab_type": "code",
        "colab": {
          "base_uri": "https://localhost:8080/",
          "height": 35
        },
        "outputId": "dc60c16a-e456-4204-8124-5037258114df"
      },
      "source": [
        "# t1 is immutable, but t1[-1] is mutable.\n",
        "t1 = (1, 2, [30, 40])\n",
        "# Build a tuple t2 whose items are equal to those of t1.\n",
        "t2 = (1, 2, [30, 40])\n",
        "\n",
        "# Although distinct objects, t1 and t2 compare equal, as expected.\n",
        "t1 == t2"
      ],
      "execution_count": 15,
      "outputs": [
        {
          "output_type": "execute_result",
          "data": {
            "text/plain": [
              "True"
            ]
          },
          "metadata": {
            "tags": []
          },
          "execution_count": 15
        }
      ]
    },
    {
      "cell_type": "code",
      "metadata": {
        "id": "EmuGrUfsJ71J",
        "colab_type": "code",
        "colab": {
          "base_uri": "https://localhost:8080/",
          "height": 35
        },
        "outputId": "47d0455d-4c38-443e-be30-7eb6f7a2fbdb"
      },
      "source": [
        "# Inspect the identity of the list at t1[-1].\n",
        "id(t1[-1])"
      ],
      "execution_count": 16,
      "outputs": [
        {
          "output_type": "execute_result",
          "data": {
            "text/plain": [
              "140464293598280"
            ]
          },
          "metadata": {
            "tags": []
          },
          "execution_count": 16
        }
      ]
    },
    {
      "cell_type": "code",
      "metadata": {
        "id": "DeyUpiKSKCCm",
        "colab_type": "code",
        "colab": {
          "base_uri": "https://localhost:8080/",
          "height": 35
        },
        "outputId": "efa37761-05ef-4160-cb27-99c4be04e968"
      },
      "source": [
        "# Modify the t1[-1] list in place.\n",
        "t1[-1].append(99)\n",
        "t1"
      ],
      "execution_count": 17,
      "outputs": [
        {
          "output_type": "execute_result",
          "data": {
            "text/plain": [
              "(1, 2, [30, 40, 99])"
            ]
          },
          "metadata": {
            "tags": []
          },
          "execution_count": 17
        }
      ]
    },
    {
      "cell_type": "code",
      "metadata": {
        "id": "381RWxAtKK92",
        "colab_type": "code",
        "colab": {
          "base_uri": "https://localhost:8080/",
          "height": 35
        },
        "outputId": "b56f8333-afc5-4770-d7b4-d8050302746b"
      },
      "source": [
        "# The identity of t1[-1] has not changed, only its value.\n",
        "id(t1[-1])"
      ],
      "execution_count": 18,
      "outputs": [
        {
          "output_type": "execute_result",
          "data": {
            "text/plain": [
              "140464293598280"
            ]
          },
          "metadata": {
            "tags": []
          },
          "execution_count": 18
        }
      ]
    },
    {
      "cell_type": "code",
      "metadata": {
        "id": "eLVyWT1dKSXk",
        "colab_type": "code",
        "colab": {
          "base_uri": "https://localhost:8080/",
          "height": 35
        },
        "outputId": "9f61ecc0-542d-452c-f2c8-ae746645c73e"
      },
      "source": [
        "# t1 and t2 are now different.\n",
        "t1 == t2"
      ],
      "execution_count": 19,
      "outputs": [
        {
          "output_type": "execute_result",
          "data": {
            "text/plain": [
              "False"
            ]
          },
          "metadata": {
            "tags": []
          },
          "execution_count": 19
        }
      ]
    },
    {
      "cell_type": "code",
      "metadata": {
        "id": "8Ro6vUKDKXEX",
        "colab_type": "code",
        "colab": {}
      },
      "source": [
        ""
      ],
      "execution_count": null,
      "outputs": []
    }
  ]
}