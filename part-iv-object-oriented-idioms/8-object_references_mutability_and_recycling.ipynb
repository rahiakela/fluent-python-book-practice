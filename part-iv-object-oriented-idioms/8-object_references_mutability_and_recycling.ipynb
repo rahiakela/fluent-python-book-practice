{
  "nbformat": 4,
  "nbformat_minor": 0,
  "metadata": {
    "colab": {
      "name": "object-references-mutability-and-recycling.ipynb",
      "provenance": [],
      "toc_visible": true,
      "authorship_tag": "ABX9TyM1Bhi1OZw6oBVRsJaHZOC/",
      "include_colab_link": true
    },
    "kernelspec": {
      "name": "python3",
      "display_name": "Python 3"
    }
  },
  "cells": [
    {
      "cell_type": "markdown",
      "metadata": {
        "id": "view-in-github",
        "colab_type": "text"
      },
      "source": [
        "<a href=\"https://colab.research.google.com/github/rahiakela/fluent-python-book-practice/blob/master/part-iv-object-oriented-idioms/8-object_references_mutability_and_recycling.ipynb\" target=\"_parent\"><img src=\"https://colab.research.google.com/assets/colab-badge.svg\" alt=\"Open In Colab\"/></a>"
      ]
    },
    {
      "cell_type": "markdown",
      "metadata": {
        "id": "JPEkT80PAPfl",
        "colab_type": "text"
      },
      "source": [
        "# Object references, mutability and recycling"
      ]
    },
    {
      "cell_type": "markdown",
      "metadata": {
        "id": "YwR9QOInAQZH",
        "colab_type": "text"
      },
      "source": [
        "## Variables are not boxes"
      ]
    },
    {
      "cell_type": "markdown",
      "metadata": {
        "id": "0KMkY0ZRAa56",
        "colab_type": "text"
      },
      "source": [
        "Python variables are like reference variables in Java, so it’s better to think of them as labels attached to objects.\n",
        "\n",
        "So variables a and b hold references to the same list, not copies of the list."
      ]
    },
    {
      "cell_type": "code",
      "metadata": {
        "id": "fVy5oUPMAqVB",
        "colab_type": "code",
        "colab": {
          "base_uri": "https://localhost:8080/",
          "height": 35
        },
        "outputId": "42049dd7-d587-4eda-cfe5-4183e3e18b5f"
      },
      "source": [
        "a = [1, 2, 3]\n",
        "b = a\n",
        "a.append(4)\n",
        "b"
      ],
      "execution_count": null,
      "outputs": [
        {
          "output_type": "execute_result",
          "data": {
            "text/plain": [
              "[1, 2, 3, 4]"
            ]
          },
          "metadata": {
            "tags": []
          },
          "execution_count": 1
        }
      ]
    },
    {
      "cell_type": "markdown",
      "metadata": {
        "id": "-LUHipTABOJm",
        "colab_type": "text"
      },
      "source": [
        "If you imagine variables are like boxes, you can’t make sense of assignment\n",
        "in Python. Think of variables as Post-it notes. Then this becomes easy to explain.\n",
        "\n",
        "<img src='https://github.com/rahiakela/img-repo/blob/master/var-box.png?raw=1' width='800'/>\n",
        "\n",
        "With reference variables it makes much more sense to say that the variable is assigned to an object, and not the other way around. After all, the object is created before the assignment."
      ]
    },
    {
      "cell_type": "code",
      "metadata": {
        "id": "gwDSoC6gAyuT",
        "colab_type": "code",
        "colab": {}
      },
      "source": [
        "# Variables are assigned to objects only after the objects are created.\n",
        "class Gizmo:\n",
        "  def __init__(self):\n",
        "    print(f\"Gizmo id: {id(self)}\")"
      ],
      "execution_count": null,
      "outputs": []
    },
    {
      "cell_type": "code",
      "metadata": {
        "id": "NAs7jm6VCcda",
        "colab_type": "code",
        "colab": {
          "base_uri": "https://localhost:8080/",
          "height": 35
        },
        "outputId": "064c0666-b912-4d21-a74c-73a7a26deded"
      },
      "source": [
        "# The output Gizmo id: ... is a side effect of creating a Gizmo instance.\n",
        "x = Gizmo()"
      ],
      "execution_count": null,
      "outputs": [
        {
          "output_type": "stream",
          "text": [
            "Gizmo id: 140464294279992\n"
          ],
          "name": "stdout"
        }
      ]
    },
    {
      "cell_type": "code",
      "metadata": {
        "id": "inSNkxE4Cfgc",
        "colab_type": "code",
        "colab": {
          "base_uri": "https://localhost:8080/",
          "height": 203
        },
        "outputId": "923bf93e-ff4f-4cbb-d677-b15466adb2de"
      },
      "source": [
        "# Multiplying a Gizmo instance will raise an exception.\n",
        "y = Gizmo() * 10"
      ],
      "execution_count": null,
      "outputs": [
        {
          "output_type": "stream",
          "text": [
            "Gizmo id: 140464294279936\n"
          ],
          "name": "stdout"
        },
        {
          "output_type": "error",
          "ename": "TypeError",
          "evalue": "ignored",
          "traceback": [
            "\u001b[0;31m---------------------------------------------------------------------------\u001b[0m",
            "\u001b[0;31mTypeError\u001b[0m                                 Traceback (most recent call last)",
            "\u001b[0;32m<ipython-input-4-bab57a179981>\u001b[0m in \u001b[0;36m<module>\u001b[0;34m()\u001b[0m\n\u001b[1;32m      1\u001b[0m \u001b[0;31m# Multiplying a Gizmo instance will raise an exception.\u001b[0m\u001b[0;34m\u001b[0m\u001b[0;34m\u001b[0m\u001b[0;34m\u001b[0m\u001b[0m\n\u001b[0;32m----> 2\u001b[0;31m \u001b[0my\u001b[0m \u001b[0;34m=\u001b[0m \u001b[0mGizmo\u001b[0m\u001b[0;34m(\u001b[0m\u001b[0;34m)\u001b[0m \u001b[0;34m*\u001b[0m \u001b[0;36m10\u001b[0m\u001b[0;34m\u001b[0m\u001b[0;34m\u001b[0m\u001b[0m\n\u001b[0m",
            "\u001b[0;31mTypeError\u001b[0m: unsupported operand type(s) for *: 'Gizmo' and 'int'"
          ]
        }
      ]
    },
    {
      "cell_type": "markdown",
      "metadata": {
        "id": "o7nxV8QGCu65",
        "colab_type": "text"
      },
      "source": [
        "Here is proof that a second Gizmo was actually instantiated before the\n",
        "multiplication was attempted.\n",
        "\n",
        "But variable y was never created, because the exception happened while the righthand side of the assignment was being evaluated."
      ]
    },
    {
      "cell_type": "code",
      "metadata": {
        "id": "11AlVvO-Ctft",
        "colab_type": "code",
        "colab": {
          "base_uri": "https://localhost:8080/",
          "height": 586
        },
        "outputId": "822862d2-e188-4ad0-9520-95bf2bb6093e"
      },
      "source": [
        "dir()"
      ],
      "execution_count": null,
      "outputs": [
        {
          "output_type": "execute_result",
          "data": {
            "text/plain": [
              "['Gizmo',\n",
              " 'In',\n",
              " 'Out',\n",
              " '_',\n",
              " '_1',\n",
              " '__',\n",
              " '___',\n",
              " '__builtin__',\n",
              " '__builtins__',\n",
              " '__doc__',\n",
              " '__loader__',\n",
              " '__name__',\n",
              " '__package__',\n",
              " '__spec__',\n",
              " '_dh',\n",
              " '_i',\n",
              " '_i1',\n",
              " '_i2',\n",
              " '_i3',\n",
              " '_i4',\n",
              " '_i5',\n",
              " '_ih',\n",
              " '_ii',\n",
              " '_iii',\n",
              " '_oh',\n",
              " '_sh',\n",
              " 'a',\n",
              " 'b',\n",
              " 'exit',\n",
              " 'get_ipython',\n",
              " 'quit',\n",
              " 'x']"
            ]
          },
          "metadata": {
            "tags": []
          },
          "execution_count": 5
        }
      ]
    },
    {
      "cell_type": "markdown",
      "metadata": {
        "id": "VzqGnX_mDD0x",
        "colab_type": "text"
      },
      "source": [
        "## Identity, equality and aliases"
      ]
    },
    {
      "cell_type": "markdown",
      "metadata": {
        "id": "SOdr2w3MDEJs",
        "colab_type": "text"
      },
      "source": [
        "Since variables are mere labels, nothing prevents an object from having several labels assigned to it. When that happens, you have aliasing.\n",
        "\n",
        "For example Gulzar is the pen name of famous Indian poet Sampooran Singh Kalra. Gulzar is not only equal to Sampooran Singh Kalra: they are one and the same.\n",
        "\n",
        "So gulzar and ss_kalra refer to the same object."
      ]
    },
    {
      "cell_type": "code",
      "metadata": {
        "id": "bdGvvE9OC1zx",
        "colab_type": "code",
        "colab": {
          "base_uri": "https://localhost:8080/",
          "height": 35
        },
        "outputId": "9261ca27-7122-422c-a794-4af0c305d622"
      },
      "source": [
        "gulzar = {'name': 'Sampooran Singh Kalra', 'born': 1934}\n",
        "# ss_kalra is an alias for gulzar\n",
        "ss_kalra = gulzar\n",
        "ss_kalra is gulzar"
      ],
      "execution_count": null,
      "outputs": [
        {
          "output_type": "execute_result",
          "data": {
            "text/plain": [
              "True"
            ]
          },
          "metadata": {
            "tags": []
          },
          "execution_count": 6
        }
      ]
    },
    {
      "cell_type": "code",
      "metadata": {
        "id": "_ziUlFoIEx_t",
        "colab_type": "code",
        "colab": {
          "base_uri": "https://localhost:8080/",
          "height": 35
        },
        "outputId": "f96211aa-0fef-487c-b9d9-d63fdef4bad1"
      },
      "source": [
        "# The is operator and the id function confirm it.\n",
        "id(gulzar), id(ss_kalra)"
      ],
      "execution_count": null,
      "outputs": [
        {
          "output_type": "execute_result",
          "data": {
            "text/plain": [
              "(140464294434784, 140464294434784)"
            ]
          },
          "metadata": {
            "tags": []
          },
          "execution_count": 7
        }
      ]
    },
    {
      "cell_type": "code",
      "metadata": {
        "id": "54JJq416E9bf",
        "colab_type": "code",
        "colab": {
          "base_uri": "https://localhost:8080/",
          "height": 35
        },
        "outputId": "4f3b4891-3c83-4bff-d46b-fa444532b60c"
      },
      "source": [
        "# Adding an item to ss_kalra is the same as adding an item to gulzar.\n",
        "ss_kalra['balance'] = 86790\n",
        "ss_kalra"
      ],
      "execution_count": null,
      "outputs": [
        {
          "output_type": "execute_result",
          "data": {
            "text/plain": [
              "{'balance': 86790, 'born': 1934, 'name': 'Sampooran Singh Kalra'}"
            ]
          },
          "metadata": {
            "tags": []
          },
          "execution_count": 9
        }
      ]
    },
    {
      "cell_type": "code",
      "metadata": {
        "id": "2JzrNhOQFU7n",
        "colab_type": "code",
        "colab": {
          "base_uri": "https://localhost:8080/",
          "height": 35
        },
        "outputId": "e1344778-ac68-42c4-9ae4-ff6ac3fdad9d"
      },
      "source": [
        "gulzar"
      ],
      "execution_count": null,
      "outputs": [
        {
          "output_type": "execute_result",
          "data": {
            "text/plain": [
              "{'balance': 86790, 'born': 1934, 'name': 'Sampooran Singh Kalra'}"
            ]
          },
          "metadata": {
            "tags": []
          },
          "execution_count": 10
        }
      ]
    },
    {
      "cell_type": "markdown",
      "metadata": {
        "id": "4AguB-T_FkXz",
        "colab_type": "text"
      },
      "source": [
        "However, suppose an impostor — let’s call him Dr. Alexander Pedachenko — claims he is Sampooran Singh Kalra, born in 1934. His credentials may be the same, but Dr. Pedachenko is not Sampooran Singh Kalra.\n",
        "\n",
        "<img src='https://github.com/rahiakela/img-repo/blob/master/var-label.png?raw=1' width='800'/>\n",
        "\n",
        "So gulzar and ss_kalra are bound to the same object; alex is bound to a separate object of equal contents.\n",
        "\n"
      ]
    },
    {
      "cell_type": "code",
      "metadata": {
        "id": "JUgny3TjFYgv",
        "colab_type": "code",
        "colab": {
          "base_uri": "https://localhost:8080/",
          "height": 35
        },
        "outputId": "031058d3-a016-4697-fd21-c3893666b4b2"
      },
      "source": [
        "# alex and gulzar compare equal, but alex is not gulzar.\n",
        "\n",
        "# alex refers to an object that is a replica of the object assigned to gulzar.\n",
        "alex = {'name': 'Sampooran Singh Kalra', 'born': 1934, 'balance': 86790}\n",
        "\n",
        "# The objects compare equal, because of the __eq__ implementation in the dict class.\n",
        "alex == gulzar"
      ],
      "execution_count": null,
      "outputs": [
        {
          "output_type": "execute_result",
          "data": {
            "text/plain": [
              "True"
            ]
          },
          "metadata": {
            "tags": []
          },
          "execution_count": 11
        }
      ]
    },
    {
      "cell_type": "code",
      "metadata": {
        "id": "tnIh1OQQHpP0",
        "colab_type": "code",
        "colab": {
          "base_uri": "https://localhost:8080/",
          "height": 35
        },
        "outputId": "63eb7295-458a-45e9-b387-18a6c0b8d629"
      },
      "source": [
        "# But they are distinct objects.\n",
        "alex is not gulzar"
      ],
      "execution_count": null,
      "outputs": [
        {
          "output_type": "execute_result",
          "data": {
            "text/plain": [
              "True"
            ]
          },
          "metadata": {
            "tags": []
          },
          "execution_count": 12
        }
      ]
    },
    {
      "cell_type": "code",
      "metadata": {
        "id": "ghAb28rbH4is",
        "colab_type": "code",
        "colab": {
          "base_uri": "https://localhost:8080/",
          "height": 35
        },
        "outputId": "80fd0b54-3acc-4622-e844-d38edbc680c1"
      },
      "source": [
        "alex is gulzar"
      ],
      "execution_count": null,
      "outputs": [
        {
          "output_type": "execute_result",
          "data": {
            "text/plain": [
              "False"
            ]
          },
          "metadata": {
            "tags": []
          },
          "execution_count": 13
        }
      ]
    },
    {
      "cell_type": "markdown",
      "metadata": {
        "id": "2GVYins6IJpL",
        "colab_type": "text"
      },
      "source": [
        "The key point is that the id is guaranteed to be a unique numeric\n",
        "label, and it will never change during the life of the object.\n",
        "\n",
        "The == operator compares the values of objects (the data they hold), while is compares their identities.\n",
        "\n",
        "We often care about values and not identities, so == appears more frequently than is in Python code.\n",
        "\n",
        "However, if you are comparing a variable to a singleton, then it makes sense to use is."
      ]
    },
    {
      "cell_type": "markdown",
      "metadata": {
        "id": "H5f6Y-V9IP_B",
        "colab_type": "text"
      },
      "source": [
        "### The relative immutability of tuples"
      ]
    },
    {
      "cell_type": "markdown",
      "metadata": {
        "id": "myVdLMaMIQzD",
        "colab_type": "text"
      },
      "source": [
        "Tuples, like most Python collections — lists, dicts, sets etc. — hold references to objects. If the referenced items are mutable, they may change even if the tuple itself does not. In other words, the immutability of tuples really refers to the physical contents of the tuple data structure (ie. the references it holds), and does not extend to the referenced objects.\n",
        "\n",
        "Here, t1 and t2 initially compare equal, but changing a mutable item inside\n",
        "tuple t1 makes it different."
      ]
    },
    {
      "cell_type": "code",
      "metadata": {
        "id": "beOZ6GIlH7Ns",
        "colab_type": "code",
        "colab": {
          "base_uri": "https://localhost:8080/",
          "height": 35
        },
        "outputId": "dc60c16a-e456-4204-8124-5037258114df"
      },
      "source": [
        "# t1 is immutable, but t1[-1] is mutable.\n",
        "t1 = (1, 2, [30, 40])\n",
        "# Build a tuple t2 whose items are equal to those of t1.\n",
        "t2 = (1, 2, [30, 40])\n",
        "\n",
        "# Although distinct objects, t1 and t2 compare equal, as expected.\n",
        "t1 == t2"
      ],
      "execution_count": null,
      "outputs": [
        {
          "output_type": "execute_result",
          "data": {
            "text/plain": [
              "True"
            ]
          },
          "metadata": {
            "tags": []
          },
          "execution_count": 15
        }
      ]
    },
    {
      "cell_type": "code",
      "metadata": {
        "id": "EmuGrUfsJ71J",
        "colab_type": "code",
        "colab": {
          "base_uri": "https://localhost:8080/",
          "height": 35
        },
        "outputId": "47d0455d-4c38-443e-be30-7eb6f7a2fbdb"
      },
      "source": [
        "# Inspect the identity of the list at t1[-1].\n",
        "id(t1[-1])"
      ],
      "execution_count": null,
      "outputs": [
        {
          "output_type": "execute_result",
          "data": {
            "text/plain": [
              "140464293598280"
            ]
          },
          "metadata": {
            "tags": []
          },
          "execution_count": 16
        }
      ]
    },
    {
      "cell_type": "code",
      "metadata": {
        "id": "DeyUpiKSKCCm",
        "colab_type": "code",
        "colab": {
          "base_uri": "https://localhost:8080/",
          "height": 35
        },
        "outputId": "efa37761-05ef-4160-cb27-99c4be04e968"
      },
      "source": [
        "# Modify the t1[-1] list in place.\n",
        "t1[-1].append(99)\n",
        "t1"
      ],
      "execution_count": null,
      "outputs": [
        {
          "output_type": "execute_result",
          "data": {
            "text/plain": [
              "(1, 2, [30, 40, 99])"
            ]
          },
          "metadata": {
            "tags": []
          },
          "execution_count": 17
        }
      ]
    },
    {
      "cell_type": "code",
      "metadata": {
        "id": "381RWxAtKK92",
        "colab_type": "code",
        "colab": {
          "base_uri": "https://localhost:8080/",
          "height": 35
        },
        "outputId": "b56f8333-afc5-4770-d7b4-d8050302746b"
      },
      "source": [
        "# The identity of t1[-1] has not changed, only its value.\n",
        "id(t1[-1])"
      ],
      "execution_count": null,
      "outputs": [
        {
          "output_type": "execute_result",
          "data": {
            "text/plain": [
              "140464293598280"
            ]
          },
          "metadata": {
            "tags": []
          },
          "execution_count": 18
        }
      ]
    },
    {
      "cell_type": "code",
      "metadata": {
        "id": "eLVyWT1dKSXk",
        "colab_type": "code",
        "colab": {
          "base_uri": "https://localhost:8080/",
          "height": 35
        },
        "outputId": "9f61ecc0-542d-452c-f2c8-ae746645c73e"
      },
      "source": [
        "# t1 and t2 are now different.\n",
        "t1 == t2"
      ],
      "execution_count": null,
      "outputs": [
        {
          "output_type": "execute_result",
          "data": {
            "text/plain": [
              "False"
            ]
          },
          "metadata": {
            "tags": []
          },
          "execution_count": 19
        }
      ]
    },
    {
      "cell_type": "markdown",
      "metadata": {
        "id": "tWi5Q2vqdTXE",
        "colab_type": "text"
      },
      "source": [
        "## Copies are shallow by default"
      ]
    },
    {
      "cell_type": "markdown",
      "metadata": {
        "id": "JyECAVCkdtVF",
        "colab_type": "text"
      },
      "source": [
        "The easiest way to copy a list (or most built-in mutable collections) is to use the builtin constructor for the type itself."
      ]
    },
    {
      "cell_type": "code",
      "metadata": {
        "id": "8Ro6vUKDKXEX",
        "colab_type": "code",
        "colab": {
          "base_uri": "https://localhost:8080/",
          "height": 35
        },
        "outputId": "56c54074-a488-4224-b53e-21705be8ecb7"
      },
      "source": [
        "l1 = [3, [55, 44], (7, 8, 9)]\n",
        "# list(l1) creates a copy of l1\n",
        "l2 = list(l1)\n",
        "l2"
      ],
      "execution_count": 1,
      "outputs": [
        {
          "output_type": "execute_result",
          "data": {
            "text/plain": [
              "[3, [55, 44], (7, 8, 9)]"
            ]
          },
          "metadata": {
            "tags": []
          },
          "execution_count": 1
        }
      ]
    },
    {
      "cell_type": "code",
      "metadata": {
        "id": "j1dBXnnCd5VG",
        "colab_type": "code",
        "colab": {
          "base_uri": "https://localhost:8080/",
          "height": 35
        },
        "outputId": "03ea4283-d844-42f7-dc6a-39c5087df105"
      },
      "source": [
        "# the copies are equal;\n",
        "l2 == l1"
      ],
      "execution_count": 2,
      "outputs": [
        {
          "output_type": "execute_result",
          "data": {
            "text/plain": [
              "True"
            ]
          },
          "metadata": {
            "tags": []
          },
          "execution_count": 2
        }
      ]
    },
    {
      "cell_type": "code",
      "metadata": {
        "id": "7h8iR9wJeFXj",
        "colab_type": "code",
        "colab": {
          "base_uri": "https://localhost:8080/",
          "height": 35
        },
        "outputId": "6a17194e-ac75-4267-b94a-9e411eb6d006"
      },
      "source": [
        "# but refer to two different objects.\n",
        "l2 is l1"
      ],
      "execution_count": 3,
      "outputs": [
        {
          "output_type": "execute_result",
          "data": {
            "text/plain": [
              "False"
            ]
          },
          "metadata": {
            "tags": []
          },
          "execution_count": 3
        }
      ]
    },
    {
      "cell_type": "markdown",
      "metadata": {
        "id": "mIR6sJqveZWx",
        "colab_type": "text"
      },
      "source": [
        "However, using the constructor or [:] produces a shallow copy, i.e. the outermost container is duplicated, but the copy is filled with references to the same items held by the original container. This saves memory and causes no problems if all the items are immutable. But if there are mutable items, this may lead to unpleasant surprises.\n",
        "\n",
        "<img src='https://github.com/rahiakela/img-repo/blob/master/object-assignment.png?raw=1' width='800'/>"
      ]
    },
    {
      "cell_type": "code",
      "metadata": {
        "id": "Zlg2xmTVeLBb",
        "colab_type": "code",
        "colab": {
          "base_uri": "https://localhost:8080/",
          "height": 88
        },
        "outputId": "abf9d54c-bdaa-4efa-dc82-8369958d20dd"
      },
      "source": [
        "l1 = [3, [66, 55, 44], (7, 8, 9)]\n",
        "# l2 is a shallow copy of l1. This state is depicted in Figure\n",
        "l2 = list(l1)\n",
        "# Appending 100 to l1 has no effect on l2.\n",
        "l1.append(100)\n",
        "# Here we remove 55 from the inner list l1[1]. This affects l2 because l2[1] is bound to the same list as l1[1].\n",
        "l1[1].remove(55)\n",
        "print('l1:', l1)\n",
        "print('l2:', l2)\n",
        "\n",
        "# For a mutable object like the list referred by l2[1], the operator += changes the\n",
        "# list in-place. This change is visible at l1[1], which is an alias for l2[1].\n",
        "l2[1] += [33, 22]\n",
        "# += on a tuple creates a new tuple and rebinds the variable l2[2] here. This is\n",
        "# the same as doing l2[2] = l2[2] + (10, 11).\n",
        "# Now the tuples in the last position of l1 and l2 are no longer the same object.\n",
        "l2[2] += (10, 11)\n",
        "print('l1:', l1)\n",
        "print('l2:', l2)"
      ],
      "execution_count": 5,
      "outputs": [
        {
          "output_type": "stream",
          "text": [
            "l1: [3, [66, 44], (7, 8, 9), 100]\n",
            "l2: [3, [66, 44], (7, 8, 9)]\n",
            "l1: [3, [66, 44, 33, 22], (7, 8, 9), 100]\n",
            "l2: [3, [66, 44, 33, 22], (7, 8, 9, 10, 11)]\n"
          ],
          "name": "stdout"
        }
      ]
    },
    {
      "cell_type": "markdown",
      "metadata": {
        "id": "Heb082dPhfX_",
        "colab_type": "text"
      },
      "source": [
        "<img src='https://github.com/rahiakela/img-repo/blob/master/object-assignment2.png?raw=1' width='800'/>\n",
        "\n",
        "It should be clear now that shallow copies are easy to make, but they may or may not be what you want."
      ]
    },
    {
      "cell_type": "markdown",
      "metadata": {
        "id": "HQqkdXl5hp7R",
        "colab_type": "text"
      },
      "source": [
        "### Deep and shallow copies of arbitrary objects"
      ]
    },
    {
      "cell_type": "markdown",
      "metadata": {
        "id": "tmlgDncWhrH-",
        "colab_type": "text"
      },
      "source": [
        "Working with shallow copies is not always a problem, but sometimes you need to make deep copies, i.e. duplicates that do not share references of embedded objects. \n",
        "\n",
        "The copy module provides the deepcopy and copy functions that return deep and shallow copies of arbitrary objects.\n",
        "\n",
        "A simple class Bus, representing a school bus that is loaded with passengers and then picks or drops passengers on its route."
      ]
    },
    {
      "cell_type": "code",
      "metadata": {
        "id": "e4-DXOMVhQUu",
        "colab_type": "code",
        "colab": {}
      },
      "source": [
        "class Bus:\n",
        "\n",
        "  def __init__(self, passengers=None):\n",
        "    if passengers is None:\n",
        "      self.passengers = []\n",
        "    else:\n",
        "      self.passengers = list(passengers)\n",
        "\n",
        "  def pick(self, name):\n",
        "    self.passengers.append(name)\n",
        "\n",
        "  def drop(self, name):\n",
        "    self.passengers.remove(name)"
      ],
      "execution_count": 6,
      "outputs": []
    },
    {
      "cell_type": "markdown",
      "metadata": {
        "id": "Vq6ZRNUWjAVu",
        "colab_type": "text"
      },
      "source": [
        "we will create a Bus instance, bus1 and two clones: a shallow copy (bus2) and a deep copy (bus3), to observe what happens as bus1 drops a student."
      ]
    },
    {
      "cell_type": "code",
      "metadata": {
        "id": "lBeQFxwri4hy",
        "colab_type": "code",
        "colab": {
          "base_uri": "https://localhost:8080/",
          "height": 35
        },
        "outputId": "06733141-243f-462a-b263-a1629e8d5d46"
      },
      "source": [
        "import copy\n",
        "\n",
        "bus1 = Bus(['Alice', 'Bill', 'Claire', 'David'])\n",
        "bus2 = copy.copy(bus1)\n",
        "bus3 = copy.deepcopy(bus1)\n",
        "# Using copy and deepcopy we create three distinct Bus instances.\n",
        "id(bus1), id(bus2), id(bus3)"
      ],
      "execution_count": 10,
      "outputs": [
        {
          "output_type": "execute_result",
          "data": {
            "text/plain": [
              "(139800284821152, 139800284822104, 139800284821656)"
            ]
          },
          "metadata": {
            "tags": []
          },
          "execution_count": 10
        }
      ]
    },
    {
      "cell_type": "code",
      "metadata": {
        "id": "56SpcaiRjxmD",
        "colab_type": "code",
        "colab": {
          "base_uri": "https://localhost:8080/",
          "height": 70
        },
        "outputId": "353b27e9-1864-42b4-e53e-8f2a7aadff4e"
      },
      "source": [
        "bus1.passengers, bus2.passengers, bus3.passengers"
      ],
      "execution_count": 12,
      "outputs": [
        {
          "output_type": "execute_result",
          "data": {
            "text/plain": [
              "(['Alice', 'Bill', 'Claire', 'David'],\n",
              " ['Alice', 'Bill', 'Claire', 'David'],\n",
              " ['Alice', 'Bill', 'Claire', 'David'])"
            ]
          },
          "metadata": {
            "tags": []
          },
          "execution_count": 12
        }
      ]
    },
    {
      "cell_type": "code",
      "metadata": {
        "id": "q-9hTdKTjeOl",
        "colab_type": "code",
        "colab": {
          "base_uri": "https://localhost:8080/",
          "height": 35
        },
        "outputId": "8ad828b2-ea13-48eb-c83b-7e73f97b9cbc"
      },
      "source": [
        "bus1.drop('Bill')\n",
        "# After bus1 drops 'Bill', he is also missing from bus2.\n",
        "bus2.passengers"
      ],
      "execution_count": 13,
      "outputs": [
        {
          "output_type": "execute_result",
          "data": {
            "text/plain": [
              "['Alice', 'Claire', 'David']"
            ]
          },
          "metadata": {
            "tags": []
          },
          "execution_count": 13
        }
      ]
    },
    {
      "cell_type": "code",
      "metadata": {
        "id": "36lUkDkAjtSH",
        "colab_type": "code",
        "colab": {
          "base_uri": "https://localhost:8080/",
          "height": 35
        },
        "outputId": "7f89b857-2fef-45f8-e12c-6ab2cd151215"
      },
      "source": [
        "# Inspection of the passengers atributes shows that bus1 and bus2 share the same\n",
        "# list object, because bus2 is a shallow copy of bus1.\n",
        "id(bus1.passengers), id(bus1.passengers), id(bus2.passengers)"
      ],
      "execution_count": 14,
      "outputs": [
        {
          "output_type": "execute_result",
          "data": {
            "text/plain": [
              "(139800284954952, 139800284954952, 139800284954952)"
            ]
          },
          "metadata": {
            "tags": []
          },
          "execution_count": 14
        }
      ]
    },
    {
      "cell_type": "code",
      "metadata": {
        "id": "DFh0mdF9kQ-g",
        "colab_type": "code",
        "colab": {
          "base_uri": "https://localhost:8080/",
          "height": 70
        },
        "outputId": "3ba3e9e1-5610-47f6-e95e-cd2b222e3375"
      },
      "source": [
        "# bus3 is a deep copy of bus1, so its passengers attribute refers to another list.\n",
        "bus1.passengers, bus2.passengers, bus3.passengers"
      ],
      "execution_count": 15,
      "outputs": [
        {
          "output_type": "execute_result",
          "data": {
            "text/plain": [
              "(['Alice', 'Claire', 'David'],\n",
              " ['Alice', 'Claire', 'David'],\n",
              " ['Alice', 'Bill', 'Claire', 'David'])"
            ]
          },
          "metadata": {
            "tags": []
          },
          "execution_count": 15
        }
      ]
    },
    {
      "cell_type": "markdown",
      "metadata": {
        "id": "i9sMbARXkl8h",
        "colab_type": "text"
      },
      "source": [
        "Note that making deep copies is not a simple matter in the general case. Objects may have cyclic references which would cause a naïve algorithm to enter an infinite loop.\n",
        "\n",
        "The deepcopy function remembers the objects already copied to handle cyclic references gracefully."
      ]
    },
    {
      "cell_type": "code",
      "metadata": {
        "id": "-90glquskYzg",
        "colab_type": "code",
        "colab": {
          "base_uri": "https://localhost:8080/",
          "height": 35
        },
        "outputId": "6046c548-a811-49b3-ac32-5588dad2a099"
      },
      "source": [
        "# Cyclic references: b refers to a, and then is appended to a; deepcopy still manages to copy a.\n",
        "a = [10, 20]\n",
        "b = [a, 30]\n",
        "a.append(b)\n",
        "a"
      ],
      "execution_count": 16,
      "outputs": [
        {
          "output_type": "execute_result",
          "data": {
            "text/plain": [
              "[10, 20, [[...], 30]]"
            ]
          },
          "metadata": {
            "tags": []
          },
          "execution_count": 16
        }
      ]
    },
    {
      "cell_type": "code",
      "metadata": {
        "id": "wX4AhKr5k5kU",
        "colab_type": "code",
        "colab": {
          "base_uri": "https://localhost:8080/",
          "height": 35
        },
        "outputId": "aae75127-0719-427c-d156-e863bc52be41"
      },
      "source": [
        "from copy import deepcopy\n",
        "\n",
        "c = deepcopy(a)\n",
        "c"
      ],
      "execution_count": 17,
      "outputs": [
        {
          "output_type": "execute_result",
          "data": {
            "text/plain": [
              "[10, 20, [[...], 30]]"
            ]
          },
          "metadata": {
            "tags": []
          },
          "execution_count": 17
        }
      ]
    },
    {
      "cell_type": "markdown",
      "metadata": {
        "id": "qwXxHDnMlL1_",
        "colab_type": "text"
      },
      "source": [
        "Also, a deep copy may be too deep in some cases. For example, objects may refer to external resources or singletons that should not be copied.\n",
        "\n",
        "You may control the behavior of both copy and deepcopy by implementing the `__copy__()` and `__deepcopy__()` special methods."
      ]
    },
    {
      "cell_type": "markdown",
      "metadata": {
        "id": "8XMMleJ7li-E",
        "colab_type": "text"
      },
      "source": [
        "## Function parameters as references"
      ]
    },
    {
      "cell_type": "markdown",
      "metadata": {
        "id": "vnpyvDkSlj-n",
        "colab_type": "text"
      },
      "source": [
        "The only mode of parameter passing in Python is call by sharing.\n",
        "\n",
        "Call by sharing means that each formal parameter of the function gets a copy of each reference in the arguments.\n",
        "\n",
        "In other words, the parameters inside the function become aliases of the actual arguments.\n",
        "\n",
        "The result of this scheme is that a function may change any mutable object passed as a parameter, but it cannot change the identity of those objects, i.e. it cannot replace altogether an object with another."
      ]
    },
    {
      "cell_type": "code",
      "metadata": {
        "id": "wdOXVnoclEo8",
        "colab_type": "code",
        "colab": {}
      },
      "source": [
        "# A function may change any mutable object it receives.\n",
        "def f(a, b):\n",
        "  a += b\n",
        "  return a"
      ],
      "execution_count": 18,
      "outputs": []
    },
    {
      "cell_type": "code",
      "metadata": {
        "id": "J1uutp6bm7m7",
        "colab_type": "code",
        "colab": {
          "base_uri": "https://localhost:8080/",
          "height": 35
        },
        "outputId": "0329efe4-6e16-4a39-dae5-843d17b1f436"
      },
      "source": [
        "x = 1\n",
        "y = 2\n",
        "\n",
        "# The number x is unchanged.\n",
        "f(x, y)"
      ],
      "execution_count": 19,
      "outputs": [
        {
          "output_type": "execute_result",
          "data": {
            "text/plain": [
              "3"
            ]
          },
          "metadata": {
            "tags": []
          },
          "execution_count": 19
        }
      ]
    },
    {
      "cell_type": "code",
      "metadata": {
        "id": "tRN3Hn4JnAo2",
        "colab_type": "code",
        "colab": {
          "base_uri": "https://localhost:8080/",
          "height": 35
        },
        "outputId": "d140e91c-35e3-4cb2-de8a-bf74477410e7"
      },
      "source": [
        "a = [1, 2]\n",
        "b = [3, 4]\n",
        "\n",
        "f(a, b)"
      ],
      "execution_count": 20,
      "outputs": [
        {
          "output_type": "execute_result",
          "data": {
            "text/plain": [
              "[1, 2, 3, 4]"
            ]
          },
          "metadata": {
            "tags": []
          },
          "execution_count": 20
        }
      ]
    },
    {
      "cell_type": "code",
      "metadata": {
        "id": "zEsi1bY_nR63",
        "colab_type": "code",
        "colab": {
          "base_uri": "https://localhost:8080/",
          "height": 35
        },
        "outputId": "067e44d5-ce4d-40d5-b074-76ff83be73ae"
      },
      "source": [
        "# The list a is changed.\n",
        "a, b"
      ],
      "execution_count": 21,
      "outputs": [
        {
          "output_type": "execute_result",
          "data": {
            "text/plain": [
              "([1, 2, 3, 4], [3, 4])"
            ]
          },
          "metadata": {
            "tags": []
          },
          "execution_count": 21
        }
      ]
    },
    {
      "cell_type": "code",
      "metadata": {
        "id": "tqOhJJ2_nUoD",
        "colab_type": "code",
        "colab": {
          "base_uri": "https://localhost:8080/",
          "height": 35
        },
        "outputId": "dc68b26c-7c0a-4913-88fe-3d8c652eef22"
      },
      "source": [
        "t = (10, 20)\n",
        "u = (30, 40)\n",
        "\n",
        "f(t, u)"
      ],
      "execution_count": 22,
      "outputs": [
        {
          "output_type": "execute_result",
          "data": {
            "text/plain": [
              "(10, 20, 30, 40)"
            ]
          },
          "metadata": {
            "tags": []
          },
          "execution_count": 22
        }
      ]
    },
    {
      "cell_type": "code",
      "metadata": {
        "id": "x4fqbLdTnf6v",
        "colab_type": "code",
        "colab": {
          "base_uri": "https://localhost:8080/",
          "height": 35
        },
        "outputId": "1b96b053-c75b-4ea9-8b15-ad276e0eee2b"
      },
      "source": [
        "# The tuple t is unchanged.\n",
        "t, u"
      ],
      "execution_count": 23,
      "outputs": [
        {
          "output_type": "execute_result",
          "data": {
            "text/plain": [
              "((10, 20), (30, 40))"
            ]
          },
          "metadata": {
            "tags": []
          },
          "execution_count": 23
        }
      ]
    },
    {
      "cell_type": "markdown",
      "metadata": {
        "id": "CYX-eniVntzU",
        "colab_type": "text"
      },
      "source": [
        "### Mutable types as parameter defaults: bad idea"
      ]
    },
    {
      "cell_type": "markdown",
      "metadata": {
        "id": "b0OfabvXnuuX",
        "colab_type": "text"
      },
      "source": [
        "Optional parameters with default values are a great feature of Python function definitions, allowing our APIs to evolve while remaining backward-compatible. However, you should avoid mutable objects as default values for parameters.\n",
        "\n",
        "Here we tried to be clever and instead of having a default value of `passengers=None` we have `passengers=[]`, thus avoiding the if in the\n",
        "previous `__init__`. This “cleverness” gets us into trouble."
      ]
    },
    {
      "cell_type": "code",
      "metadata": {
        "id": "x31qi0Rjnjvn",
        "colab_type": "code",
        "colab": {}
      },
      "source": [
        "# A simple class to illustrate the danger of a mutable default.\n",
        "class HauntedBus:\n",
        "  \"\"\"A bus model haunted by ghost passengers\"\"\"\n",
        "\n",
        "  # When the passengers argument is not passed, this parameter is bound to the\n",
        "  # default list object, which is initially empty.\n",
        "  def __init__(self, passengers=[]):\n",
        "    # This assignment makes self.passengers an alias for passengers which is itself\n",
        "    # an alias for the default list, when no passengers argument is given.\n",
        "    self.passengers = passengers\n",
        "\n",
        "  # When the methods .remove() and .append() are used with self.passengers\n",
        "  # we are actually mutating the default list, which is an attribute of the function object.\n",
        "  def pick(self, name):\n",
        "    self.passengers.append(name)\n",
        "\n",
        "  def drop(self, name):\n",
        "    self.passengers.remove(name)"
      ],
      "execution_count": 41,
      "outputs": []
    },
    {
      "cell_type": "code",
      "metadata": {
        "id": "X06ihxxrpKc0",
        "colab_type": "code",
        "colab": {
          "base_uri": "https://localhost:8080/",
          "height": 35
        },
        "outputId": "392babc2-3985-42b1-d803-62db2546bc90"
      },
      "source": [
        "bus1 = HauntedBus(['Alice', 'Bill'])\n",
        "bus1.passengers"
      ],
      "execution_count": 42,
      "outputs": [
        {
          "output_type": "execute_result",
          "data": {
            "text/plain": [
              "['Alice', 'Bill']"
            ]
          },
          "metadata": {
            "tags": []
          },
          "execution_count": 42
        }
      ]
    },
    {
      "cell_type": "code",
      "metadata": {
        "id": "pPEyIygZpTdA",
        "colab_type": "code",
        "colab": {
          "base_uri": "https://localhost:8080/",
          "height": 35
        },
        "outputId": "b9b932d3-1706-44e3-fadf-5faa36571e9f"
      },
      "source": [
        "bus1.pick('Charlie')\n",
        "bus1.drop('Alice')\n",
        "# So far, so good: no surprises with bus1.\n",
        "bus1.passengers"
      ],
      "execution_count": 43,
      "outputs": [
        {
          "output_type": "execute_result",
          "data": {
            "text/plain": [
              "['Bill', 'Charlie']"
            ]
          },
          "metadata": {
            "tags": []
          },
          "execution_count": 43
        }
      ]
    },
    {
      "cell_type": "code",
      "metadata": {
        "id": "sxTipH7Bpgyz",
        "colab_type": "code",
        "colab": {
          "base_uri": "https://localhost:8080/",
          "height": 35
        },
        "outputId": "786460f7-a795-4fc9-93eb-3f81350e74e9"
      },
      "source": [
        "# bus2 starts empty, so the default empty list is assigned to self.passengers.\n",
        "bus2 = HauntedBus()\n",
        "bus2.pick('Carrie')\n",
        "bus2.passengers"
      ],
      "execution_count": 44,
      "outputs": [
        {
          "output_type": "execute_result",
          "data": {
            "text/plain": [
              "['Carrie']"
            ]
          },
          "metadata": {
            "tags": []
          },
          "execution_count": 44
        }
      ]
    },
    {
      "cell_type": "code",
      "metadata": {
        "id": "9xz6jZWfp0Yk",
        "colab_type": "code",
        "colab": {
          "base_uri": "https://localhost:8080/",
          "height": 35
        },
        "outputId": "bfdd4bc9-089e-4429-d31d-257bdf7c1e15"
      },
      "source": [
        "# bus3 also starts empty, again the default list is assigned.\n",
        "bus3 = HauntedBus()\n",
        "# The default is no longer empty!\n",
        "bus3.passengers"
      ],
      "execution_count": 45,
      "outputs": [
        {
          "output_type": "execute_result",
          "data": {
            "text/plain": [
              "['Carrie']"
            ]
          },
          "metadata": {
            "tags": []
          },
          "execution_count": 45
        }
      ]
    },
    {
      "cell_type": "code",
      "metadata": {
        "id": "MUXadMp0qDsG",
        "colab_type": "code",
        "colab": {
          "base_uri": "https://localhost:8080/",
          "height": 35
        },
        "outputId": "b4a43b1b-9cb4-48b8-f7b2-c52596a04813"
      },
      "source": [
        "bus3.pick('Dave')\n",
        "# Now Dave, picked by bus3, appears in bus2.\n",
        "bus2.passengers"
      ],
      "execution_count": 46,
      "outputs": [
        {
          "output_type": "execute_result",
          "data": {
            "text/plain": [
              "['Carrie', 'Dave']"
            ]
          },
          "metadata": {
            "tags": []
          },
          "execution_count": 46
        }
      ]
    },
    {
      "cell_type": "code",
      "metadata": {
        "id": "zGC5TjrZqOGS",
        "colab_type": "code",
        "colab": {
          "base_uri": "https://localhost:8080/",
          "height": 35
        },
        "outputId": "62d05ed9-2e26-4c30-d24c-15beea2558b6"
      },
      "source": [
        "# The problem: bus2.passengers and bus3.passengers refer to the same list.\n",
        "bus2.passengers is bus3.passengers"
      ],
      "execution_count": 47,
      "outputs": [
        {
          "output_type": "execute_result",
          "data": {
            "text/plain": [
              "True"
            ]
          },
          "metadata": {
            "tags": []
          },
          "execution_count": 47
        }
      ]
    },
    {
      "cell_type": "code",
      "metadata": {
        "id": "YAHJYJ2nqkY6",
        "colab_type": "code",
        "colab": {
          "base_uri": "https://localhost:8080/",
          "height": 35
        },
        "outputId": "ffd7ffcb-3978-4f1e-ca57-d78ce1986b8b"
      },
      "source": [
        "# But bus1.passengers is a distinct list.\n",
        "bus1.passengers"
      ],
      "execution_count": 48,
      "outputs": [
        {
          "output_type": "execute_result",
          "data": {
            "text/plain": [
              "['Bill', 'Charlie']"
            ]
          },
          "metadata": {
            "tags": []
          },
          "execution_count": 48
        }
      ]
    },
    {
      "cell_type": "markdown",
      "metadata": {
        "id": "RHpX1UWxq14k",
        "colab_type": "text"
      },
      "source": [
        "The problem is that Bus instances that don’t get an initial passenger list end up sharing the same passenger list among themselves.\n",
        "\n",
        "The problem is that each default value is evaluated when the function is defined — i.e. usually when the module is loaded — and the default values become attributes of the function object. So if a default value is a mutable object, and you change it, the change will affect every future call of the function.\n",
        "\n",
        "you can inspect the HauntedBus.`__init__` object and see the ghost students haunting its `__defaults__` attribute."
      ]
    },
    {
      "cell_type": "code",
      "metadata": {
        "id": "rc45s8XlqrOt",
        "colab_type": "code",
        "colab": {
          "base_uri": "https://localhost:8080/",
          "height": 639
        },
        "outputId": "8febc711-ebcf-42da-c43b-fce90e55398f"
      },
      "source": [
        "dir(HauntedBus.__init__)"
      ],
      "execution_count": 49,
      "outputs": [
        {
          "output_type": "execute_result",
          "data": {
            "text/plain": [
              "['__annotations__',\n",
              " '__call__',\n",
              " '__class__',\n",
              " '__closure__',\n",
              " '__code__',\n",
              " '__defaults__',\n",
              " '__delattr__',\n",
              " '__dict__',\n",
              " '__dir__',\n",
              " '__doc__',\n",
              " '__eq__',\n",
              " '__format__',\n",
              " '__ge__',\n",
              " '__get__',\n",
              " '__getattribute__',\n",
              " '__globals__',\n",
              " '__gt__',\n",
              " '__hash__',\n",
              " '__init__',\n",
              " '__init_subclass__',\n",
              " '__kwdefaults__',\n",
              " '__le__',\n",
              " '__lt__',\n",
              " '__module__',\n",
              " '__name__',\n",
              " '__ne__',\n",
              " '__new__',\n",
              " '__qualname__',\n",
              " '__reduce__',\n",
              " '__reduce_ex__',\n",
              " '__repr__',\n",
              " '__setattr__',\n",
              " '__sizeof__',\n",
              " '__str__',\n",
              " '__subclasshook__']"
            ]
          },
          "metadata": {
            "tags": []
          },
          "execution_count": 49
        }
      ]
    },
    {
      "cell_type": "code",
      "metadata": {
        "id": "-oK5BG8krtTF",
        "colab_type": "code",
        "colab": {
          "base_uri": "https://localhost:8080/",
          "height": 35
        },
        "outputId": "23be8c16-9513-4543-90a4-ae4401d2e3fc"
      },
      "source": [
        "HauntedBus.__init__.__defaults__"
      ],
      "execution_count": 50,
      "outputs": [
        {
          "output_type": "execute_result",
          "data": {
            "text/plain": [
              "(['Carrie', 'Dave'],)"
            ]
          },
          "metadata": {
            "tags": []
          },
          "execution_count": 50
        }
      ]
    },
    {
      "cell_type": "markdown",
      "metadata": {
        "id": "J_3maTyTr-UN",
        "colab_type": "text"
      },
      "source": [
        "Finally, we can verify that bus2.passengers is an alias bound to the first element of the HauntedBus.`__init__.__defaults__` attribute:"
      ]
    },
    {
      "cell_type": "code",
      "metadata": {
        "id": "FH_DqWpIr6i3",
        "colab_type": "code",
        "colab": {
          "base_uri": "https://localhost:8080/",
          "height": 35
        },
        "outputId": "ab01e392-2864-4f25-89da-527f73256668"
      },
      "source": [
        "HauntedBus.__init__.__defaults__[0] is bus2.passengers"
      ],
      "execution_count": 51,
      "outputs": [
        {
          "output_type": "execute_result",
          "data": {
            "text/plain": [
              "True"
            ]
          },
          "metadata": {
            "tags": []
          },
          "execution_count": 51
        }
      ]
    },
    {
      "cell_type": "markdown",
      "metadata": {
        "id": "8R0dBVJtsVjv",
        "colab_type": "text"
      },
      "source": [
        "The issue with mutable defaults explains why None is often used as the default value for parameters that may receive mutable values."
      ]
    },
    {
      "cell_type": "markdown",
      "metadata": {
        "id": "z9Au1q24sboW",
        "colab_type": "text"
      },
      "source": [
        "### Defensive programming with mutable parameters"
      ]
    },
    {
      "cell_type": "markdown",
      "metadata": {
        "id": "Uy8BWMC6scr4",
        "colab_type": "text"
      },
      "source": [
        "When you are coding a function that receives a mutable parameter you should carefully consider whether the caller expects the argument passed to be changed.\n",
        "\n",
        "TwilightBus violates the “Principle of least astonishment”, a best practice of interface design. It surely is astonishing that when the bus drops a student, her name is removed from the basketball team roster."
      ]
    },
    {
      "cell_type": "code",
      "metadata": {
        "id": "xOJohKr7sKpS",
        "colab_type": "code",
        "colab": {}
      },
      "source": [
        "# A simple class to show the perils of mutating received arguments.\n",
        "class TwilightBus:\n",
        "  \"\"\"A bus model that makes passengers vanish\"\"\"\n",
        "  def __init__(self, passengers=None):\n",
        "    if passengers is None:\n",
        "      # Here we are careful to create a new empty list when passengers is None.\n",
        "      self.passengers = []\n",
        "    else:\n",
        "      # However, this assignment makes self.passengers an alias for passengers\n",
        "      # which is itself an alias for the actual argument passed to __init__ — basket ball_team\n",
        "      self.passengers = passengers\n",
        "\n",
        "  def pick(self, name):\n",
        "    self.passengers.append(name)\n",
        "\n",
        "  def drop(self, name):\n",
        "    self.passengers.remove(name)"
      ],
      "execution_count": 52,
      "outputs": []
    },
    {
      "cell_type": "code",
      "metadata": {
        "id": "p4rhZfNBt4Yf",
        "colab_type": "code",
        "colab": {
          "base_uri": "https://localhost:8080/",
          "height": 35
        },
        "outputId": "3748ea4b-4fde-4f48-9bc1-b5d3b6282798"
      },
      "source": [
        "# Passengers disappear when dropped by a TwilightBus.\n",
        "basketball_team = ['Sue', 'Tina', 'Maya', 'Diana', 'Pat']\n",
        "\n",
        "# A TwilightBus is loaded with the team.\n",
        "bus = TwilightBus(basketball_team)\n",
        "\n",
        "# The bus drops one student, then another.\n",
        "bus.drop('Tina')\n",
        "bus.drop('Pat')\n",
        "\n",
        "# The dropped passengers vanished from the basketball team!\n",
        "basketball_team"
      ],
      "execution_count": 53,
      "outputs": [
        {
          "output_type": "execute_result",
          "data": {
            "text/plain": [
              "['Sue', 'Maya', 'Diana']"
            ]
          },
          "metadata": {
            "tags": []
          },
          "execution_count": 53
        }
      ]
    },
    {
      "cell_type": "markdown",
      "metadata": {
        "id": "3bwR8GnYu1iZ",
        "colab_type": "text"
      },
      "source": [
        "The problem here is that the bus is aliasing the list that is passed to the constructor. Instead, it should keep its own passenger list. \n",
        "\n",
        "The fix is simple: in `__init__`, when the passengers parameter is provided, self.passengers should be initialized with a copy of it."
      ]
    },
    {
      "cell_type": "code",
      "metadata": {
        "id": "k_T6cZkrufaH",
        "colab_type": "code",
        "colab": {}
      },
      "source": [
        "# A simple class to show the perils of mutating received arguments.\n",
        "class TwilightBus:\n",
        "  \"\"\"A bus model that makes passengers vanish\"\"\"\n",
        "  def __init__(self, passengers=None):\n",
        "    if passengers is None:\n",
        "      # Here we are careful to create a new empty list when passengers is None.\n",
        "      self.passengers = []\n",
        "    else:\n",
        "      # Make a copy of the passengers list, or convert it to a list if it’s not one.\n",
        "      self.passengers = list(passengers)\n",
        "\n",
        "  def pick(self, name):\n",
        "    self.passengers.append(name)\n",
        "\n",
        "  def drop(self, name):\n",
        "    self.passengers.remove(name)"
      ],
      "execution_count": null,
      "outputs": []
    },
    {
      "cell_type": "markdown",
      "metadata": {
        "id": "AZjkSsisvMyE",
        "colab_type": "text"
      },
      "source": [
        "Now our internal handling of the passenger list will not affect the argument used to initialize the bus.\n",
        "\n",
        "As a bonus, this solution is more flexible: now the argument passed\n",
        "to the passengers parameter may be a tuple or any other iterable, like a set or even database results, because the list constructor accepts any iterable."
      ]
    },
    {
      "cell_type": "markdown",
      "metadata": {
        "id": "RO-XImmpvoB3",
        "colab_type": "text"
      },
      "source": [
        "## del and garbage collection"
      ]
    },
    {
      "cell_type": "markdown",
      "metadata": {
        "id": "ReXXCj43vpD4",
        "colab_type": "text"
      },
      "source": [
        ""
      ]
    }
  ]
}