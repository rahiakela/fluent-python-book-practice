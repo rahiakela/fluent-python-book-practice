{
  "nbformat": 4,
  "nbformat_minor": 0,
  "metadata": {
    "colab": {
      "name": "9-pythonic-object.ipynb",
      "provenance": [],
      "toc_visible": true,
      "authorship_tag": "ABX9TyMnmxStmrfP4i0V1RRJ8lMX",
      "include_colab_link": true
    },
    "kernelspec": {
      "name": "python3",
      "display_name": "Python 3"
    }
  },
  "cells": [
    {
      "cell_type": "markdown",
      "metadata": {
        "id": "view-in-github",
        "colab_type": "text"
      },
      "source": [
        "<a href=\"https://colab.research.google.com/github/rahiakela/fluent-python-book-practice/blob/master/part-iv-object-oriented-idioms/9_pythonic_object.ipynb\" target=\"_parent\"><img src=\"https://colab.research.google.com/assets/colab-badge.svg\" alt=\"Open In Colab\"/></a>"
      ]
    },
    {
      "cell_type": "markdown",
      "metadata": {
        "id": "apY0F4I7Jk4l",
        "colab_type": "text"
      },
      "source": [
        "# A Pythonic object"
      ]
    },
    {
      "cell_type": "markdown",
      "metadata": {
        "id": "n7qwk4VaJlva",
        "colab_type": "text"
      },
      "source": [
        "Thanks to the Python data model, your user-defined types can behave as naturally as the built-in types. And this can be accomplished without inheritance, in the spirit of duck typing: you just implement the methods needed for your objects to behave as expected.\n",
        "\n"
      ]
    },
    {
      "cell_type": "markdown",
      "metadata": {
        "id": "_QHqdTd0J-m4",
        "colab_type": "text"
      },
      "source": [
        "## Object representations"
      ]
    },
    {
      "cell_type": "markdown",
      "metadata": {
        "id": "m-1q3cLYJ_jg",
        "colab_type": "text"
      },
      "source": [
        "Every object-oriented language has at least one standard way of getting a string representation from any object.\n",
        "\n",
        "- **repr()**: Return a string representing the object as the developer wants to see it.\n",
        "- **str()**: Return a string representing the object as the user wants to see it.\n",
        "\n",
        "As you know, we implement the special methods __repr__ and __str__ to support repr() and str()."
      ]
    },
    {
      "cell_type": "markdown",
      "metadata": {
        "id": "nWc-GygeKdZG",
        "colab_type": "text"
      },
      "source": [
        "## Vector class redux"
      ]
    },
    {
      "cell_type": "markdown",
      "metadata": {
        "id": "QQnAdrcBKeT_",
        "colab_type": "text"
      },
      "source": [
        "To demonstrate the many methods used to generate object representations, we’ll use a 2D Vector2d class.At this point, Vector2d uses several\n",
        "special methods to provide operations that a Pythonista expects in a well designed object."
      ]
    },
    {
      "cell_type": "code",
      "metadata": {
        "id": "Z8SIQwAWOblt",
        "colab_type": "code",
        "colab": {}
      },
      "source": [
        "from array import array\n",
        "import math"
      ],
      "execution_count": 15,
      "outputs": []
    },
    {
      "cell_type": "code",
      "metadata": {
        "id": "pd5-Clg8K1pH",
        "colab_type": "code",
        "colab": {}
      },
      "source": [
        "class Vector2D:\n",
        "  # typecode is a class attribute we’ll use when converting Vector2d instances to/from bytes.\n",
        "  typecode = 'd'\n",
        "\n",
        "  def __init__(self, x, y):\n",
        "    # Converting x and y to float in __init__ catches errors early\n",
        "    self.x = float(x)\n",
        "    self.y = float(y)\n",
        "\n",
        "  def __iter__(self):\n",
        "    # makes it iterable; this is what makes unpacking work, e.g, x, y = my_vector.\n",
        "    return (i for i in (self.x, self.y))\n",
        "\n",
        "  def __repr__(self):\n",
        "    class_name = type(self).__name__\n",
        "    # builds a string by interpolating the components with {!r} to get their\n",
        "    # repr; because Vector2d is iterable, *self feeds the x and y components to format.\n",
        "    return '{}({!r}, {!r})'.format(class_name, *self)\n",
        "\n",
        "  def __str__(self):\n",
        "    # From an iterable Vector2d it’s easy to build a tuple for display as an ordered pair.\n",
        "    return str(tuple(self))\n",
        "\n",
        "  def __bytes__(self):\n",
        "    # To generate bytes, we convert the typecode to bytes and concatenate…\n",
        "    # …bytes converted from an array built by iterating over the instance.\n",
        "    return (bytes([ord(self.typecode)]) + bytes(array(self.typecode, self)))\n",
        "\n",
        "  def __eq__(self, other):\n",
        "    # To quickly compare all components, build tuples out of the operands.\n",
        "    return tuple(self) == tuple(other)\n",
        "\n",
        "  def __abs__(self):\n",
        "    # The magnitude is the length of the hypotenuse of the triangle formed by the x and y components.\n",
        "    return math.hypot(self.x, self.y)\n",
        "\n",
        "  def __bool__(self):\n",
        "    # uses abs(self) to compute the magnitude, then converts it to bool\n",
        "    return bool(abs(self))"
      ],
      "execution_count": 16,
      "outputs": []
    },
    {
      "cell_type": "markdown",
      "metadata": {
        "id": "kBCYoxG6PnCM",
        "colab_type": "text"
      },
      "source": [
        "The basic behavior we expect from a Vector2d instance.Vector2d instances have several representations."
      ]
    },
    {
      "cell_type": "code",
      "metadata": {
        "id": "7iK6z-2rOcQk",
        "colab_type": "code",
        "colab": {
          "base_uri": "https://localhost:8080/",
          "height": 35
        },
        "outputId": "63ff500a-dd58-47a2-90be-c55aab138f9f"
      },
      "source": [
        "v1 = Vector2D(3, 4)\n",
        "# The components of a Vector2d can be accessed directly as attributes (no getter method calls).\n",
        "print(v1.x, v1.y)"
      ],
      "execution_count": 17,
      "outputs": [
        {
          "output_type": "stream",
          "text": [
            "3.0 4.0\n"
          ],
          "name": "stdout"
        }
      ]
    },
    {
      "cell_type": "code",
      "metadata": {
        "id": "MNc_6fOXQCv4",
        "colab_type": "code",
        "colab": {
          "base_uri": "https://localhost:8080/",
          "height": 35
        },
        "outputId": "777c0e13-2847-431d-88d6-f6d8b6cc47ce"
      },
      "source": [
        "# A Vector2d can be unpacked to a tuple of variables.\n",
        "x, y = v1\n",
        "x, y"
      ],
      "execution_count": 18,
      "outputs": [
        {
          "output_type": "execute_result",
          "data": {
            "text/plain": [
              "(3.0, 4.0)"
            ]
          },
          "metadata": {
            "tags": []
          },
          "execution_count": 18
        }
      ]
    },
    {
      "cell_type": "code",
      "metadata": {
        "id": "AlAQ3llUQQ5j",
        "colab_type": "code",
        "colab": {
          "base_uri": "https://localhost:8080/",
          "height": 35
        },
        "outputId": "93e5b404-d3b1-467e-e011-3a16eb11d914"
      },
      "source": [
        "# The repr of a Vector2d emulates the source code for constructing the instance.\n",
        "v1"
      ],
      "execution_count": 19,
      "outputs": [
        {
          "output_type": "execute_result",
          "data": {
            "text/plain": [
              "Vector2D(3.0, 4.0)"
            ]
          },
          "metadata": {
            "tags": []
          },
          "execution_count": 19
        }
      ]
    },
    {
      "cell_type": "code",
      "metadata": {
        "id": "Re0ZcHH4QZmm",
        "colab_type": "code",
        "colab": {
          "base_uri": "https://localhost:8080/",
          "height": 35
        },
        "outputId": "1f82fdb9-d557-4462-b9ea-19aa8ac56a88"
      },
      "source": [
        "# Using eval here shows that the repr of a Vector2d is a faithful representation of its constructor call\n",
        "v1_clone = eval(repr(v1))\n",
        "\n",
        "# Vector2d supports comparison with ==; this is useful for testing.\n",
        "v1 == v1_clone\n",
        "\n",
        "# print calls str, which for Vector2d produces an ordered pair display\n",
        "print(v1)"
      ],
      "execution_count": 20,
      "outputs": [
        {
          "output_type": "stream",
          "text": [
            "(3.0, 4.0)\n"
          ],
          "name": "stdout"
        }
      ]
    },
    {
      "cell_type": "code",
      "metadata": {
        "id": "LbbNf8RZQ1d9",
        "colab_type": "code",
        "colab": {
          "base_uri": "https://localhost:8080/",
          "height": 35
        },
        "outputId": "2663aa19-0a51-4c08-e51e-3bac5aa62622"
      },
      "source": [
        "# bytes uses the __bytes__ method to produce a binary representation.\n",
        "octets = bytes(v1)\n",
        "octets"
      ],
      "execution_count": 21,
      "outputs": [
        {
          "output_type": "execute_result",
          "data": {
            "text/plain": [
              "b'd\\x00\\x00\\x00\\x00\\x00\\x00\\x08@\\x00\\x00\\x00\\x00\\x00\\x00\\x10@'"
            ]
          },
          "metadata": {
            "tags": []
          },
          "execution_count": 21
        }
      ]
    },
    {
      "cell_type": "code",
      "metadata": {
        "id": "2z2LP576Q80u",
        "colab_type": "code",
        "colab": {
          "base_uri": "https://localhost:8080/",
          "height": 35
        },
        "outputId": "e2d51fa7-9c74-4500-d253-f52c6c241b73"
      },
      "source": [
        "# abs uses the __abs__ method to return the magnitude of the Vector2d.\n",
        "abs(v1)"
      ],
      "execution_count": 22,
      "outputs": [
        {
          "output_type": "execute_result",
          "data": {
            "text/plain": [
              "5.0"
            ]
          },
          "metadata": {
            "tags": []
          },
          "execution_count": 22
        }
      ]
    },
    {
      "cell_type": "code",
      "metadata": {
        "id": "yG7m4DSERrpp",
        "colab_type": "code",
        "colab": {
          "base_uri": "https://localhost:8080/",
          "height": 35
        },
        "outputId": "ea4077fb-cb76-4341-cea4-ecfeda07f18c"
      },
      "source": [
        "# bool uses the __bool__ method to return False for a Vector2d of zero magnitude or True otherwise.\n",
        "bool(v1), bool(Vector2D(0, 0))"
      ],
      "execution_count": 23,
      "outputs": [
        {
          "output_type": "execute_result",
          "data": {
            "text/plain": [
              "(True, False)"
            ]
          },
          "metadata": {
            "tags": []
          },
          "execution_count": 23
        }
      ]
    },
    {
      "cell_type": "markdown",
      "metadata": {
        "id": "EPh1yOP2OpmR",
        "colab_type": "text"
      },
      "source": [
        "## An alternative constructor"
      ]
    },
    {
      "cell_type": "markdown",
      "metadata": {
        "id": "U2xAtNVDOqjj",
        "colab_type": "text"
      },
      "source": [
        "We have a fairly complete set of basic methods, but one obvious operation is missing: rebuilding a Vector2d from the binary representation produced by bytes().\n",
        "\n"
      ]
    }
  ]
}