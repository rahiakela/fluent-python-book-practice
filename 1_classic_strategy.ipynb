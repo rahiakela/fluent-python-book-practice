{
  "nbformat": 4,
  "nbformat_minor": 0,
  "metadata": {
    "colab": {
      "name": "1-classic-strategy.ipynb",
      "provenance": [],
      "toc_visible": true,
      "authorship_tag": "ABX9TyM2axQbd/JO/F/Xz4xJW7KY",
      "include_colab_link": true
    },
    "kernelspec": {
      "name": "python3",
      "display_name": "Python 3"
    }
  },
  "cells": [
    {
      "cell_type": "markdown",
      "metadata": {
        "id": "view-in-github",
        "colab_type": "text"
      },
      "source": [
        "<a href=\"https://colab.research.google.com/github/rahiakela/fluent-python-book-practice/blob/6-design-patterns-with-first-class-functions/1_classic_strategy.ipynb\" target=\"_parent\"><img src=\"https://colab.research.google.com/assets/colab-badge.svg\" alt=\"Open In Colab\"/></a>"
      ]
    },
    {
      "cell_type": "markdown",
      "metadata": {
        "id": "pjPJo_sQqesU",
        "colab_type": "text"
      },
      "source": [
        "# Design patterns with first-class functions"
      ]
    },
    {
      "cell_type": "markdown",
      "metadata": {
        "id": "jmCVbN95qfgm",
        "colab_type": "text"
      },
      "source": [
        "Although design patterns are language-independent, that does not mean every pattern applies to every language. In his 1996, Peter Norvig states that 16 out of the 23 patterns in the original Design Patterns book by Gamma et.al. become either “invisible or simpler” in a dynamic language.\n",
        "\n",
        "In particular, in the context of languages with first-class functions, Norvig suggests rethinking the Strategy, Command, Template Method and Visitor patterns. \n",
        "\n",
        "The general idea is: you can replace instances of some participant class in these patterns with simple functions, reducing a lot of boilerplate code.\n",
        "\n",
        "So we will refactor Strategy using function objects, and discuss a similar approach to simplifying the Command pattern."
      ]
    },
    {
      "cell_type": "markdown",
      "metadata": {
        "id": "FRkUNMGIsRin",
        "colab_type": "text"
      },
      "source": [
        "## Case study: refactoring Strategy"
      ]
    },
    {
      "cell_type": "markdown",
      "metadata": {
        "id": "qV5sAuNisSoD",
        "colab_type": "text"
      },
      "source": [
        "Strategy is a good example of a design pattern that can be simpler in Python if you leverage functions as first class objects. In the following section we describe and implement\n",
        "Strategy using the “classic” structure described in the Design patterns book.\n",
        "\n",
        "<img src='https://github.com/rahiakela/img-repo/blob/master/strategy-design-pattern.png?raw=1' width='800'/>\n",
        "\n",
        "A clear example of Strategy applied in the e-commerce domain is computing discounts to orders according to the attributes of the customer or inspection of the ordered items.\n",
        "\n",
        "Consider an online store with these discount rules:\n",
        "\n",
        "* customers with 1000 or more fidelity points get a global 5% discount per order;\n",
        "* a 10% discount is applied to each line item with 20 or more units in the same order;\n",
        "* orders with at least 10 distinct items get a 7% global discount.\n",
        "\n",
        "For brevity, let us assume that only one discount may be applied to an order.\n",
        "\n",
        "Strategy pattern participants are:\n",
        "* **Context**\n",
        "    * Provides a service by delegating some computation to interchangeable components that implement alternative algorithms. In the e-commerce example, the context is an Order, which is configured to apply a promotional discount according to one of several algorithms.\n",
        "\n",
        "* **Strategy**\n",
        "    * The interface common to the components that implement the different algorithms. In our example, this role is played by an abstract class called Promotion.\n",
        "\n",
        "* **Concrete Strategy**\n",
        "    * One of the concrete subclasses of Strategy. FidelityPromo, BulkPromo and Large OrderPromo are the three concrete strategies implemented.\n",
        "\n",
        "The concrete strategy is chosen by the client of the context class. In our example, before instantiating an order, the system would somehow select a promotional discount strategy and pass it to the Order constructor. The selection of the strategy is outside of the scope of the pattern.\n"
      ]
    },
    {
      "cell_type": "code",
      "metadata": {
        "id": "xEamLMQywr1V",
        "colab_type": "code",
        "colab": {}
      },
      "source": [
        "from abc import ABC, abstractmethod\n",
        "from collections import namedtuple\n",
        "\n",
        "Customer = namedtuple('Customer', 'name fidelity')\n",
        "\n",
        "class LineItem:\n",
        "  def __init__(self, product, quantity, price):\n",
        "    self.product = product\n",
        "    self.quantity = quantity\n",
        "    self.price = price\n",
        "\n",
        "  def total(self):\n",
        "    return self.price * self.quantity\n",
        "\n",
        "# the Context\n"
      ],
      "execution_count": 0,
      "outputs": []
    }
  ]
}